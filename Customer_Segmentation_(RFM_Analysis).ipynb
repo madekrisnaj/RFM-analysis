{
  "nbformat": 4,
  "nbformat_minor": 0,
  "metadata": {
    "colab": {
      "name": "Customer Segmentation (RFM Analysis).ipynb",
      "provenance": [],
      "collapsed_sections": [
        "C5-b16dPSrjv",
        "2-ev_IA30EGu",
        "pd-MplkSChhc",
        "j1zg4P91rVEW"
      ]
    },
    "kernelspec": {
      "display_name": "Python 3",
      "language": "python",
      "name": "python3"
    },
    "language_info": {
      "codemirror_mode": {
        "name": "ipython",
        "version": 3
      },
      "file_extension": ".py",
      "mimetype": "text/x-python",
      "name": "python",
      "nbconvert_exporter": "python",
      "pygments_lexer": "ipython3",
      "version": "3.8.5"
    }
  },
  "cells": [
    {
      "cell_type": "code",
      "metadata": {
        "id": "LS2Ttd7YQmTq"
      },
      "source": [
        "import numpy as np\n",
        "import pandas as pd\n",
        "import matplotlib.pyplot as plt\n",
        "import seaborn as sns\n",
        "import datetime as dt\n",
        "from scipy import stats\n",
        "from sklearn.preprocessing import MinMaxScaler\n",
        "from sklearn.manifold import TSNE\n",
        "from sklearn.cluster import KMeans\n",
        "\n",
        "import warnings\n",
        "warnings.filterwarnings('ignore')"
      ],
      "execution_count": null,
      "outputs": []
    },
    {
      "cell_type": "code",
      "metadata": {
        "id": "PnofcdYCSFqQ"
      },
      "source": [
        "data = pd.read_csv('/content/drive/MyDrive/Homework Python/Final Project\\/data.csv', encoding= 'unicode_escape')"
      ],
      "execution_count": null,
      "outputs": []
    },
    {
      "cell_type": "code",
      "metadata": {
        "colab": {
          "base_uri": "https://localhost:8080/",
          "height": 195
        },
        "id": "1JiEo_l7SODa",
        "outputId": "1eab62f5-5501-447c-f358-ff901658d9d2"
      },
      "source": [
        "data.head()"
      ],
      "execution_count": null,
      "outputs": [
        {
          "output_type": "execute_result",
          "data": {
            "text/html": [
              "<div>\n",
              "<style scoped>\n",
              "    .dataframe tbody tr th:only-of-type {\n",
              "        vertical-align: middle;\n",
              "    }\n",
              "\n",
              "    .dataframe tbody tr th {\n",
              "        vertical-align: top;\n",
              "    }\n",
              "\n",
              "    .dataframe thead th {\n",
              "        text-align: right;\n",
              "    }\n",
              "</style>\n",
              "<table border=\"1\" class=\"dataframe\">\n",
              "  <thead>\n",
              "    <tr style=\"text-align: right;\">\n",
              "      <th></th>\n",
              "      <th>InvoiceNo</th>\n",
              "      <th>StockCode</th>\n",
              "      <th>Description</th>\n",
              "      <th>Quantity</th>\n",
              "      <th>InvoiceDate</th>\n",
              "      <th>UnitPrice</th>\n",
              "      <th>CustomerID</th>\n",
              "      <th>Country</th>\n",
              "    </tr>\n",
              "  </thead>\n",
              "  <tbody>\n",
              "    <tr>\n",
              "      <th>0</th>\n",
              "      <td>536365</td>\n",
              "      <td>85123A</td>\n",
              "      <td>WHITE HANGING HEART T-LIGHT HOLDER</td>\n",
              "      <td>6</td>\n",
              "      <td>12/1/2010 8:26</td>\n",
              "      <td>2.55</td>\n",
              "      <td>17850.0</td>\n",
              "      <td>United Kingdom</td>\n",
              "    </tr>\n",
              "    <tr>\n",
              "      <th>1</th>\n",
              "      <td>536365</td>\n",
              "      <td>71053</td>\n",
              "      <td>WHITE METAL LANTERN</td>\n",
              "      <td>6</td>\n",
              "      <td>12/1/2010 8:26</td>\n",
              "      <td>3.39</td>\n",
              "      <td>17850.0</td>\n",
              "      <td>United Kingdom</td>\n",
              "    </tr>\n",
              "    <tr>\n",
              "      <th>2</th>\n",
              "      <td>536365</td>\n",
              "      <td>84406B</td>\n",
              "      <td>CREAM CUPID HEARTS COAT HANGER</td>\n",
              "      <td>8</td>\n",
              "      <td>12/1/2010 8:26</td>\n",
              "      <td>2.75</td>\n",
              "      <td>17850.0</td>\n",
              "      <td>United Kingdom</td>\n",
              "    </tr>\n",
              "    <tr>\n",
              "      <th>3</th>\n",
              "      <td>536365</td>\n",
              "      <td>84029G</td>\n",
              "      <td>KNITTED UNION FLAG HOT WATER BOTTLE</td>\n",
              "      <td>6</td>\n",
              "      <td>12/1/2010 8:26</td>\n",
              "      <td>3.39</td>\n",
              "      <td>17850.0</td>\n",
              "      <td>United Kingdom</td>\n",
              "    </tr>\n",
              "    <tr>\n",
              "      <th>4</th>\n",
              "      <td>536365</td>\n",
              "      <td>84029E</td>\n",
              "      <td>RED WOOLLY HOTTIE WHITE HEART.</td>\n",
              "      <td>6</td>\n",
              "      <td>12/1/2010 8:26</td>\n",
              "      <td>3.39</td>\n",
              "      <td>17850.0</td>\n",
              "      <td>United Kingdom</td>\n",
              "    </tr>\n",
              "  </tbody>\n",
              "</table>\n",
              "</div>"
            ],
            "text/plain": [
              "  InvoiceNo StockCode  ... CustomerID         Country\n",
              "0    536365    85123A  ...    17850.0  United Kingdom\n",
              "1    536365     71053  ...    17850.0  United Kingdom\n",
              "2    536365    84406B  ...    17850.0  United Kingdom\n",
              "3    536365    84029G  ...    17850.0  United Kingdom\n",
              "4    536365    84029E  ...    17850.0  United Kingdom\n",
              "\n",
              "[5 rows x 8 columns]"
            ]
          },
          "metadata": {
            "tags": []
          },
          "execution_count": 10
        }
      ]
    },
    {
      "cell_type": "markdown",
      "metadata": {
        "id": "C5-b16dPSrjv"
      },
      "source": [
        "# Data Pre-processing"
      ]
    },
    {
      "cell_type": "markdown",
      "metadata": {
        "id": "21-Nr4o1SyuU"
      },
      "source": [
        "## Data cleansing"
      ]
    },
    {
      "cell_type": "markdown",
      "metadata": {
        "id": "SA_6PSgVS-Mw"
      },
      "source": [
        "### Cek Tipe Data"
      ]
    },
    {
      "cell_type": "code",
      "metadata": {
        "colab": {
          "base_uri": "https://localhost:8080/"
        },
        "id": "ku_Z2du2ScmC",
        "outputId": "30256c50-b2fd-46e7-df3a-c227a2f1a37e"
      },
      "source": [
        "data.info()"
      ],
      "execution_count": null,
      "outputs": [
        {
          "output_type": "stream",
          "text": [
            "<class 'pandas.core.frame.DataFrame'>\n",
            "RangeIndex: 541909 entries, 0 to 541908\n",
            "Data columns (total 8 columns):\n",
            " #   Column       Non-Null Count   Dtype  \n",
            "---  ------       --------------   -----  \n",
            " 0   InvoiceNo    541909 non-null  object \n",
            " 1   StockCode    541909 non-null  object \n",
            " 2   Description  540455 non-null  object \n",
            " 3   Quantity     541909 non-null  int64  \n",
            " 4   InvoiceDate  541909 non-null  object \n",
            " 5   UnitPrice    541909 non-null  float64\n",
            " 6   CustomerID   406829 non-null  float64\n",
            " 7   Country      541909 non-null  object \n",
            "dtypes: float64(2), int64(1), object(5)\n",
            "memory usage: 33.1+ MB\n"
          ],
          "name": "stdout"
        }
      ]
    },
    {
      "cell_type": "markdown",
      "metadata": {
        "id": "y1Nb_lEdTOaI"
      },
      "source": [
        "Ada attribute yang tipe datanya kurang sesuai, sehingga dilakukan penanganan untuk menyesuaikan tipe data"
      ]
    },
    {
      "cell_type": "code",
      "metadata": {
        "id": "fvSz667QTL5P"
      },
      "source": [
        "data['InvoiceDate'] = pd.to_datetime(data['InvoiceDate'])"
      ],
      "execution_count": null,
      "outputs": []
    },
    {
      "cell_type": "code",
      "metadata": {
        "colab": {
          "base_uri": "https://localhost:8080/"
        },
        "id": "GjQzO54GWzuH",
        "outputId": "76d3657d-4c7e-47e9-b933-03eb85a65c3f"
      },
      "source": [
        "data.info()"
      ],
      "execution_count": null,
      "outputs": [
        {
          "output_type": "stream",
          "text": [
            "<class 'pandas.core.frame.DataFrame'>\n",
            "RangeIndex: 541909 entries, 0 to 541908\n",
            "Data columns (total 8 columns):\n",
            " #   Column       Non-Null Count   Dtype         \n",
            "---  ------       --------------   -----         \n",
            " 0   InvoiceNo    541909 non-null  object        \n",
            " 1   StockCode    541909 non-null  object        \n",
            " 2   Description  540455 non-null  object        \n",
            " 3   Quantity     541909 non-null  int64         \n",
            " 4   InvoiceDate  541909 non-null  datetime64[ns]\n",
            " 5   UnitPrice    541909 non-null  float64       \n",
            " 6   CustomerID   406829 non-null  float64       \n",
            " 7   Country      541909 non-null  object        \n",
            "dtypes: datetime64[ns](1), float64(2), int64(1), object(4)\n",
            "memory usage: 33.1+ MB\n"
          ],
          "name": "stdout"
        }
      ]
    },
    {
      "cell_type": "code",
      "metadata": {
        "id": "Ki0ldeM5XU8q"
      },
      "source": [
        ""
      ],
      "execution_count": null,
      "outputs": []
    },
    {
      "cell_type": "markdown",
      "metadata": {
        "id": "E74DtXFoY94G"
      },
      "source": [
        "### Cek Missing Value"
      ]
    },
    {
      "cell_type": "code",
      "metadata": {
        "colab": {
          "base_uri": "https://localhost:8080/"
        },
        "id": "1ycqvuD3ZC8B",
        "outputId": "41bab292-0d09-4923-a08f-e70bb96cdea8"
      },
      "source": [
        "round(data.isnull().sum()/data.shape[0]*100,2)"
      ],
      "execution_count": null,
      "outputs": [
        {
          "output_type": "execute_result",
          "data": {
            "text/plain": [
              "InvoiceNo       0.00\n",
              "StockCode       0.00\n",
              "Description     0.27\n",
              "Quantity        0.00\n",
              "InvoiceDate     0.00\n",
              "UnitPrice       0.00\n",
              "CustomerID     24.93\n",
              "Country         0.00\n",
              "dtype: float64"
            ]
          },
          "metadata": {
            "tags": []
          },
          "execution_count": 14
        }
      ]
    },
    {
      "cell_type": "code",
      "metadata": {
        "id": "N2kQnjzRZYVc"
      },
      "source": [
        ""
      ],
      "execution_count": null,
      "outputs": []
    },
    {
      "cell_type": "markdown",
      "metadata": {
        "id": "fBol4rbcaKRI"
      },
      "source": [
        " Handling Missing Value pada Description"
      ]
    },
    {
      "cell_type": "code",
      "metadata": {
        "colab": {
          "base_uri": "https://localhost:8080/"
        },
        "id": "2P17kSNVaPC_",
        "outputId": "f6d43671-056c-4d12-e2be-02730d88a925"
      },
      "source": [
        "data[data['Description'].isnull()]"
      ],
      "execution_count": null,
      "outputs": [
        {
          "output_type": "execute_result",
          "data": {
            "text/html": [
              "<div>\n",
              "<style scoped>\n",
              "    .dataframe tbody tr th:only-of-type {\n",
              "        vertical-align: middle;\n",
              "    }\n",
              "\n",
              "    .dataframe tbody tr th {\n",
              "        vertical-align: top;\n",
              "    }\n",
              "\n",
              "    .dataframe thead th {\n",
              "        text-align: right;\n",
              "    }\n",
              "</style>\n",
              "<table border=\"1\" class=\"dataframe\">\n",
              "  <thead>\n",
              "    <tr style=\"text-align: right;\">\n",
              "      <th></th>\n",
              "      <th>InvoiceNo</th>\n",
              "      <th>StockCode</th>\n",
              "      <th>Description</th>\n",
              "      <th>Quantity</th>\n",
              "      <th>InvoiceDate</th>\n",
              "      <th>UnitPrice</th>\n",
              "      <th>CustomerID</th>\n",
              "      <th>Country</th>\n",
              "    </tr>\n",
              "  </thead>\n",
              "  <tbody>\n",
              "    <tr>\n",
              "      <th>622</th>\n",
              "      <td>536414</td>\n",
              "      <td>22139</td>\n",
              "      <td>NaN</td>\n",
              "      <td>56</td>\n",
              "      <td>2010-12-01 11:52:00</td>\n",
              "      <td>0.0</td>\n",
              "      <td>NaN</td>\n",
              "      <td>United Kingdom</td>\n",
              "    </tr>\n",
              "    <tr>\n",
              "      <th>1970</th>\n",
              "      <td>536545</td>\n",
              "      <td>21134</td>\n",
              "      <td>NaN</td>\n",
              "      <td>1</td>\n",
              "      <td>2010-12-01 14:32:00</td>\n",
              "      <td>0.0</td>\n",
              "      <td>NaN</td>\n",
              "      <td>United Kingdom</td>\n",
              "    </tr>\n",
              "    <tr>\n",
              "      <th>1971</th>\n",
              "      <td>536546</td>\n",
              "      <td>22145</td>\n",
              "      <td>NaN</td>\n",
              "      <td>1</td>\n",
              "      <td>2010-12-01 14:33:00</td>\n",
              "      <td>0.0</td>\n",
              "      <td>NaN</td>\n",
              "      <td>United Kingdom</td>\n",
              "    </tr>\n",
              "    <tr>\n",
              "      <th>1972</th>\n",
              "      <td>536547</td>\n",
              "      <td>37509</td>\n",
              "      <td>NaN</td>\n",
              "      <td>1</td>\n",
              "      <td>2010-12-01 14:33:00</td>\n",
              "      <td>0.0</td>\n",
              "      <td>NaN</td>\n",
              "      <td>United Kingdom</td>\n",
              "    </tr>\n",
              "    <tr>\n",
              "      <th>1987</th>\n",
              "      <td>536549</td>\n",
              "      <td>85226A</td>\n",
              "      <td>NaN</td>\n",
              "      <td>1</td>\n",
              "      <td>2010-12-01 14:34:00</td>\n",
              "      <td>0.0</td>\n",
              "      <td>NaN</td>\n",
              "      <td>United Kingdom</td>\n",
              "    </tr>\n",
              "    <tr>\n",
              "      <th>...</th>\n",
              "      <td>...</td>\n",
              "      <td>...</td>\n",
              "      <td>...</td>\n",
              "      <td>...</td>\n",
              "      <td>...</td>\n",
              "      <td>...</td>\n",
              "      <td>...</td>\n",
              "      <td>...</td>\n",
              "    </tr>\n",
              "    <tr>\n",
              "      <th>535322</th>\n",
              "      <td>581199</td>\n",
              "      <td>84581</td>\n",
              "      <td>NaN</td>\n",
              "      <td>-2</td>\n",
              "      <td>2011-12-07 18:26:00</td>\n",
              "      <td>0.0</td>\n",
              "      <td>NaN</td>\n",
              "      <td>United Kingdom</td>\n",
              "    </tr>\n",
              "    <tr>\n",
              "      <th>535326</th>\n",
              "      <td>581203</td>\n",
              "      <td>23406</td>\n",
              "      <td>NaN</td>\n",
              "      <td>15</td>\n",
              "      <td>2011-12-07 18:31:00</td>\n",
              "      <td>0.0</td>\n",
              "      <td>NaN</td>\n",
              "      <td>United Kingdom</td>\n",
              "    </tr>\n",
              "    <tr>\n",
              "      <th>535332</th>\n",
              "      <td>581209</td>\n",
              "      <td>21620</td>\n",
              "      <td>NaN</td>\n",
              "      <td>6</td>\n",
              "      <td>2011-12-07 18:35:00</td>\n",
              "      <td>0.0</td>\n",
              "      <td>NaN</td>\n",
              "      <td>United Kingdom</td>\n",
              "    </tr>\n",
              "    <tr>\n",
              "      <th>536981</th>\n",
              "      <td>581234</td>\n",
              "      <td>72817</td>\n",
              "      <td>NaN</td>\n",
              "      <td>27</td>\n",
              "      <td>2011-12-08 10:33:00</td>\n",
              "      <td>0.0</td>\n",
              "      <td>NaN</td>\n",
              "      <td>United Kingdom</td>\n",
              "    </tr>\n",
              "    <tr>\n",
              "      <th>538554</th>\n",
              "      <td>581408</td>\n",
              "      <td>85175</td>\n",
              "      <td>NaN</td>\n",
              "      <td>20</td>\n",
              "      <td>2011-12-08 14:06:00</td>\n",
              "      <td>0.0</td>\n",
              "      <td>NaN</td>\n",
              "      <td>United Kingdom</td>\n",
              "    </tr>\n",
              "  </tbody>\n",
              "</table>\n",
              "<p>1454 rows × 8 columns</p>\n",
              "</div>"
            ],
            "text/plain": [
              "       InvoiceNo StockCode Description  ...  UnitPrice CustomerID         Country\n",
              "622       536414     22139         NaN  ...        0.0        NaN  United Kingdom\n",
              "1970      536545     21134         NaN  ...        0.0        NaN  United Kingdom\n",
              "1971      536546     22145         NaN  ...        0.0        NaN  United Kingdom\n",
              "1972      536547     37509         NaN  ...        0.0        NaN  United Kingdom\n",
              "1987      536549    85226A         NaN  ...        0.0        NaN  United Kingdom\n",
              "...          ...       ...         ...  ...        ...        ...             ...\n",
              "535322    581199     84581         NaN  ...        0.0        NaN  United Kingdom\n",
              "535326    581203     23406         NaN  ...        0.0        NaN  United Kingdom\n",
              "535332    581209     21620         NaN  ...        0.0        NaN  United Kingdom\n",
              "536981    581234     72817         NaN  ...        0.0        NaN  United Kingdom\n",
              "538554    581408     85175         NaN  ...        0.0        NaN  United Kingdom\n",
              "\n",
              "[1454 rows x 8 columns]"
            ]
          },
          "metadata": {
            "tags": []
          },
          "execution_count": 15
        }
      ]
    },
    {
      "cell_type": "code",
      "metadata": {
        "id": "Up2N4mvEzi4D"
      },
      "source": [
        ""
      ],
      "execution_count": null,
      "outputs": []
    },
    {
      "cell_type": "markdown",
      "metadata": {
        "id": "n9a1memJalzC"
      },
      "source": [
        "Dari dataframe yang ditampilkan, sekilas dapat terlihat bahwa data yang kosong pada description, cenderung memiliki harga 0. Untuk lebih memastikan dapat melihat UnitPrice pada tiap data NaN pada description"
      ]
    },
    {
      "cell_type": "code",
      "metadata": {
        "colab": {
          "base_uri": "https://localhost:8080/"
        },
        "id": "jtUKhZ-wabeJ",
        "outputId": "c54efa83-b120-414a-d95b-f6a13a03408e"
      },
      "source": [
        "data[data.Description.isnull()].UnitPrice.value_counts()"
      ],
      "execution_count": null,
      "outputs": [
        {
          "output_type": "execute_result",
          "data": {
            "text/plain": [
              "0.0    1454\n",
              "Name: UnitPrice, dtype: int64"
            ]
          },
          "metadata": {
            "tags": []
          },
          "execution_count": 16
        }
      ]
    },
    {
      "cell_type": "markdown",
      "metadata": {
        "id": "ngcYSMztbUK4"
      },
      "source": [
        "Terlihat bahwa semua data yang kosong memiliki nilai 0, oleh karena itu data dihilangkan semua"
      ]
    },
    {
      "cell_type": "code",
      "metadata": {
        "id": "m5M_bPnibQ9t"
      },
      "source": [
        "data = data[data['Description'].notnull()]"
      ],
      "execution_count": null,
      "outputs": []
    },
    {
      "cell_type": "code",
      "metadata": {
        "colab": {
          "base_uri": "https://localhost:8080/"
        },
        "id": "7UeJ7vaZbzxr",
        "outputId": "aa842ea0-259c-47f1-e0c6-48a3a2527a40"
      },
      "source": [
        "data.Description.isnull().value_counts()"
      ],
      "execution_count": null,
      "outputs": [
        {
          "output_type": "execute_result",
          "data": {
            "text/plain": [
              "False    540455\n",
              "Name: Description, dtype: int64"
            ]
          },
          "metadata": {
            "tags": []
          },
          "execution_count": 18
        }
      ]
    },
    {
      "cell_type": "code",
      "metadata": {
        "colab": {
          "base_uri": "https://localhost:8080/"
        },
        "id": "pHjDzT29b61e",
        "outputId": "66065c0a-8e30-40c0-bba7-916d125951a6"
      },
      "source": [
        "round(data.isnull().sum()/data.shape[0]*100,2)"
      ],
      "execution_count": null,
      "outputs": [
        {
          "output_type": "execute_result",
          "data": {
            "text/plain": [
              "InvoiceNo       0.00\n",
              "StockCode       0.00\n",
              "Description     0.00\n",
              "Quantity        0.00\n",
              "InvoiceDate     0.00\n",
              "UnitPrice       0.00\n",
              "CustomerID     24.72\n",
              "Country         0.00\n",
              "dtype: float64"
            ]
          },
          "metadata": {
            "tags": []
          },
          "execution_count": 19
        }
      ]
    },
    {
      "cell_type": "markdown",
      "metadata": {
        "id": "a0scOyQXn_4g"
      },
      "source": [
        "Handling Missing Value pada CustomerID"
      ]
    },
    {
      "cell_type": "code",
      "metadata": {
        "colab": {
          "base_uri": "https://localhost:8080/"
        },
        "id": "7ysngKfloATF",
        "outputId": "60f51c53-cf0f-4595-f881-5c145fbf47e7"
      },
      "source": [
        "value = {'CustomerID':'Guest'}\n",
        "data = data.fillna(value = value)\n",
        "data[data.CustomerID == 'Guest'].head()"
      ],
      "execution_count": null,
      "outputs": [
        {
          "output_type": "execute_result",
          "data": {
            "text/html": [
              "<div>\n",
              "<style scoped>\n",
              "    .dataframe tbody tr th:only-of-type {\n",
              "        vertical-align: middle;\n",
              "    }\n",
              "\n",
              "    .dataframe tbody tr th {\n",
              "        vertical-align: top;\n",
              "    }\n",
              "\n",
              "    .dataframe thead th {\n",
              "        text-align: right;\n",
              "    }\n",
              "</style>\n",
              "<table border=\"1\" class=\"dataframe\">\n",
              "  <thead>\n",
              "    <tr style=\"text-align: right;\">\n",
              "      <th></th>\n",
              "      <th>InvoiceNo</th>\n",
              "      <th>StockCode</th>\n",
              "      <th>Description</th>\n",
              "      <th>Quantity</th>\n",
              "      <th>InvoiceDate</th>\n",
              "      <th>UnitPrice</th>\n",
              "      <th>CustomerID</th>\n",
              "      <th>Country</th>\n",
              "    </tr>\n",
              "  </thead>\n",
              "  <tbody>\n",
              "    <tr>\n",
              "      <th>1443</th>\n",
              "      <td>536544</td>\n",
              "      <td>21773</td>\n",
              "      <td>DECORATIVE ROSE BATHROOM BOTTLE</td>\n",
              "      <td>1</td>\n",
              "      <td>2010-12-01 14:32:00</td>\n",
              "      <td>2.51</td>\n",
              "      <td>Guest</td>\n",
              "      <td>United Kingdom</td>\n",
              "    </tr>\n",
              "    <tr>\n",
              "      <th>1444</th>\n",
              "      <td>536544</td>\n",
              "      <td>21774</td>\n",
              "      <td>DECORATIVE CATS BATHROOM BOTTLE</td>\n",
              "      <td>2</td>\n",
              "      <td>2010-12-01 14:32:00</td>\n",
              "      <td>2.51</td>\n",
              "      <td>Guest</td>\n",
              "      <td>United Kingdom</td>\n",
              "    </tr>\n",
              "    <tr>\n",
              "      <th>1445</th>\n",
              "      <td>536544</td>\n",
              "      <td>21786</td>\n",
              "      <td>POLKADOT RAIN HAT</td>\n",
              "      <td>4</td>\n",
              "      <td>2010-12-01 14:32:00</td>\n",
              "      <td>0.85</td>\n",
              "      <td>Guest</td>\n",
              "      <td>United Kingdom</td>\n",
              "    </tr>\n",
              "    <tr>\n",
              "      <th>1446</th>\n",
              "      <td>536544</td>\n",
              "      <td>21787</td>\n",
              "      <td>RAIN PONCHO RETROSPOT</td>\n",
              "      <td>2</td>\n",
              "      <td>2010-12-01 14:32:00</td>\n",
              "      <td>1.66</td>\n",
              "      <td>Guest</td>\n",
              "      <td>United Kingdom</td>\n",
              "    </tr>\n",
              "    <tr>\n",
              "      <th>1447</th>\n",
              "      <td>536544</td>\n",
              "      <td>21790</td>\n",
              "      <td>VINTAGE SNAP CARDS</td>\n",
              "      <td>9</td>\n",
              "      <td>2010-12-01 14:32:00</td>\n",
              "      <td>1.66</td>\n",
              "      <td>Guest</td>\n",
              "      <td>United Kingdom</td>\n",
              "    </tr>\n",
              "  </tbody>\n",
              "</table>\n",
              "</div>"
            ],
            "text/plain": [
              "     InvoiceNo StockCode  ... CustomerID         Country\n",
              "1443    536544     21773  ...      Guest  United Kingdom\n",
              "1444    536544     21774  ...      Guest  United Kingdom\n",
              "1445    536544     21786  ...      Guest  United Kingdom\n",
              "1446    536544     21787  ...      Guest  United Kingdom\n",
              "1447    536544     21790  ...      Guest  United Kingdom\n",
              "\n",
              "[5 rows x 8 columns]"
            ]
          },
          "metadata": {
            "tags": []
          },
          "execution_count": 20
        }
      ]
    },
    {
      "cell_type": "markdown",
      "metadata": {
        "id": "YxXw-NLKz0ft"
      },
      "source": [
        "Data NaN pada CustomerID dihandling dengan mengganti nilai kosong dengan 'guest'"
      ]
    },
    {
      "cell_type": "code",
      "metadata": {
        "colab": {
          "base_uri": "https://localhost:8080/"
        },
        "id": "dpNWJrUKoJor",
        "outputId": "6ab096f4-25e6-4513-df63-1af81db311a3"
      },
      "source": [
        "round(data.isnull().sum()/data.shape[0]*100,2)"
      ],
      "execution_count": null,
      "outputs": [
        {
          "output_type": "execute_result",
          "data": {
            "text/plain": [
              "InvoiceNo      0.0\n",
              "StockCode      0.0\n",
              "Description    0.0\n",
              "Quantity       0.0\n",
              "InvoiceDate    0.0\n",
              "UnitPrice      0.0\n",
              "CustomerID     0.0\n",
              "Country        0.0\n",
              "dtype: float64"
            ]
          },
          "metadata": {
            "tags": []
          },
          "execution_count": 21
        }
      ]
    },
    {
      "cell_type": "markdown",
      "metadata": {
        "id": "dOskVyIteVsw"
      },
      "source": [
        "Handling noisy pada UnitPrice "
      ]
    },
    {
      "cell_type": "code",
      "metadata": {
        "id": "mfPulncxcSAO"
      },
      "source": [
        "#Menghilangkan yang bernilai 0\n",
        "data = data[data['UnitPrice']!=0.0]"
      ],
      "execution_count": null,
      "outputs": []
    },
    {
      "cell_type": "code",
      "metadata": {
        "colab": {
          "base_uri": "https://localhost:8080/"
        },
        "id": "aCyLhttyej5v",
        "outputId": "878c3011-cce1-4964-8fa4-6c39d99338e0"
      },
      "source": [
        "(data['UnitPrice']==0.0).value_counts()"
      ],
      "execution_count": null,
      "outputs": [
        {
          "output_type": "execute_result",
          "data": {
            "text/plain": [
              "False    539394\n",
              "Name: UnitPrice, dtype: int64"
            ]
          },
          "metadata": {
            "tags": []
          },
          "execution_count": 23
        }
      ]
    },
    {
      "cell_type": "code",
      "metadata": {
        "colab": {
          "base_uri": "https://localhost:8080/"
        },
        "id": "LCGllZPuexeo",
        "outputId": "a65685f9-53ee-4cb2-8b15-2b0ef7df4b26"
      },
      "source": [
        "data.describe()"
      ],
      "execution_count": null,
      "outputs": [
        {
          "output_type": "execute_result",
          "data": {
            "text/html": [
              "<div>\n",
              "<style scoped>\n",
              "    .dataframe tbody tr th:only-of-type {\n",
              "        vertical-align: middle;\n",
              "    }\n",
              "\n",
              "    .dataframe tbody tr th {\n",
              "        vertical-align: top;\n",
              "    }\n",
              "\n",
              "    .dataframe thead th {\n",
              "        text-align: right;\n",
              "    }\n",
              "</style>\n",
              "<table border=\"1\" class=\"dataframe\">\n",
              "  <thead>\n",
              "    <tr style=\"text-align: right;\">\n",
              "      <th></th>\n",
              "      <th>Quantity</th>\n",
              "      <th>UnitPrice</th>\n",
              "    </tr>\n",
              "  </thead>\n",
              "  <tbody>\n",
              "    <tr>\n",
              "      <th>count</th>\n",
              "      <td>539394.000000</td>\n",
              "      <td>539394.000000</td>\n",
              "    </tr>\n",
              "    <tr>\n",
              "      <th>mean</th>\n",
              "      <td>9.845871</td>\n",
              "      <td>4.632614</td>\n",
              "    </tr>\n",
              "    <tr>\n",
              "      <th>std</th>\n",
              "      <td>215.412253</td>\n",
              "      <td>96.984656</td>\n",
              "    </tr>\n",
              "    <tr>\n",
              "      <th>min</th>\n",
              "      <td>-80995.000000</td>\n",
              "      <td>-11062.060000</td>\n",
              "    </tr>\n",
              "    <tr>\n",
              "      <th>25%</th>\n",
              "      <td>1.000000</td>\n",
              "      <td>1.250000</td>\n",
              "    </tr>\n",
              "    <tr>\n",
              "      <th>50%</th>\n",
              "      <td>3.000000</td>\n",
              "      <td>2.080000</td>\n",
              "    </tr>\n",
              "    <tr>\n",
              "      <th>75%</th>\n",
              "      <td>10.000000</td>\n",
              "      <td>4.130000</td>\n",
              "    </tr>\n",
              "    <tr>\n",
              "      <th>max</th>\n",
              "      <td>80995.000000</td>\n",
              "      <td>38970.000000</td>\n",
              "    </tr>\n",
              "  </tbody>\n",
              "</table>\n",
              "</div>"
            ],
            "text/plain": [
              "            Quantity      UnitPrice\n",
              "count  539394.000000  539394.000000\n",
              "mean        9.845871       4.632614\n",
              "std       215.412253      96.984656\n",
              "min    -80995.000000  -11062.060000\n",
              "25%         1.000000       1.250000\n",
              "50%         3.000000       2.080000\n",
              "75%        10.000000       4.130000\n",
              "max     80995.000000   38970.000000"
            ]
          },
          "metadata": {
            "tags": []
          },
          "execution_count": 24
        }
      ]
    },
    {
      "cell_type": "markdown",
      "metadata": {
        "id": "WgtbBN0E0C4g"
      },
      "source": [
        "Nilai minimum pada quantity dan unitprice bernilai negatif, sehingga menimbulkan asumsi adanya noise atau error pada data"
      ]
    },
    {
      "cell_type": "code",
      "metadata": {
        "id": "EV8PdW89fAP5"
      },
      "source": [
        "#Menghilangkan Data negatif\n",
        "data = data[(data['UnitPrice']>0) & (data['Quantity']>0)]"
      ],
      "execution_count": null,
      "outputs": []
    },
    {
      "cell_type": "code",
      "metadata": {
        "colab": {
          "base_uri": "https://localhost:8080/"
        },
        "id": "nO6WudADfbUF",
        "outputId": "b1e55751-9580-470f-ca1a-540a837b81b8"
      },
      "source": [
        "data.describe()"
      ],
      "execution_count": null,
      "outputs": [
        {
          "output_type": "execute_result",
          "data": {
            "text/html": [
              "<div>\n",
              "<style scoped>\n",
              "    .dataframe tbody tr th:only-of-type {\n",
              "        vertical-align: middle;\n",
              "    }\n",
              "\n",
              "    .dataframe tbody tr th {\n",
              "        vertical-align: top;\n",
              "    }\n",
              "\n",
              "    .dataframe thead th {\n",
              "        text-align: right;\n",
              "    }\n",
              "</style>\n",
              "<table border=\"1\" class=\"dataframe\">\n",
              "  <thead>\n",
              "    <tr style=\"text-align: right;\">\n",
              "      <th></th>\n",
              "      <th>Quantity</th>\n",
              "      <th>UnitPrice</th>\n",
              "    </tr>\n",
              "  </thead>\n",
              "  <tbody>\n",
              "    <tr>\n",
              "      <th>count</th>\n",
              "      <td>530104.000000</td>\n",
              "      <td>530104.000000</td>\n",
              "    </tr>\n",
              "    <tr>\n",
              "      <th>mean</th>\n",
              "      <td>10.542037</td>\n",
              "      <td>3.907625</td>\n",
              "    </tr>\n",
              "    <tr>\n",
              "      <th>std</th>\n",
              "      <td>155.524124</td>\n",
              "      <td>35.915681</td>\n",
              "    </tr>\n",
              "    <tr>\n",
              "      <th>min</th>\n",
              "      <td>1.000000</td>\n",
              "      <td>0.001000</td>\n",
              "    </tr>\n",
              "    <tr>\n",
              "      <th>25%</th>\n",
              "      <td>1.000000</td>\n",
              "      <td>1.250000</td>\n",
              "    </tr>\n",
              "    <tr>\n",
              "      <th>50%</th>\n",
              "      <td>3.000000</td>\n",
              "      <td>2.080000</td>\n",
              "    </tr>\n",
              "    <tr>\n",
              "      <th>75%</th>\n",
              "      <td>10.000000</td>\n",
              "      <td>4.130000</td>\n",
              "    </tr>\n",
              "    <tr>\n",
              "      <th>max</th>\n",
              "      <td>80995.000000</td>\n",
              "      <td>13541.330000</td>\n",
              "    </tr>\n",
              "  </tbody>\n",
              "</table>\n",
              "</div>"
            ],
            "text/plain": [
              "            Quantity      UnitPrice\n",
              "count  530104.000000  530104.000000\n",
              "mean       10.542037       3.907625\n",
              "std       155.524124      35.915681\n",
              "min         1.000000       0.001000\n",
              "25%         1.000000       1.250000\n",
              "50%         3.000000       2.080000\n",
              "75%        10.000000       4.130000\n",
              "max     80995.000000   13541.330000"
            ]
          },
          "metadata": {
            "tags": []
          },
          "execution_count": 26
        }
      ]
    },
    {
      "cell_type": "code",
      "metadata": {
        "id": "70CY2BlbfeE2"
      },
      "source": [
        ""
      ],
      "execution_count": null,
      "outputs": []
    },
    {
      "cell_type": "markdown",
      "metadata": {
        "id": "j5KwxELHfyM5"
      },
      "source": [
        "### Cek Duplikasi Data"
      ]
    },
    {
      "cell_type": "code",
      "metadata": {
        "colab": {
          "base_uri": "https://localhost:8080/"
        },
        "id": "czuSZcCnf_z0",
        "outputId": "ab9045e4-b6ba-4ed0-9e29-4d61acec72ab"
      },
      "source": [
        "#Melihat banyaknya data terduplikasi\n",
        "print('Banyaknya Duplikasi Data : {}'.format(data.duplicated().sum()))"
      ],
      "execution_count": null,
      "outputs": [
        {
          "output_type": "stream",
          "text": [
            "Banyaknya Duplikasi Data : 5226\n"
          ],
          "name": "stdout"
        }
      ]
    },
    {
      "cell_type": "code",
      "metadata": {
        "id": "AaHLx5zuuGyK"
      },
      "source": [
        "data = data.drop_duplicates()"
      ],
      "execution_count": null,
      "outputs": []
    },
    {
      "cell_type": "code",
      "metadata": {
        "colab": {
          "base_uri": "https://localhost:8080/"
        },
        "id": "7cetENxmgT1D",
        "outputId": "7a2d8a9b-ab95-4d55-b238-825912ace79e"
      },
      "source": [
        "jumlahDuplikat = data.duplicated().sum()\n",
        "print('Banyaknya Duplikasi Data : {}'.format(data.duplicated().sum()))"
      ],
      "execution_count": null,
      "outputs": [
        {
          "output_type": "stream",
          "text": [
            "Banyaknya Duplikasi Data : 0\n"
          ],
          "name": "stdout"
        }
      ]
    },
    {
      "cell_type": "code",
      "metadata": {
        "id": "6leazpfvgZLz"
      },
      "source": [
        ""
      ],
      "execution_count": null,
      "outputs": []
    },
    {
      "cell_type": "markdown",
      "metadata": {
        "id": "Em95XQm0go_i"
      },
      "source": [
        "### Outlier Data"
      ]
    },
    {
      "cell_type": "code",
      "metadata": {
        "colab": {
          "base_uri": "https://localhost:8080/"
        },
        "id": "htlv3cZdg-77",
        "outputId": "8e4186c0-42d2-4adb-a16a-b25c94996842"
      },
      "source": [
        "sns.boxplot(y=data.UnitPrice)"
      ],
      "execution_count": null,
      "outputs": [
        {
          "output_type": "execute_result",
          "data": {
            "text/plain": [
              "<matplotlib.axes._subplots.AxesSubplot at 0x7fc16616f750>"
            ]
          },
          "metadata": {
            "tags": []
          },
          "execution_count": 30
        },
        {
          "output_type": "display_data",
          "data": {
            "image/png": "[encoded data removed]",
            "text/plain": [
              "<Figure size 432x288 with 1 Axes>"
            ]
          },
          "metadata": {
            "tags": [],
            "needs_background": "light"
          }
        }
      ]
    },
    {
      "cell_type": "markdown",
      "metadata": {
        "id": "tkl9Ul8FjQs5"
      },
      "source": [
        "terlihat nilai outlier yang ekstrem, dicoba melihat nilai UnitPrice yang berada diatas 500"
      ]
    },
    {
      "cell_type": "code",
      "metadata": {
        "colab": {
          "base_uri": "https://localhost:8080/"
        },
        "id": "nbdH40nHg_3w",
        "outputId": "d3f06e1a-f989-4754-f561-8612b321dad8"
      },
      "source": [
        "data[data.UnitPrice>500].loc[::,:]"
      ],
      "execution_count": null,
      "outputs": [
        {
          "output_type": "execute_result",
          "data": {
            "text/html": [
              "<div>\n",
              "<style scoped>\n",
              "    .dataframe tbody tr th:only-of-type {\n",
              "        vertical-align: middle;\n",
              "    }\n",
              "\n",
              "    .dataframe tbody tr th {\n",
              "        vertical-align: top;\n",
              "    }\n",
              "\n",
              "    .dataframe thead th {\n",
              "        text-align: right;\n",
              "    }\n",
              "</style>\n",
              "<table border=\"1\" class=\"dataframe\">\n",
              "  <thead>\n",
              "    <tr style=\"text-align: right;\">\n",
              "      <th></th>\n",
              "      <th>InvoiceNo</th>\n",
              "      <th>StockCode</th>\n",
              "      <th>Description</th>\n",
              "      <th>Quantity</th>\n",
              "      <th>InvoiceDate</th>\n",
              "      <th>UnitPrice</th>\n",
              "      <th>CustomerID</th>\n",
              "      <th>Country</th>\n",
              "    </tr>\n",
              "  </thead>\n",
              "  <tbody>\n",
              "    <tr>\n",
              "      <th>1814</th>\n",
              "      <td>536544</td>\n",
              "      <td>DOT</td>\n",
              "      <td>DOTCOM POSTAGE</td>\n",
              "      <td>1</td>\n",
              "      <td>2010-12-01 14:32:00</td>\n",
              "      <td>569.77</td>\n",
              "      <td>Guest</td>\n",
              "      <td>United Kingdom</td>\n",
              "    </tr>\n",
              "    <tr>\n",
              "      <th>3041</th>\n",
              "      <td>536592</td>\n",
              "      <td>DOT</td>\n",
              "      <td>DOTCOM POSTAGE</td>\n",
              "      <td>1</td>\n",
              "      <td>2010-12-01 17:06:00</td>\n",
              "      <td>607.49</td>\n",
              "      <td>Guest</td>\n",
              "      <td>United Kingdom</td>\n",
              "    </tr>\n",
              "    <tr>\n",
              "      <th>6165</th>\n",
              "      <td>536876</td>\n",
              "      <td>DOT</td>\n",
              "      <td>DOTCOM POSTAGE</td>\n",
              "      <td>1</td>\n",
              "      <td>2010-12-03 11:36:00</td>\n",
              "      <td>887.52</td>\n",
              "      <td>Guest</td>\n",
              "      <td>United Kingdom</td>\n",
              "    </tr>\n",
              "    <tr>\n",
              "      <th>10812</th>\n",
              "      <td>537237</td>\n",
              "      <td>DOT</td>\n",
              "      <td>DOTCOM POSTAGE</td>\n",
              "      <td>1</td>\n",
              "      <td>2010-12-06 09:58:00</td>\n",
              "      <td>863.74</td>\n",
              "      <td>Guest</td>\n",
              "      <td>United Kingdom</td>\n",
              "    </tr>\n",
              "    <tr>\n",
              "      <th>11381</th>\n",
              "      <td>537240</td>\n",
              "      <td>DOT</td>\n",
              "      <td>DOTCOM POSTAGE</td>\n",
              "      <td>1</td>\n",
              "      <td>2010-12-06 10:08:00</td>\n",
              "      <td>940.87</td>\n",
              "      <td>Guest</td>\n",
              "      <td>United Kingdom</td>\n",
              "    </tr>\n",
              "    <tr>\n",
              "      <th>...</th>\n",
              "      <td>...</td>\n",
              "      <td>...</td>\n",
              "      <td>...</td>\n",
              "      <td>...</td>\n",
              "      <td>...</td>\n",
              "      <td>...</td>\n",
              "      <td>...</td>\n",
              "      <td>...</td>\n",
              "    </tr>\n",
              "    <tr>\n",
              "      <th>536834</th>\n",
              "      <td>581219</td>\n",
              "      <td>DOT</td>\n",
              "      <td>DOTCOM POSTAGE</td>\n",
              "      <td>1</td>\n",
              "      <td>2011-12-08 09:28:00</td>\n",
              "      <td>1008.96</td>\n",
              "      <td>Guest</td>\n",
              "      <td>United Kingdom</td>\n",
              "    </tr>\n",
              "    <tr>\n",
              "      <th>537254</th>\n",
              "      <td>581238</td>\n",
              "      <td>DOT</td>\n",
              "      <td>DOTCOM POSTAGE</td>\n",
              "      <td>1</td>\n",
              "      <td>2011-12-08 10:53:00</td>\n",
              "      <td>1683.75</td>\n",
              "      <td>Guest</td>\n",
              "      <td>United Kingdom</td>\n",
              "    </tr>\n",
              "    <tr>\n",
              "      <th>539368</th>\n",
              "      <td>581439</td>\n",
              "      <td>DOT</td>\n",
              "      <td>DOTCOM POSTAGE</td>\n",
              "      <td>1</td>\n",
              "      <td>2011-12-08 16:30:00</td>\n",
              "      <td>938.59</td>\n",
              "      <td>Guest</td>\n",
              "      <td>United Kingdom</td>\n",
              "    </tr>\n",
              "    <tr>\n",
              "      <th>540908</th>\n",
              "      <td>581492</td>\n",
              "      <td>DOT</td>\n",
              "      <td>DOTCOM POSTAGE</td>\n",
              "      <td>1</td>\n",
              "      <td>2011-12-09 10:03:00</td>\n",
              "      <td>933.17</td>\n",
              "      <td>Guest</td>\n",
              "      <td>United Kingdom</td>\n",
              "    </tr>\n",
              "    <tr>\n",
              "      <th>541540</th>\n",
              "      <td>581498</td>\n",
              "      <td>DOT</td>\n",
              "      <td>DOTCOM POSTAGE</td>\n",
              "      <td>1</td>\n",
              "      <td>2011-12-09 10:26:00</td>\n",
              "      <td>1714.17</td>\n",
              "      <td>Guest</td>\n",
              "      <td>United Kingdom</td>\n",
              "    </tr>\n",
              "  </tbody>\n",
              "</table>\n",
              "<p>151 rows × 8 columns</p>\n",
              "</div>"
            ],
            "text/plain": [
              "       InvoiceNo StockCode  ... CustomerID         Country\n",
              "1814      536544       DOT  ...      Guest  United Kingdom\n",
              "3041      536592       DOT  ...      Guest  United Kingdom\n",
              "6165      536876       DOT  ...      Guest  United Kingdom\n",
              "10812     537237       DOT  ...      Guest  United Kingdom\n",
              "11381     537240       DOT  ...      Guest  United Kingdom\n",
              "...          ...       ...  ...        ...             ...\n",
              "536834    581219       DOT  ...      Guest  United Kingdom\n",
              "537254    581238       DOT  ...      Guest  United Kingdom\n",
              "539368    581439       DOT  ...      Guest  United Kingdom\n",
              "540908    581492       DOT  ...      Guest  United Kingdom\n",
              "541540    581498       DOT  ...      Guest  United Kingdom\n",
              "\n",
              "[151 rows x 8 columns]"
            ]
          },
          "metadata": {
            "tags": []
          },
          "execution_count": 31
        }
      ]
    },
    {
      "cell_type": "markdown",
      "metadata": {
        "id": "_uveEF4106pi"
      },
      "source": [
        "Terlihat bahwa stockcode 'DOT' mendominasi data outlier"
      ]
    },
    {
      "cell_type": "code",
      "metadata": {
        "colab": {
          "base_uri": "https://localhost:8080/"
        },
        "id": "JlZerAgG2km8",
        "outputId": "0f6ebe4a-6c57-4496-83e5-11a3935adf61"
      },
      "source": [
        "data['StockCode'].nunique()"
      ],
      "execution_count": null,
      "outputs": [
        {
          "output_type": "execute_result",
          "data": {
            "text/plain": [
              "3922"
            ]
          },
          "metadata": {
            "tags": []
          },
          "execution_count": 32
        }
      ]
    },
    {
      "cell_type": "markdown",
      "metadata": {
        "id": "N6OruE2s4Hkp"
      },
      "source": [
        ""
      ]
    },
    {
      "cell_type": "code",
      "metadata": {
        "colab": {
          "base_uri": "https://localhost:8080/"
        },
        "id": "UzJdyYGFiurq",
        "outputId": "1a6aad01-0bcb-4f4f-8b42-98815a055b9a"
      },
      "source": [
        "data[(data.StockCode == 'DOT') | (data.StockCode == 'M') | (data.StockCode == 'AMAZONFEE')].shape"
      ],
      "execution_count": null,
      "outputs": [
        {
          "output_type": "execute_result",
          "data": {
            "text/plain": [
              "(1024, 8)"
            ]
          },
          "metadata": {
            "tags": []
          },
          "execution_count": 33
        }
      ]
    },
    {
      "cell_type": "code",
      "metadata": {
        "colab": {
          "base_uri": "https://localhost:8080/"
        },
        "id": "OcY_cV3bm4W7",
        "outputId": "1e95ab5f-332c-4e47-82c7-d8965a8cf831"
      },
      "source": [
        "data = data[(data.StockCode != 'DOT') & (data.StockCode != 'M') & (data.StockCode != 'AMAZONFEE')].copy()\n",
        "sns.boxplot(y=data.UnitPrice)"
      ],
      "execution_count": null,
      "outputs": [
        {
          "output_type": "execute_result",
          "data": {
            "text/plain": [
              "<matplotlib.axes._subplots.AxesSubplot at 0x7fc165d15910>"
            ]
          },
          "metadata": {
            "tags": []
          },
          "execution_count": 34
        },
        {
          "output_type": "display_data",
          "data": {
            "image/png": "[encoded data removed]",
            "text/plain": [
              "<Figure size 432x288 with 1 Axes>"
            ]
          },
          "metadata": {
            "tags": [],
            "needs_background": "light"
          }
        }
      ]
    },
    {
      "cell_type": "code",
      "metadata": {
        "colab": {
          "base_uri": "https://localhost:8080/"
        },
        "id": "MZStA4Qxm9Qz",
        "outputId": "8fa000de-98d5-45f1-a8f3-a63b2ca10e33"
      },
      "source": [
        "data[data.UnitPrice>500].head()"
      ],
      "execution_count": null,
      "outputs": [
        {
          "output_type": "execute_result",
          "data": {
            "text/html": [
              "<div>\n",
              "<style scoped>\n",
              "    .dataframe tbody tr th:only-of-type {\n",
              "        vertical-align: middle;\n",
              "    }\n",
              "\n",
              "    .dataframe tbody tr th {\n",
              "        vertical-align: top;\n",
              "    }\n",
              "\n",
              "    .dataframe thead th {\n",
              "        text-align: right;\n",
              "    }\n",
              "</style>\n",
              "<table border=\"1\" class=\"dataframe\">\n",
              "  <thead>\n",
              "    <tr style=\"text-align: right;\">\n",
              "      <th></th>\n",
              "      <th>InvoiceNo</th>\n",
              "      <th>StockCode</th>\n",
              "      <th>Description</th>\n",
              "      <th>Quantity</th>\n",
              "      <th>InvoiceDate</th>\n",
              "      <th>UnitPrice</th>\n",
              "      <th>CustomerID</th>\n",
              "      <th>Country</th>\n",
              "    </tr>\n",
              "  </thead>\n",
              "  <tbody>\n",
              "    <tr>\n",
              "      <th>173382</th>\n",
              "      <td>551697</td>\n",
              "      <td>POST</td>\n",
              "      <td>POSTAGE</td>\n",
              "      <td>1</td>\n",
              "      <td>2011-05-03 13:46:00</td>\n",
              "      <td>8142.75</td>\n",
              "      <td>16029</td>\n",
              "      <td>United Kingdom</td>\n",
              "    </tr>\n",
              "    <tr>\n",
              "      <th>187584</th>\n",
              "      <td>552980</td>\n",
              "      <td>POST</td>\n",
              "      <td>POSTAGE</td>\n",
              "      <td>1</td>\n",
              "      <td>2011-05-12 14:52:00</td>\n",
              "      <td>523.00</td>\n",
              "      <td>12590</td>\n",
              "      <td>Germany</td>\n",
              "    </tr>\n",
              "    <tr>\n",
              "      <th>222680</th>\n",
              "      <td>556444</td>\n",
              "      <td>22502</td>\n",
              "      <td>PICNIC BASKET WICKER 60 PIECES</td>\n",
              "      <td>60</td>\n",
              "      <td>2011-06-10 15:28:00</td>\n",
              "      <td>649.50</td>\n",
              "      <td>15098</td>\n",
              "      <td>United Kingdom</td>\n",
              "    </tr>\n",
              "    <tr>\n",
              "      <th>222682</th>\n",
              "      <td>556446</td>\n",
              "      <td>22502</td>\n",
              "      <td>PICNIC BASKET WICKER 60 PIECES</td>\n",
              "      <td>1</td>\n",
              "      <td>2011-06-10 15:33:00</td>\n",
              "      <td>649.50</td>\n",
              "      <td>15098</td>\n",
              "      <td>United Kingdom</td>\n",
              "    </tr>\n",
              "    <tr>\n",
              "      <th>236402</th>\n",
              "      <td>557754</td>\n",
              "      <td>POST</td>\n",
              "      <td>POSTAGE</td>\n",
              "      <td>1</td>\n",
              "      <td>2011-06-22 13:12:00</td>\n",
              "      <td>700.00</td>\n",
              "      <td>12432</td>\n",
              "      <td>Norway</td>\n",
              "    </tr>\n",
              "  </tbody>\n",
              "</table>\n",
              "</div>"
            ],
            "text/plain": [
              "       InvoiceNo StockCode  ... CustomerID         Country\n",
              "173382    551697      POST  ...      16029  United Kingdom\n",
              "187584    552980      POST  ...      12590         Germany\n",
              "222680    556444     22502  ...      15098  United Kingdom\n",
              "222682    556446     22502  ...      15098  United Kingdom\n",
              "236402    557754      POST  ...      12432          Norway\n",
              "\n",
              "[5 rows x 8 columns]"
            ]
          },
          "metadata": {
            "tags": []
          },
          "execution_count": 35
        }
      ]
    },
    {
      "cell_type": "code",
      "metadata": {
        "colab": {
          "base_uri": "https://localhost:8080/"
        },
        "id": "u6q-gRyC5IH9",
        "scrolled": true,
        "outputId": "94e8702b-69dc-4771-bb2c-39bdfa65277d"
      },
      "source": [
        "data[data.UnitPrice>200].head()"
      ],
      "execution_count": null,
      "outputs": [
        {
          "output_type": "execute_result",
          "data": {
            "text/html": [
              "<div>\n",
              "<style scoped>\n",
              "    .dataframe tbody tr th:only-of-type {\n",
              "        vertical-align: middle;\n",
              "    }\n",
              "\n",
              "    .dataframe tbody tr th {\n",
              "        vertical-align: top;\n",
              "    }\n",
              "\n",
              "    .dataframe thead th {\n",
              "        text-align: right;\n",
              "    }\n",
              "</style>\n",
              "<table border=\"1\" class=\"dataframe\">\n",
              "  <thead>\n",
              "    <tr style=\"text-align: right;\">\n",
              "      <th></th>\n",
              "      <th>InvoiceNo</th>\n",
              "      <th>StockCode</th>\n",
              "      <th>Description</th>\n",
              "      <th>Quantity</th>\n",
              "      <th>InvoiceDate</th>\n",
              "      <th>UnitPrice</th>\n",
              "      <th>CustomerID</th>\n",
              "      <th>Country</th>\n",
              "    </tr>\n",
              "  </thead>\n",
              "  <tbody>\n",
              "    <tr>\n",
              "      <th>4989</th>\n",
              "      <td>536835</td>\n",
              "      <td>22655</td>\n",
              "      <td>VINTAGE RED KITCHEN CABINET</td>\n",
              "      <td>1</td>\n",
              "      <td>2010-12-02 18:06:00</td>\n",
              "      <td>295.0</td>\n",
              "      <td>13145</td>\n",
              "      <td>United Kingdom</td>\n",
              "    </tr>\n",
              "    <tr>\n",
              "      <th>32484</th>\n",
              "      <td>539080</td>\n",
              "      <td>22655</td>\n",
              "      <td>VINTAGE RED KITCHEN CABINET</td>\n",
              "      <td>1</td>\n",
              "      <td>2010-12-16 08:41:00</td>\n",
              "      <td>295.0</td>\n",
              "      <td>16607</td>\n",
              "      <td>United Kingdom</td>\n",
              "    </tr>\n",
              "    <tr>\n",
              "      <th>51636</th>\n",
              "      <td>540647</td>\n",
              "      <td>22655</td>\n",
              "      <td>VINTAGE RED KITCHEN CABINET</td>\n",
              "      <td>1</td>\n",
              "      <td>2011-01-10 14:57:00</td>\n",
              "      <td>295.0</td>\n",
              "      <td>17406</td>\n",
              "      <td>United Kingdom</td>\n",
              "    </tr>\n",
              "    <tr>\n",
              "      <th>82768</th>\n",
              "      <td>543253</td>\n",
              "      <td>22655</td>\n",
              "      <td>VINTAGE RED KITCHEN CABINET</td>\n",
              "      <td>1</td>\n",
              "      <td>2011-02-04 15:32:00</td>\n",
              "      <td>295.0</td>\n",
              "      <td>14842</td>\n",
              "      <td>United Kingdom</td>\n",
              "    </tr>\n",
              "    <tr>\n",
              "      <th>118769</th>\n",
              "      <td>546480</td>\n",
              "      <td>22656</td>\n",
              "      <td>VINTAGE BLUE KITCHEN CABINET</td>\n",
              "      <td>1</td>\n",
              "      <td>2011-03-14 11:38:00</td>\n",
              "      <td>295.0</td>\n",
              "      <td>13452</td>\n",
              "      <td>United Kingdom</td>\n",
              "    </tr>\n",
              "  </tbody>\n",
              "</table>\n",
              "</div>"
            ],
            "text/plain": [
              "       InvoiceNo StockCode  ... CustomerID         Country\n",
              "4989      536835     22655  ...      13145  United Kingdom\n",
              "32484     539080     22655  ...      16607  United Kingdom\n",
              "51636     540647     22655  ...      17406  United Kingdom\n",
              "82768     543253     22655  ...      14842  United Kingdom\n",
              "118769    546480     22656  ...      13452  United Kingdom\n",
              "\n",
              "[5 rows x 8 columns]"
            ]
          },
          "metadata": {
            "tags": []
          },
          "execution_count": 36
        }
      ]
    },
    {
      "cell_type": "code",
      "metadata": {
        "colab": {
          "base_uri": "https://localhost:8080/"
        },
        "id": "q2ps8saInBj9",
        "outputId": "6f5eb810-a60d-493b-859a-38f9f5c8a15f"
      },
      "source": [
        "data = data[(data.StockCode != 'B') & (data.StockCode != 'POST')].copy()\n",
        "sns.boxplot(y=data.UnitPrice)"
      ],
      "execution_count": null,
      "outputs": [
        {
          "output_type": "execute_result",
          "data": {
            "text/plain": [
              "<matplotlib.axes._subplots.AxesSubplot at 0x7fc165e96410>"
            ]
          },
          "metadata": {
            "tags": []
          },
          "execution_count": 37
        },
        {
          "output_type": "display_data",
          "data": {
            "image/png": "[encoded data removed]",
            "text/plain": [
              "<Figure size 432x288 with 1 Axes>"
            ]
          },
          "metadata": {
            "tags": [],
            "needs_background": "light"
          }
        }
      ]
    },
    {
      "cell_type": "code",
      "metadata": {
        "colab": {
          "base_uri": "https://localhost:8080/"
        },
        "id": "GK-cUoBgnFxC",
        "outputId": "317bfa6f-ad56-4ee4-d81d-2dfbe98d17de"
      },
      "source": [
        "data[data.UnitPrice>200].head()"
      ],
      "execution_count": null,
      "outputs": [
        {
          "output_type": "execute_result",
          "data": {
            "text/html": [
              "<div>\n",
              "<style scoped>\n",
              "    .dataframe tbody tr th:only-of-type {\n",
              "        vertical-align: middle;\n",
              "    }\n",
              "\n",
              "    .dataframe tbody tr th {\n",
              "        vertical-align: top;\n",
              "    }\n",
              "\n",
              "    .dataframe thead th {\n",
              "        text-align: right;\n",
              "    }\n",
              "</style>\n",
              "<table border=\"1\" class=\"dataframe\">\n",
              "  <thead>\n",
              "    <tr style=\"text-align: right;\">\n",
              "      <th></th>\n",
              "      <th>InvoiceNo</th>\n",
              "      <th>StockCode</th>\n",
              "      <th>Description</th>\n",
              "      <th>Quantity</th>\n",
              "      <th>InvoiceDate</th>\n",
              "      <th>UnitPrice</th>\n",
              "      <th>CustomerID</th>\n",
              "      <th>Country</th>\n",
              "    </tr>\n",
              "  </thead>\n",
              "  <tbody>\n",
              "    <tr>\n",
              "      <th>4989</th>\n",
              "      <td>536835</td>\n",
              "      <td>22655</td>\n",
              "      <td>VINTAGE RED KITCHEN CABINET</td>\n",
              "      <td>1</td>\n",
              "      <td>2010-12-02 18:06:00</td>\n",
              "      <td>295.0</td>\n",
              "      <td>13145</td>\n",
              "      <td>United Kingdom</td>\n",
              "    </tr>\n",
              "    <tr>\n",
              "      <th>32484</th>\n",
              "      <td>539080</td>\n",
              "      <td>22655</td>\n",
              "      <td>VINTAGE RED KITCHEN CABINET</td>\n",
              "      <td>1</td>\n",
              "      <td>2010-12-16 08:41:00</td>\n",
              "      <td>295.0</td>\n",
              "      <td>16607</td>\n",
              "      <td>United Kingdom</td>\n",
              "    </tr>\n",
              "    <tr>\n",
              "      <th>51636</th>\n",
              "      <td>540647</td>\n",
              "      <td>22655</td>\n",
              "      <td>VINTAGE RED KITCHEN CABINET</td>\n",
              "      <td>1</td>\n",
              "      <td>2011-01-10 14:57:00</td>\n",
              "      <td>295.0</td>\n",
              "      <td>17406</td>\n",
              "      <td>United Kingdom</td>\n",
              "    </tr>\n",
              "    <tr>\n",
              "      <th>82768</th>\n",
              "      <td>543253</td>\n",
              "      <td>22655</td>\n",
              "      <td>VINTAGE RED KITCHEN CABINET</td>\n",
              "      <td>1</td>\n",
              "      <td>2011-02-04 15:32:00</td>\n",
              "      <td>295.0</td>\n",
              "      <td>14842</td>\n",
              "      <td>United Kingdom</td>\n",
              "    </tr>\n",
              "    <tr>\n",
              "      <th>118769</th>\n",
              "      <td>546480</td>\n",
              "      <td>22656</td>\n",
              "      <td>VINTAGE BLUE KITCHEN CABINET</td>\n",
              "      <td>1</td>\n",
              "      <td>2011-03-14 11:38:00</td>\n",
              "      <td>295.0</td>\n",
              "      <td>13452</td>\n",
              "      <td>United Kingdom</td>\n",
              "    </tr>\n",
              "  </tbody>\n",
              "</table>\n",
              "</div>"
            ],
            "text/plain": [
              "       InvoiceNo StockCode  ... CustomerID         Country\n",
              "4989      536835     22655  ...      13145  United Kingdom\n",
              "32484     539080     22655  ...      16607  United Kingdom\n",
              "51636     540647     22655  ...      17406  United Kingdom\n",
              "82768     543253     22655  ...      14842  United Kingdom\n",
              "118769    546480     22656  ...      13452  United Kingdom\n",
              "\n",
              "[5 rows x 8 columns]"
            ]
          },
          "metadata": {
            "tags": []
          },
          "execution_count": 38
        }
      ]
    },
    {
      "cell_type": "code",
      "metadata": {
        "colab": {
          "base_uri": "https://localhost:8080/"
        },
        "id": "jegvVFdknITY",
        "outputId": "85c6a221-46a0-45dc-f362-8816b4c60b39"
      },
      "source": [
        "data.describe()"
      ],
      "execution_count": null,
      "outputs": [
        {
          "output_type": "execute_result",
          "data": {
            "text/html": [
              "<div>\n",
              "<style scoped>\n",
              "    .dataframe tbody tr th:only-of-type {\n",
              "        vertical-align: middle;\n",
              "    }\n",
              "\n",
              "    .dataframe tbody tr th {\n",
              "        vertical-align: top;\n",
              "    }\n",
              "\n",
              "    .dataframe thead th {\n",
              "        text-align: right;\n",
              "    }\n",
              "</style>\n",
              "<table border=\"1\" class=\"dataframe\">\n",
              "  <thead>\n",
              "    <tr style=\"text-align: right;\">\n",
              "      <th></th>\n",
              "      <th>Quantity</th>\n",
              "      <th>UnitPrice</th>\n",
              "    </tr>\n",
              "  </thead>\n",
              "  <tbody>\n",
              "    <tr>\n",
              "      <th>count</th>\n",
              "      <td>522727.000000</td>\n",
              "      <td>522727.000000</td>\n",
              "    </tr>\n",
              "    <tr>\n",
              "      <th>mean</th>\n",
              "      <td>10.639544</td>\n",
              "      <td>3.287967</td>\n",
              "    </tr>\n",
              "    <tr>\n",
              "      <th>std</th>\n",
              "      <td>156.566216</td>\n",
              "      <td>4.465096</td>\n",
              "    </tr>\n",
              "    <tr>\n",
              "      <th>min</th>\n",
              "      <td>1.000000</td>\n",
              "      <td>0.001000</td>\n",
              "    </tr>\n",
              "    <tr>\n",
              "      <th>25%</th>\n",
              "      <td>1.000000</td>\n",
              "      <td>1.250000</td>\n",
              "    </tr>\n",
              "    <tr>\n",
              "      <th>50%</th>\n",
              "      <td>4.000000</td>\n",
              "      <td>2.080000</td>\n",
              "    </tr>\n",
              "    <tr>\n",
              "      <th>75%</th>\n",
              "      <td>12.000000</td>\n",
              "      <td>4.130000</td>\n",
              "    </tr>\n",
              "    <tr>\n",
              "      <th>max</th>\n",
              "      <td>80995.000000</td>\n",
              "      <td>649.500000</td>\n",
              "    </tr>\n",
              "  </tbody>\n",
              "</table>\n",
              "</div>"
            ],
            "text/plain": [
              "            Quantity      UnitPrice\n",
              "count  522727.000000  522727.000000\n",
              "mean       10.639544       3.287967\n",
              "std       156.566216       4.465096\n",
              "min         1.000000       0.001000\n",
              "25%         1.000000       1.250000\n",
              "50%         4.000000       2.080000\n",
              "75%        12.000000       4.130000\n",
              "max     80995.000000     649.500000"
            ]
          },
          "metadata": {
            "tags": []
          },
          "execution_count": 39
        }
      ]
    },
    {
      "cell_type": "code",
      "metadata": {
        "colab": {
          "base_uri": "https://localhost:8080/"
        },
        "id": "2yyBOpJbnKZx",
        "outputId": "55de30fa-e49b-4e3e-9648-f9a6ceea69f3"
      },
      "source": [
        "data[data.Quantity>500].head()"
      ],
      "execution_count": null,
      "outputs": [
        {
          "output_type": "execute_result",
          "data": {
            "text/html": [
              "<div>\n",
              "<style scoped>\n",
              "    .dataframe tbody tr th:only-of-type {\n",
              "        vertical-align: middle;\n",
              "    }\n",
              "\n",
              "    .dataframe tbody tr th {\n",
              "        vertical-align: top;\n",
              "    }\n",
              "\n",
              "    .dataframe thead th {\n",
              "        text-align: right;\n",
              "    }\n",
              "</style>\n",
              "<table border=\"1\" class=\"dataframe\">\n",
              "  <thead>\n",
              "    <tr style=\"text-align: right;\">\n",
              "      <th></th>\n",
              "      <th>InvoiceNo</th>\n",
              "      <th>StockCode</th>\n",
              "      <th>Description</th>\n",
              "      <th>Quantity</th>\n",
              "      <th>InvoiceDate</th>\n",
              "      <th>UnitPrice</th>\n",
              "      <th>CustomerID</th>\n",
              "      <th>Country</th>\n",
              "    </tr>\n",
              "  </thead>\n",
              "  <tbody>\n",
              "    <tr>\n",
              "      <th>730</th>\n",
              "      <td>536437</td>\n",
              "      <td>17021</td>\n",
              "      <td>NAMASTE SWAGAT INCENSE</td>\n",
              "      <td>600</td>\n",
              "      <td>2010-12-01 12:12:00</td>\n",
              "      <td>0.24</td>\n",
              "      <td>13694</td>\n",
              "      <td>United Kingdom</td>\n",
              "    </tr>\n",
              "    <tr>\n",
              "      <th>3917</th>\n",
              "      <td>536736</td>\n",
              "      <td>22616</td>\n",
              "      <td>PACK OF 12 LONDON TISSUES</td>\n",
              "      <td>600</td>\n",
              "      <td>2010-12-02 12:59:00</td>\n",
              "      <td>0.29</td>\n",
              "      <td>17381</td>\n",
              "      <td>United Kingdom</td>\n",
              "    </tr>\n",
              "    <tr>\n",
              "      <th>4850</th>\n",
              "      <td>536809</td>\n",
              "      <td>84950</td>\n",
              "      <td>ASSORTED COLOUR T-LIGHT HOLDER</td>\n",
              "      <td>1824</td>\n",
              "      <td>2010-12-02 16:48:00</td>\n",
              "      <td>0.55</td>\n",
              "      <td>15299</td>\n",
              "      <td>United Kingdom</td>\n",
              "    </tr>\n",
              "    <tr>\n",
              "      <th>4945</th>\n",
              "      <td>536830</td>\n",
              "      <td>84077</td>\n",
              "      <td>WORLD WAR 2 GLIDERS ASSTD DESIGNS</td>\n",
              "      <td>2880</td>\n",
              "      <td>2010-12-02 17:38:00</td>\n",
              "      <td>0.18</td>\n",
              "      <td>16754</td>\n",
              "      <td>United Kingdom</td>\n",
              "    </tr>\n",
              "    <tr>\n",
              "      <th>4946</th>\n",
              "      <td>536830</td>\n",
              "      <td>21915</td>\n",
              "      <td>RED  HARMONICA IN BOX</td>\n",
              "      <td>1400</td>\n",
              "      <td>2010-12-02 17:38:00</td>\n",
              "      <td>1.06</td>\n",
              "      <td>16754</td>\n",
              "      <td>United Kingdom</td>\n",
              "    </tr>\n",
              "  </tbody>\n",
              "</table>\n",
              "</div>"
            ],
            "text/plain": [
              "     InvoiceNo StockCode  ... CustomerID         Country\n",
              "730     536437     17021  ...      13694  United Kingdom\n",
              "3917    536736     22616  ...      17381  United Kingdom\n",
              "4850    536809     84950  ...      15299  United Kingdom\n",
              "4945    536830     84077  ...      16754  United Kingdom\n",
              "4946    536830     21915  ...      16754  United Kingdom\n",
              "\n",
              "[5 rows x 8 columns]"
            ]
          },
          "metadata": {
            "tags": []
          },
          "execution_count": 40
        }
      ]
    },
    {
      "cell_type": "code",
      "metadata": {
        "colab": {
          "base_uri": "https://localhost:8080/"
        },
        "id": "3paH8Fsi0Dqu",
        "outputId": "61b6c58f-7a50-4189-90fb-f3569f5a0552"
      },
      "source": [
        "data[data.Quantity>200].head()"
      ],
      "execution_count": null,
      "outputs": [
        {
          "output_type": "execute_result",
          "data": {
            "text/html": [
              "<div>\n",
              "<style scoped>\n",
              "    .dataframe tbody tr th:only-of-type {\n",
              "        vertical-align: middle;\n",
              "    }\n",
              "\n",
              "    .dataframe tbody tr th {\n",
              "        vertical-align: top;\n",
              "    }\n",
              "\n",
              "    .dataframe thead th {\n",
              "        text-align: right;\n",
              "    }\n",
              "</style>\n",
              "<table border=\"1\" class=\"dataframe\">\n",
              "  <thead>\n",
              "    <tr style=\"text-align: right;\">\n",
              "      <th></th>\n",
              "      <th>InvoiceNo</th>\n",
              "      <th>StockCode</th>\n",
              "      <th>Description</th>\n",
              "      <th>Quantity</th>\n",
              "      <th>InvoiceDate</th>\n",
              "      <th>UnitPrice</th>\n",
              "      <th>CustomerID</th>\n",
              "      <th>Country</th>\n",
              "    </tr>\n",
              "  </thead>\n",
              "  <tbody>\n",
              "    <tr>\n",
              "      <th>181</th>\n",
              "      <td>536387</td>\n",
              "      <td>22466</td>\n",
              "      <td>FAIRY TALE COTTAGE NIGHTLIGHT</td>\n",
              "      <td>432</td>\n",
              "      <td>2010-12-01 09:58:00</td>\n",
              "      <td>1.45</td>\n",
              "      <td>16029</td>\n",
              "      <td>United Kingdom</td>\n",
              "    </tr>\n",
              "    <tr>\n",
              "      <th>182</th>\n",
              "      <td>536387</td>\n",
              "      <td>21731</td>\n",
              "      <td>RED TOADSTOOL LED NIGHT LIGHT</td>\n",
              "      <td>432</td>\n",
              "      <td>2010-12-01 09:58:00</td>\n",
              "      <td>1.25</td>\n",
              "      <td>16029</td>\n",
              "      <td>United Kingdom</td>\n",
              "    </tr>\n",
              "    <tr>\n",
              "      <th>219</th>\n",
              "      <td>536390</td>\n",
              "      <td>20668</td>\n",
              "      <td>DISCO BALL CHRISTMAS DECORATION</td>\n",
              "      <td>288</td>\n",
              "      <td>2010-12-01 10:19:00</td>\n",
              "      <td>0.10</td>\n",
              "      <td>17511</td>\n",
              "      <td>United Kingdom</td>\n",
              "    </tr>\n",
              "    <tr>\n",
              "      <th>730</th>\n",
              "      <td>536437</td>\n",
              "      <td>17021</td>\n",
              "      <td>NAMASTE SWAGAT INCENSE</td>\n",
              "      <td>600</td>\n",
              "      <td>2010-12-01 12:12:00</td>\n",
              "      <td>0.24</td>\n",
              "      <td>13694</td>\n",
              "      <td>United Kingdom</td>\n",
              "    </tr>\n",
              "    <tr>\n",
              "      <th>870</th>\n",
              "      <td>536477</td>\n",
              "      <td>21137</td>\n",
              "      <td>BLACK RECORD COVER FRAME</td>\n",
              "      <td>480</td>\n",
              "      <td>2010-12-01 12:27:00</td>\n",
              "      <td>3.39</td>\n",
              "      <td>16210</td>\n",
              "      <td>United Kingdom</td>\n",
              "    </tr>\n",
              "  </tbody>\n",
              "</table>\n",
              "</div>"
            ],
            "text/plain": [
              "    InvoiceNo StockCode  ... CustomerID         Country\n",
              "181    536387     22466  ...      16029  United Kingdom\n",
              "182    536387     21731  ...      16029  United Kingdom\n",
              "219    536390     20668  ...      17511  United Kingdom\n",
              "730    536437     17021  ...      13694  United Kingdom\n",
              "870    536477     21137  ...      16210  United Kingdom\n",
              "\n",
              "[5 rows x 8 columns]"
            ]
          },
          "metadata": {
            "tags": []
          },
          "execution_count": 41
        }
      ]
    },
    {
      "cell_type": "markdown",
      "metadata": {
        "id": "2-ev_IA30EGu"
      },
      "source": [
        "# Exploratory Data Analysis"
      ]
    },
    {
      "cell_type": "code",
      "metadata": {
        "id": "HPfIS9ponQvE"
      },
      "source": [
        "#Membuat attribute baru total transaksi\n",
        "data['TotalTransaction'] = data['Quantity']*data['UnitPrice']"
      ],
      "execution_count": null,
      "outputs": []
    },
    {
      "cell_type": "code",
      "metadata": {
        "id": "HkYloctI0WK-"
      },
      "source": [
        "#Membuat kolom baru bulan dan tahun\n",
        "data['Month']= data['InvoiceDate'].apply(lambda x:x.month)\n",
        "data['Year']= data['InvoiceDate'].apply(lambda x:x.year)"
      ],
      "execution_count": null,
      "outputs": []
    },
    {
      "cell_type": "code",
      "metadata": {
        "id": "_CN1uNO00rQD"
      },
      "source": [
        "df= data.sort_values(by=['Year','Month'])"
      ],
      "execution_count": null,
      "outputs": []
    },
    {
      "cell_type": "code",
      "metadata": {
        "id": "RVxBaphn08qc"
      },
      "source": [
        "mmap={1:'Jan11',2:'Feb11',3:'Mar11',4:'Apr11', 5:'May11', 6:'Jun11', 7:'Jul11',8:'Aug11',9:'Sep11',10:'Oct11',11:'Nov11',12:'Dec11'}"
      ],
      "execution_count": null,
      "outputs": []
    },
    {
      "cell_type": "code",
      "metadata": {
        "id": "pMOmHWDl0_G_"
      },
      "source": [
        "df['MonthName']=df['Month'].map(mmap)"
      ],
      "execution_count": null,
      "outputs": []
    },
    {
      "cell_type": "code",
      "metadata": {
        "colab": {
          "base_uri": "https://localhost:8080/"
        },
        "id": "DP5FObVf1D1W",
        "outputId": "3f9d7cb2-e39f-466e-9cea-ef90cd88fc68"
      },
      "source": [
        "df.head()"
      ],
      "execution_count": null,
      "outputs": [
        {
          "output_type": "execute_result",
          "data": {
            "text/html": [
              "<div>\n",
              "<style scoped>\n",
              "    .dataframe tbody tr th:only-of-type {\n",
              "        vertical-align: middle;\n",
              "    }\n",
              "\n",
              "    .dataframe tbody tr th {\n",
              "        vertical-align: top;\n",
              "    }\n",
              "\n",
              "    .dataframe thead th {\n",
              "        text-align: right;\n",
              "    }\n",
              "</style>\n",
              "<table border=\"1\" class=\"dataframe\">\n",
              "  <thead>\n",
              "    <tr style=\"text-align: right;\">\n",
              "      <th></th>\n",
              "      <th>InvoiceNo</th>\n",
              "      <th>StockCode</th>\n",
              "      <th>Description</th>\n",
              "      <th>Quantity</th>\n",
              "      <th>InvoiceDate</th>\n",
              "      <th>UnitPrice</th>\n",
              "      <th>CustomerID</th>\n",
              "      <th>Country</th>\n",
              "      <th>TotalTransaction</th>\n",
              "      <th>Month</th>\n",
              "      <th>Year</th>\n",
              "      <th>MonthName</th>\n",
              "    </tr>\n",
              "  </thead>\n",
              "  <tbody>\n",
              "    <tr>\n",
              "      <th>0</th>\n",
              "      <td>536365</td>\n",
              "      <td>85123A</td>\n",
              "      <td>WHITE HANGING HEART T-LIGHT HOLDER</td>\n",
              "      <td>6</td>\n",
              "      <td>2010-12-01 08:26:00</td>\n",
              "      <td>2.55</td>\n",
              "      <td>17850</td>\n",
              "      <td>United Kingdom</td>\n",
              "      <td>15.30</td>\n",
              "      <td>12</td>\n",
              "      <td>2010</td>\n",
              "      <td>Dec11</td>\n",
              "    </tr>\n",
              "    <tr>\n",
              "      <th>1</th>\n",
              "      <td>536365</td>\n",
              "      <td>71053</td>\n",
              "      <td>WHITE METAL LANTERN</td>\n",
              "      <td>6</td>\n",
              "      <td>2010-12-01 08:26:00</td>\n",
              "      <td>3.39</td>\n",
              "      <td>17850</td>\n",
              "      <td>United Kingdom</td>\n",
              "      <td>20.34</td>\n",
              "      <td>12</td>\n",
              "      <td>2010</td>\n",
              "      <td>Dec11</td>\n",
              "    </tr>\n",
              "    <tr>\n",
              "      <th>2</th>\n",
              "      <td>536365</td>\n",
              "      <td>84406B</td>\n",
              "      <td>CREAM CUPID HEARTS COAT HANGER</td>\n",
              "      <td>8</td>\n",
              "      <td>2010-12-01 08:26:00</td>\n",
              "      <td>2.75</td>\n",
              "      <td>17850</td>\n",
              "      <td>United Kingdom</td>\n",
              "      <td>22.00</td>\n",
              "      <td>12</td>\n",
              "      <td>2010</td>\n",
              "      <td>Dec11</td>\n",
              "    </tr>\n",
              "    <tr>\n",
              "      <th>3</th>\n",
              "      <td>536365</td>\n",
              "      <td>84029G</td>\n",
              "      <td>KNITTED UNION FLAG HOT WATER BOTTLE</td>\n",
              "      <td>6</td>\n",
              "      <td>2010-12-01 08:26:00</td>\n",
              "      <td>3.39</td>\n",
              "      <td>17850</td>\n",
              "      <td>United Kingdom</td>\n",
              "      <td>20.34</td>\n",
              "      <td>12</td>\n",
              "      <td>2010</td>\n",
              "      <td>Dec11</td>\n",
              "    </tr>\n",
              "    <tr>\n",
              "      <th>4</th>\n",
              "      <td>536365</td>\n",
              "      <td>84029E</td>\n",
              "      <td>RED WOOLLY HOTTIE WHITE HEART.</td>\n",
              "      <td>6</td>\n",
              "      <td>2010-12-01 08:26:00</td>\n",
              "      <td>3.39</td>\n",
              "      <td>17850</td>\n",
              "      <td>United Kingdom</td>\n",
              "      <td>20.34</td>\n",
              "      <td>12</td>\n",
              "      <td>2010</td>\n",
              "      <td>Dec11</td>\n",
              "    </tr>\n",
              "  </tbody>\n",
              "</table>\n",
              "</div>"
            ],
            "text/plain": [
              "  InvoiceNo StockCode  ...  Year  MonthName\n",
              "0    536365    85123A  ...  2010      Dec11\n",
              "1    536365     71053  ...  2010      Dec11\n",
              "2    536365    84406B  ...  2010      Dec11\n",
              "3    536365    84029G  ...  2010      Dec11\n",
              "4    536365    84029E  ...  2010      Dec11\n",
              "\n",
              "[5 rows x 12 columns]"
            ]
          },
          "metadata": {
            "tags": []
          },
          "execution_count": 47
        }
      ]
    },
    {
      "cell_type": "code",
      "metadata": {
        "id": "oG8vs3Ds1GK3"
      },
      "source": [
        "def month(x):\n",
        "    Month=x[0]\n",
        "    Year=x[1]\n",
        "    \n",
        "    if Year==2010:\n",
        "        Month='Dec10'\n",
        "        return Month\n",
        "    else:\n",
        "        return Month"
      ],
      "execution_count": null,
      "outputs": []
    },
    {
      "cell_type": "code",
      "metadata": {
        "id": "ZbMM0IgU1NOI"
      },
      "source": [
        "df['MonthName']=df[['MonthName','Year']].apply(month, axis=1)"
      ],
      "execution_count": null,
      "outputs": []
    },
    {
      "cell_type": "code",
      "metadata": {
        "colab": {
          "base_uri": "https://localhost:8080/"
        },
        "id": "z_6bWn3W1P8q",
        "outputId": "25b07868-77df-4b3b-e1e9-030d4efa4ed5"
      },
      "source": [
        "df.head()"
      ],
      "execution_count": null,
      "outputs": [
        {
          "output_type": "execute_result",
          "data": {
            "text/html": [
              "<div>\n",
              "<style scoped>\n",
              "    .dataframe tbody tr th:only-of-type {\n",
              "        vertical-align: middle;\n",
              "    }\n",
              "\n",
              "    .dataframe tbody tr th {\n",
              "        vertical-align: top;\n",
              "    }\n",
              "\n",
              "    .dataframe thead th {\n",
              "        text-align: right;\n",
              "    }\n",
              "</style>\n",
              "<table border=\"1\" class=\"dataframe\">\n",
              "  <thead>\n",
              "    <tr style=\"text-align: right;\">\n",
              "      <th></th>\n",
              "      <th>InvoiceNo</th>\n",
              "      <th>StockCode</th>\n",
              "      <th>Description</th>\n",
              "      <th>Quantity</th>\n",
              "      <th>InvoiceDate</th>\n",
              "      <th>UnitPrice</th>\n",
              "      <th>CustomerID</th>\n",
              "      <th>Country</th>\n",
              "      <th>TotalTransaction</th>\n",
              "      <th>Month</th>\n",
              "      <th>Year</th>\n",
              "      <th>MonthName</th>\n",
              "    </tr>\n",
              "  </thead>\n",
              "  <tbody>\n",
              "    <tr>\n",
              "      <th>0</th>\n",
              "      <td>536365</td>\n",
              "      <td>85123A</td>\n",
              "      <td>WHITE HANGING HEART T-LIGHT HOLDER</td>\n",
              "      <td>6</td>\n",
              "      <td>2010-12-01 08:26:00</td>\n",
              "      <td>2.55</td>\n",
              "      <td>17850</td>\n",
              "      <td>United Kingdom</td>\n",
              "      <td>15.30</td>\n",
              "      <td>12</td>\n",
              "      <td>2010</td>\n",
              "      <td>Dec10</td>\n",
              "    </tr>\n",
              "    <tr>\n",
              "      <th>1</th>\n",
              "      <td>536365</td>\n",
              "      <td>71053</td>\n",
              "      <td>WHITE METAL LANTERN</td>\n",
              "      <td>6</td>\n",
              "      <td>2010-12-01 08:26:00</td>\n",
              "      <td>3.39</td>\n",
              "      <td>17850</td>\n",
              "      <td>United Kingdom</td>\n",
              "      <td>20.34</td>\n",
              "      <td>12</td>\n",
              "      <td>2010</td>\n",
              "      <td>Dec10</td>\n",
              "    </tr>\n",
              "    <tr>\n",
              "      <th>2</th>\n",
              "      <td>536365</td>\n",
              "      <td>84406B</td>\n",
              "      <td>CREAM CUPID HEARTS COAT HANGER</td>\n",
              "      <td>8</td>\n",
              "      <td>2010-12-01 08:26:00</td>\n",
              "      <td>2.75</td>\n",
              "      <td>17850</td>\n",
              "      <td>United Kingdom</td>\n",
              "      <td>22.00</td>\n",
              "      <td>12</td>\n",
              "      <td>2010</td>\n",
              "      <td>Dec10</td>\n",
              "    </tr>\n",
              "    <tr>\n",
              "      <th>3</th>\n",
              "      <td>536365</td>\n",
              "      <td>84029G</td>\n",
              "      <td>KNITTED UNION FLAG HOT WATER BOTTLE</td>\n",
              "      <td>6</td>\n",
              "      <td>2010-12-01 08:26:00</td>\n",
              "      <td>3.39</td>\n",
              "      <td>17850</td>\n",
              "      <td>United Kingdom</td>\n",
              "      <td>20.34</td>\n",
              "      <td>12</td>\n",
              "      <td>2010</td>\n",
              "      <td>Dec10</td>\n",
              "    </tr>\n",
              "    <tr>\n",
              "      <th>4</th>\n",
              "      <td>536365</td>\n",
              "      <td>84029E</td>\n",
              "      <td>RED WOOLLY HOTTIE WHITE HEART.</td>\n",
              "      <td>6</td>\n",
              "      <td>2010-12-01 08:26:00</td>\n",
              "      <td>3.39</td>\n",
              "      <td>17850</td>\n",
              "      <td>United Kingdom</td>\n",
              "      <td>20.34</td>\n",
              "      <td>12</td>\n",
              "      <td>2010</td>\n",
              "      <td>Dec10</td>\n",
              "    </tr>\n",
              "  </tbody>\n",
              "</table>\n",
              "</div>"
            ],
            "text/plain": [
              "  InvoiceNo StockCode  ...  Year  MonthName\n",
              "0    536365    85123A  ...  2010      Dec10\n",
              "1    536365     71053  ...  2010      Dec10\n",
              "2    536365    84406B  ...  2010      Dec10\n",
              "3    536365    84029G  ...  2010      Dec10\n",
              "4    536365    84029E  ...  2010      Dec10\n",
              "\n",
              "[5 rows x 12 columns]"
            ]
          },
          "metadata": {
            "tags": []
          },
          "execution_count": 50
        }
      ]
    },
    {
      "cell_type": "markdown",
      "metadata": {
        "id": "U_WDGyo01dce"
      },
      "source": [
        "## Total Transaksi Per Bulan"
      ]
    },
    {
      "cell_type": "code",
      "metadata": {
        "id": "juba9qZa1X_V"
      },
      "source": [
        "monthly= df.groupby(['Year','Month','MonthName']).sum()"
      ],
      "execution_count": null,
      "outputs": []
    },
    {
      "cell_type": "code",
      "metadata": {
        "colab": {
          "base_uri": "https://localhost:8080/"
        },
        "id": "yGDzxDQX1gwS",
        "outputId": "549e51bd-f6ae-4b55-e764-54f946ce2a33"
      },
      "source": [
        "monthly"
      ],
      "execution_count": null,
      "outputs": [
        {
          "output_type": "execute_result",
          "data": {
            "text/html": [
              "<div>\n",
              "<style scoped>\n",
              "    .dataframe tbody tr th:only-of-type {\n",
              "        vertical-align: middle;\n",
              "    }\n",
              "\n",
              "    .dataframe tbody tr th {\n",
              "        vertical-align: top;\n",
              "    }\n",
              "\n",
              "    .dataframe thead th {\n",
              "        text-align: right;\n",
              "    }\n",
              "</style>\n",
              "<table border=\"1\" class=\"dataframe\">\n",
              "  <thead>\n",
              "    <tr style=\"text-align: right;\">\n",
              "      <th></th>\n",
              "      <th></th>\n",
              "      <th></th>\n",
              "      <th>Quantity</th>\n",
              "      <th>UnitPrice</th>\n",
              "      <th>TotalTransaction</th>\n",
              "    </tr>\n",
              "    <tr>\n",
              "      <th>Year</th>\n",
              "      <th>Month</th>\n",
              "      <th>MonthName</th>\n",
              "      <th></th>\n",
              "      <th></th>\n",
              "      <th></th>\n",
              "    </tr>\n",
              "  </thead>\n",
              "  <tbody>\n",
              "    <tr>\n",
              "      <th>2010</th>\n",
              "      <th>12</th>\n",
              "      <th>Dec10</th>\n",
              "      <td>357543</td>\n",
              "      <td>156770.550</td>\n",
              "      <td>776332.500</td>\n",
              "    </tr>\n",
              "    <tr>\n",
              "      <th rowspan=\"12\" valign=\"top\">2011</th>\n",
              "      <th>1</th>\n",
              "      <th>Jan11</th>\n",
              "      <td>386746</td>\n",
              "      <td>113442.120</td>\n",
              "      <td>670654.460</td>\n",
              "    </tr>\n",
              "    <tr>\n",
              "      <th>2</th>\n",
              "      <th>Feb11</th>\n",
              "      <td>282635</td>\n",
              "      <td>95055.310</td>\n",
              "      <td>508081.540</td>\n",
              "    </tr>\n",
              "    <tr>\n",
              "      <th>3</th>\n",
              "      <th>Mar11</th>\n",
              "      <td>376198</td>\n",
              "      <td>123076.090</td>\n",
              "      <td>690591.840</td>\n",
              "    </tr>\n",
              "    <tr>\n",
              "      <th>4</th>\n",
              "      <th>Apr11</th>\n",
              "      <td>307666</td>\n",
              "      <td>95916.071</td>\n",
              "      <td>515914.661</td>\n",
              "    </tr>\n",
              "    <tr>\n",
              "      <th>5</th>\n",
              "      <th>May11</th>\n",
              "      <td>394668</td>\n",
              "      <td>124065.150</td>\n",
              "      <td>740487.330</td>\n",
              "    </tr>\n",
              "    <tr>\n",
              "      <th>6</th>\n",
              "      <th>Jun11</th>\n",
              "      <td>388141</td>\n",
              "      <td>120427.720</td>\n",
              "      <td>738233.990</td>\n",
              "    </tr>\n",
              "    <tr>\n",
              "      <th>7</th>\n",
              "      <th>Jul11</th>\n",
              "      <td>399303</td>\n",
              "      <td>116403.961</td>\n",
              "      <td>688802.671</td>\n",
              "    </tr>\n",
              "    <tr>\n",
              "      <th>8</th>\n",
              "      <th>Aug11</th>\n",
              "      <td>420709</td>\n",
              "      <td>107929.050</td>\n",
              "      <td>724708.160</td>\n",
              "    </tr>\n",
              "    <tr>\n",
              "      <th>9</th>\n",
              "      <th>Sep11</th>\n",
              "      <td>568723</td>\n",
              "      <td>150796.102</td>\n",
              "      <td>1029275.382</td>\n",
              "    </tr>\n",
              "    <tr>\n",
              "      <th>10</th>\n",
              "      <th>Oct11</th>\n",
              "      <td>619615</td>\n",
              "      <td>180916.700</td>\n",
              "      <td>1104093.970</td>\n",
              "    </tr>\n",
              "    <tr>\n",
              "      <th>11</th>\n",
              "      <th>Nov11</th>\n",
              "      <td>746977</td>\n",
              "      <td>254339.510</td>\n",
              "      <td>1453295.980</td>\n",
              "    </tr>\n",
              "    <tr>\n",
              "      <th>12</th>\n",
              "      <th>Dec11</th>\n",
              "      <td>312653</td>\n",
              "      <td>79570.830</td>\n",
              "      <td>614714.250</td>\n",
              "    </tr>\n",
              "  </tbody>\n",
              "</table>\n",
              "</div>"
            ],
            "text/plain": [
              "                      Quantity   UnitPrice  TotalTransaction\n",
              "Year Month MonthName                                        \n",
              "2010 12    Dec10        357543  156770.550        776332.500\n",
              "2011 1     Jan11        386746  113442.120        670654.460\n",
              "     2     Feb11        282635   95055.310        508081.540\n",
              "     3     Mar11        376198  123076.090        690591.840\n",
              "     4     Apr11        307666   95916.071        515914.661\n",
              "     5     May11        394668  124065.150        740487.330\n",
              "     6     Jun11        388141  120427.720        738233.990\n",
              "     7     Jul11        399303  116403.961        688802.671\n",
              "     8     Aug11        420709  107929.050        724708.160\n",
              "     9     Sep11        568723  150796.102       1029275.382\n",
              "     10    Oct11        619615  180916.700       1104093.970\n",
              "     11    Nov11        746977  254339.510       1453295.980\n",
              "     12    Dec11        312653   79570.830        614714.250"
            ]
          },
          "metadata": {
            "tags": []
          },
          "execution_count": 52
        }
      ]
    },
    {
      "cell_type": "code",
      "metadata": {
        "id": "j80vbQro1kuM"
      },
      "source": [
        "monthly.reset_index(inplace=True)"
      ],
      "execution_count": null,
      "outputs": []
    },
    {
      "cell_type": "code",
      "metadata": {
        "colab": {
          "base_uri": "https://localhost:8080/"
        },
        "id": "OjAYac-Z2akw",
        "outputId": "aae86e08-f73a-486f-f916-d60e195acd9e"
      },
      "source": [
        "monthly"
      ],
      "execution_count": null,
      "outputs": [
        {
          "output_type": "execute_result",
          "data": {
            "text/html": [
              "<div>\n",
              "<style scoped>\n",
              "    .dataframe tbody tr th:only-of-type {\n",
              "        vertical-align: middle;\n",
              "    }\n",
              "\n",
              "    .dataframe tbody tr th {\n",
              "        vertical-align: top;\n",
              "    }\n",
              "\n",
              "    .dataframe thead th {\n",
              "        text-align: right;\n",
              "    }\n",
              "</style>\n",
              "<table border=\"1\" class=\"dataframe\">\n",
              "  <thead>\n",
              "    <tr style=\"text-align: right;\">\n",
              "      <th></th>\n",
              "      <th>Year</th>\n",
              "      <th>Month</th>\n",
              "      <th>MonthName</th>\n",
              "      <th>Quantity</th>\n",
              "      <th>UnitPrice</th>\n",
              "      <th>TotalTransaction</th>\n",
              "    </tr>\n",
              "  </thead>\n",
              "  <tbody>\n",
              "    <tr>\n",
              "      <th>0</th>\n",
              "      <td>2010</td>\n",
              "      <td>12</td>\n",
              "      <td>Dec10</td>\n",
              "      <td>357543</td>\n",
              "      <td>156770.550</td>\n",
              "      <td>776332.500</td>\n",
              "    </tr>\n",
              "    <tr>\n",
              "      <th>1</th>\n",
              "      <td>2011</td>\n",
              "      <td>1</td>\n",
              "      <td>Jan11</td>\n",
              "      <td>386746</td>\n",
              "      <td>113442.120</td>\n",
              "      <td>670654.460</td>\n",
              "    </tr>\n",
              "    <tr>\n",
              "      <th>2</th>\n",
              "      <td>2011</td>\n",
              "      <td>2</td>\n",
              "      <td>Feb11</td>\n",
              "      <td>282635</td>\n",
              "      <td>95055.310</td>\n",
              "      <td>508081.540</td>\n",
              "    </tr>\n",
              "    <tr>\n",
              "      <th>3</th>\n",
              "      <td>2011</td>\n",
              "      <td>3</td>\n",
              "      <td>Mar11</td>\n",
              "      <td>376198</td>\n",
              "      <td>123076.090</td>\n",
              "      <td>690591.840</td>\n",
              "    </tr>\n",
              "    <tr>\n",
              "      <th>4</th>\n",
              "      <td>2011</td>\n",
              "      <td>4</td>\n",
              "      <td>Apr11</td>\n",
              "      <td>307666</td>\n",
              "      <td>95916.071</td>\n",
              "      <td>515914.661</td>\n",
              "    </tr>\n",
              "    <tr>\n",
              "      <th>5</th>\n",
              "      <td>2011</td>\n",
              "      <td>5</td>\n",
              "      <td>May11</td>\n",
              "      <td>394668</td>\n",
              "      <td>124065.150</td>\n",
              "      <td>740487.330</td>\n",
              "    </tr>\n",
              "    <tr>\n",
              "      <th>6</th>\n",
              "      <td>2011</td>\n",
              "      <td>6</td>\n",
              "      <td>Jun11</td>\n",
              "      <td>388141</td>\n",
              "      <td>120427.720</td>\n",
              "      <td>738233.990</td>\n",
              "    </tr>\n",
              "    <tr>\n",
              "      <th>7</th>\n",
              "      <td>2011</td>\n",
              "      <td>7</td>\n",
              "      <td>Jul11</td>\n",
              "      <td>399303</td>\n",
              "      <td>116403.961</td>\n",
              "      <td>688802.671</td>\n",
              "    </tr>\n",
              "    <tr>\n",
              "      <th>8</th>\n",
              "      <td>2011</td>\n",
              "      <td>8</td>\n",
              "      <td>Aug11</td>\n",
              "      <td>420709</td>\n",
              "      <td>107929.050</td>\n",
              "      <td>724708.160</td>\n",
              "    </tr>\n",
              "    <tr>\n",
              "      <th>9</th>\n",
              "      <td>2011</td>\n",
              "      <td>9</td>\n",
              "      <td>Sep11</td>\n",
              "      <td>568723</td>\n",
              "      <td>150796.102</td>\n",
              "      <td>1029275.382</td>\n",
              "    </tr>\n",
              "    <tr>\n",
              "      <th>10</th>\n",
              "      <td>2011</td>\n",
              "      <td>10</td>\n",
              "      <td>Oct11</td>\n",
              "      <td>619615</td>\n",
              "      <td>180916.700</td>\n",
              "      <td>1104093.970</td>\n",
              "    </tr>\n",
              "    <tr>\n",
              "      <th>11</th>\n",
              "      <td>2011</td>\n",
              "      <td>11</td>\n",
              "      <td>Nov11</td>\n",
              "      <td>746977</td>\n",
              "      <td>254339.510</td>\n",
              "      <td>1453295.980</td>\n",
              "    </tr>\n",
              "    <tr>\n",
              "      <th>12</th>\n",
              "      <td>2011</td>\n",
              "      <td>12</td>\n",
              "      <td>Dec11</td>\n",
              "      <td>312653</td>\n",
              "      <td>79570.830</td>\n",
              "      <td>614714.250</td>\n",
              "    </tr>\n",
              "  </tbody>\n",
              "</table>\n",
              "</div>"
            ],
            "text/plain": [
              "    Year  Month MonthName  Quantity   UnitPrice  TotalTransaction\n",
              "0   2010     12     Dec10    357543  156770.550        776332.500\n",
              "1   2011      1     Jan11    386746  113442.120        670654.460\n",
              "2   2011      2     Feb11    282635   95055.310        508081.540\n",
              "3   2011      3     Mar11    376198  123076.090        690591.840\n",
              "4   2011      4     Apr11    307666   95916.071        515914.661\n",
              "5   2011      5     May11    394668  124065.150        740487.330\n",
              "6   2011      6     Jun11    388141  120427.720        738233.990\n",
              "7   2011      7     Jul11    399303  116403.961        688802.671\n",
              "8   2011      8     Aug11    420709  107929.050        724708.160\n",
              "9   2011      9     Sep11    568723  150796.102       1029275.382\n",
              "10  2011     10     Oct11    619615  180916.700       1104093.970\n",
              "11  2011     11     Nov11    746977  254339.510       1453295.980\n",
              "12  2011     12     Dec11    312653   79570.830        614714.250"
            ]
          },
          "metadata": {
            "tags": []
          },
          "execution_count": 54
        }
      ]
    },
    {
      "cell_type": "code",
      "metadata": {
        "colab": {
          "base_uri": "https://localhost:8080/"
        },
        "id": "gpslgMvh2gvc",
        "outputId": "ed07c3b7-4d90-4ff9-8e6d-46a94773ee2b"
      },
      "source": [
        "plt.figure(figsize=(10,5))\n",
        "sns.set_style('whitegrid')\n",
        "sns.barplot(x='MonthName', y='TotalTransaction', data=monthly)\n",
        "plt.title('Total Transaksi per Bulan', fontsize=14)\n",
        "plt.xlabel('Bulan')\n",
        "plt.ylabel('Total Transaksi')"
      ],
      "execution_count": null,
      "outputs": [
        {
          "output_type": "execute_result",
          "data": {
            "text/plain": [
              "Text(0, 0.5, 'Total Transaksi')"
            ]
          },
          "metadata": {
            "tags": []
          },
          "execution_count": 55
        },
        {
          "output_type": "display_data",
          "data": {
            "image/png": "[encoded data removed]",
            "text/plain": [
              "<Figure size 720x360 with 1 Axes>"
            ]
          },
          "metadata": {
            "tags": [],
            "needs_background": "light"
          }
        }
      ]
    },
    {
      "cell_type": "markdown",
      "metadata": {
        "id": "3gZi7BvB_ksS"
      },
      "source": [
        "Transaksi tertinggi terjadi pada tahun Bulan November 2011"
      ]
    },
    {
      "cell_type": "code",
      "metadata": {
        "id": "c3d3dqth_q2x"
      },
      "source": [
        "Nov11 = df[(df['Month']==11) & (df['Year']==2011)]"
      ],
      "execution_count": null,
      "outputs": []
    },
    {
      "cell_type": "code",
      "metadata": {
        "colab": {
          "base_uri": "https://localhost:8080/"
        },
        "id": "A3oFLrHC_-G_",
        "outputId": "9742ec7c-d252-4c51-bcdc-98482dd22df8"
      },
      "source": [
        "Nov11.info()"
      ],
      "execution_count": null,
      "outputs": [
        {
          "output_type": "stream",
          "text": [
            "<class 'pandas.core.frame.DataFrame'>\n",
            "Int64Index: 81752 entries, 431673 to 516368\n",
            "Data columns (total 12 columns):\n",
            " #   Column            Non-Null Count  Dtype         \n",
            "---  ------            --------------  -----         \n",
            " 0   InvoiceNo         81752 non-null  object        \n",
            " 1   StockCode         81752 non-null  object        \n",
            " 2   Description       81752 non-null  object        \n",
            " 3   Quantity          81752 non-null  int64         \n",
            " 4   InvoiceDate       81752 non-null  datetime64[ns]\n",
            " 5   UnitPrice         81752 non-null  float64       \n",
            " 6   CustomerID        81752 non-null  object        \n",
            " 7   Country           81752 non-null  object        \n",
            " 8   TotalTransaction  81752 non-null  float64       \n",
            " 9   Month             81752 non-null  int64         \n",
            " 10  Year              81752 non-null  int64         \n",
            " 11  MonthName         81752 non-null  object        \n",
            "dtypes: datetime64[ns](1), float64(2), int64(3), object(6)\n",
            "memory usage: 8.1+ MB\n"
          ],
          "name": "stdout"
        }
      ]
    },
    {
      "cell_type": "code",
      "metadata": {
        "id": "g84EyRboANtl"
      },
      "source": [
        "Nov11= Nov11.groupby(['StockCode','Description']).sum().sort_values(by='TotalTransaction', ascending = False)"
      ],
      "execution_count": null,
      "outputs": []
    },
    {
      "cell_type": "code",
      "metadata": {
        "colab": {
          "base_uri": "https://localhost:8080/"
        },
        "id": "O3RwtIdlA8-V",
        "outputId": "896c57f7-dfdf-47a4-faba-b4d75b15e58a"
      },
      "source": [
        "Nov11"
      ],
      "execution_count": null,
      "outputs": [
        {
          "output_type": "execute_result",
          "data": {
            "text/html": [
              "<div>\n",
              "<style scoped>\n",
              "    .dataframe tbody tr th:only-of-type {\n",
              "        vertical-align: middle;\n",
              "    }\n",
              "\n",
              "    .dataframe tbody tr th {\n",
              "        vertical-align: top;\n",
              "    }\n",
              "\n",
              "    .dataframe thead th {\n",
              "        text-align: right;\n",
              "    }\n",
              "</style>\n",
              "<table border=\"1\" class=\"dataframe\">\n",
              "  <thead>\n",
              "    <tr style=\"text-align: right;\">\n",
              "      <th></th>\n",
              "      <th></th>\n",
              "      <th>Quantity</th>\n",
              "      <th>UnitPrice</th>\n",
              "      <th>TotalTransaction</th>\n",
              "      <th>Month</th>\n",
              "      <th>Year</th>\n",
              "    </tr>\n",
              "    <tr>\n",
              "      <th>StockCode</th>\n",
              "      <th>Description</th>\n",
              "      <th></th>\n",
              "      <th></th>\n",
              "      <th></th>\n",
              "      <th></th>\n",
              "      <th></th>\n",
              "    </tr>\n",
              "  </thead>\n",
              "  <tbody>\n",
              "    <tr>\n",
              "      <th>23084</th>\n",
              "      <th>RABBIT NIGHT LIGHT</th>\n",
              "      <td>14913</td>\n",
              "      <td>1115.95</td>\n",
              "      <td>34478.40</td>\n",
              "      <td>5533</td>\n",
              "      <td>1011533</td>\n",
              "    </tr>\n",
              "    <tr>\n",
              "      <th>22086</th>\n",
              "      <th>PAPER CHAIN KIT 50'S CHRISTMAS</th>\n",
              "      <td>7898</td>\n",
              "      <td>1297.94</td>\n",
              "      <td>28955.54</td>\n",
              "      <td>4422</td>\n",
              "      <td>808422</td>\n",
              "    </tr>\n",
              "    <tr>\n",
              "      <th>22197</th>\n",
              "      <th>POPCORN HOLDER</th>\n",
              "      <td>12452</td>\n",
              "      <td>251.97</td>\n",
              "      <td>14188.80</td>\n",
              "      <td>2783</td>\n",
              "      <td>508783</td>\n",
              "    </tr>\n",
              "    <tr>\n",
              "      <th>85123A</th>\n",
              "      <th>WHITE HANGING HEART T-LIGHT HOLDER</th>\n",
              "      <td>4908</td>\n",
              "      <td>811.86</td>\n",
              "      <td>14130.80</td>\n",
              "      <td>2827</td>\n",
              "      <td>516827</td>\n",
              "    </tr>\n",
              "    <tr>\n",
              "      <th>22423</th>\n",
              "      <th>REGENCY CAKESTAND 3 TIER</th>\n",
              "      <td>1052</td>\n",
              "      <td>3002.91</td>\n",
              "      <td>13774.08</td>\n",
              "      <td>2244</td>\n",
              "      <td>410244</td>\n",
              "    </tr>\n",
              "    <tr>\n",
              "      <th>...</th>\n",
              "      <th>...</th>\n",
              "      <td>...</td>\n",
              "      <td>...</td>\n",
              "      <td>...</td>\n",
              "      <td>...</td>\n",
              "      <td>...</td>\n",
              "    </tr>\n",
              "    <tr>\n",
              "      <th>71496A</th>\n",
              "      <th>A4 WALL TIDY BLUE OFFICE</th>\n",
              "      <td>1</td>\n",
              "      <td>0.53</td>\n",
              "      <td>0.53</td>\n",
              "      <td>11</td>\n",
              "      <td>2011</td>\n",
              "    </tr>\n",
              "    <tr>\n",
              "      <th>71496B</th>\n",
              "      <th>A4 WALL TIDY RED FLOWERS</th>\n",
              "      <td>1</td>\n",
              "      <td>0.53</td>\n",
              "      <td>0.53</td>\n",
              "      <td>11</td>\n",
              "      <td>2011</td>\n",
              "    </tr>\n",
              "    <tr>\n",
              "      <th>79063C</th>\n",
              "      <th>RETRO PILL BOX KEY CHAIN,THE KING</th>\n",
              "      <td>2</td>\n",
              "      <td>0.38</td>\n",
              "      <td>0.38</td>\n",
              "      <td>22</td>\n",
              "      <td>4022</td>\n",
              "    </tr>\n",
              "    <tr>\n",
              "      <th>35818B</th>\n",
              "      <th>ACRYLIC JEWEL ICICLE, BLUE</th>\n",
              "      <td>1</td>\n",
              "      <td>0.38</td>\n",
              "      <td>0.38</td>\n",
              "      <td>11</td>\n",
              "      <td>2011</td>\n",
              "    </tr>\n",
              "    <tr>\n",
              "      <th>84201B</th>\n",
              "      <th>HAPPY BIRTHDAY CARD STRIPEY TEDDY</th>\n",
              "      <td>1</td>\n",
              "      <td>0.19</td>\n",
              "      <td>0.19</td>\n",
              "      <td>11</td>\n",
              "      <td>2011</td>\n",
              "    </tr>\n",
              "  </tbody>\n",
              "</table>\n",
              "<p>2970 rows × 5 columns</p>\n",
              "</div>"
            ],
            "text/plain": [
              "                                              Quantity  ...     Year\n",
              "StockCode Description                                   ...         \n",
              "23084     RABBIT NIGHT LIGHT                     14913  ...  1011533\n",
              "22086     PAPER CHAIN KIT 50'S CHRISTMAS          7898  ...   808422\n",
              "22197     POPCORN HOLDER                         12452  ...   508783\n",
              "85123A    WHITE HANGING HEART T-LIGHT HOLDER      4908  ...   516827\n",
              "22423     REGENCY CAKESTAND 3 TIER                1052  ...   410244\n",
              "...                                                ...  ...      ...\n",
              "71496A    A4 WALL TIDY BLUE OFFICE                   1  ...     2011\n",
              "71496B    A4 WALL TIDY RED FLOWERS                   1  ...     2011\n",
              "79063C    RETRO PILL BOX KEY CHAIN,THE KING          2  ...     4022\n",
              "35818B    ACRYLIC JEWEL ICICLE, BLUE                 1  ...     2011\n",
              "84201B    HAPPY BIRTHDAY CARD STRIPEY TEDDY          1  ...     2011\n",
              "\n",
              "[2970 rows x 5 columns]"
            ]
          },
          "metadata": {
            "tags": []
          },
          "execution_count": 59
        }
      ]
    },
    {
      "cell_type": "markdown",
      "metadata": {
        "id": "U1PLUT0RBCMV"
      },
      "source": [
        "10 Item Penjualan Tertinggi di 2011"
      ]
    },
    {
      "cell_type": "code",
      "metadata": {
        "colab": {
          "base_uri": "https://localhost:8080/"
        },
        "id": "ak8yfqZ0BAP7",
        "outputId": "db766a1c-6267-4799-c4f6-ce69725c2789"
      },
      "source": [
        "Nov11[['TotalTransaction']].head(10)"
      ],
      "execution_count": null,
      "outputs": [
        {
          "output_type": "execute_result",
          "data": {
            "text/html": [
              "<div>\n",
              "<style scoped>\n",
              "    .dataframe tbody tr th:only-of-type {\n",
              "        vertical-align: middle;\n",
              "    }\n",
              "\n",
              "    .dataframe tbody tr th {\n",
              "        vertical-align: top;\n",
              "    }\n",
              "\n",
              "    .dataframe thead th {\n",
              "        text-align: right;\n",
              "    }\n",
              "</style>\n",
              "<table border=\"1\" class=\"dataframe\">\n",
              "  <thead>\n",
              "    <tr style=\"text-align: right;\">\n",
              "      <th></th>\n",
              "      <th></th>\n",
              "      <th>TotalTransaction</th>\n",
              "    </tr>\n",
              "    <tr>\n",
              "      <th>StockCode</th>\n",
              "      <th>Description</th>\n",
              "      <th></th>\n",
              "    </tr>\n",
              "  </thead>\n",
              "  <tbody>\n",
              "    <tr>\n",
              "      <th>23084</th>\n",
              "      <th>RABBIT NIGHT LIGHT</th>\n",
              "      <td>34478.40</td>\n",
              "    </tr>\n",
              "    <tr>\n",
              "      <th>22086</th>\n",
              "      <th>PAPER CHAIN KIT 50'S CHRISTMAS</th>\n",
              "      <td>28955.54</td>\n",
              "    </tr>\n",
              "    <tr>\n",
              "      <th>22197</th>\n",
              "      <th>POPCORN HOLDER</th>\n",
              "      <td>14188.80</td>\n",
              "    </tr>\n",
              "    <tr>\n",
              "      <th>85123A</th>\n",
              "      <th>WHITE HANGING HEART T-LIGHT HOLDER</th>\n",
              "      <td>14130.80</td>\n",
              "    </tr>\n",
              "    <tr>\n",
              "      <th>22423</th>\n",
              "      <th>REGENCY CAKESTAND 3 TIER</th>\n",
              "      <td>13774.08</td>\n",
              "    </tr>\n",
              "    <tr>\n",
              "      <th>22910</th>\n",
              "      <th>PAPER CHAIN KIT VINTAGE CHRISTMAS</th>\n",
              "      <td>12929.74</td>\n",
              "    </tr>\n",
              "    <tr>\n",
              "      <th>23355</th>\n",
              "      <th>HOT WATER BOTTLE KEEP CALM</th>\n",
              "      <td>11760.07</td>\n",
              "    </tr>\n",
              "    <tr>\n",
              "      <th>85099B</th>\n",
              "      <th>JUMBO BAG RED RETROSPOT</th>\n",
              "      <td>11639.29</td>\n",
              "    </tr>\n",
              "    <tr>\n",
              "      <th>79321</th>\n",
              "      <th>CHILLI LIGHTS</th>\n",
              "      <td>11485.77</td>\n",
              "    </tr>\n",
              "    <tr>\n",
              "      <th>23344</th>\n",
              "      <th>JUMBO BAG 50'S CHRISTMAS</th>\n",
              "      <td>11062.98</td>\n",
              "    </tr>\n",
              "  </tbody>\n",
              "</table>\n",
              "</div>"
            ],
            "text/plain": [
              "                                              TotalTransaction\n",
              "StockCode Description                                         \n",
              "23084     RABBIT NIGHT LIGHT                          34478.40\n",
              "22086     PAPER CHAIN KIT 50'S CHRISTMAS              28955.54\n",
              "22197     POPCORN HOLDER                              14188.80\n",
              "85123A    WHITE HANGING HEART T-LIGHT HOLDER          14130.80\n",
              "22423     REGENCY CAKESTAND 3 TIER                    13774.08\n",
              "22910     PAPER CHAIN KIT VINTAGE CHRISTMAS           12929.74\n",
              "23355     HOT WATER BOTTLE KEEP CALM                  11760.07\n",
              "85099B    JUMBO BAG RED RETROSPOT                     11639.29\n",
              "79321     CHILLI LIGHTS                               11485.77\n",
              "23344     JUMBO BAG 50'S CHRISTMAS                    11062.98"
            ]
          },
          "metadata": {
            "tags": []
          },
          "execution_count": 60
        }
      ]
    },
    {
      "cell_type": "code",
      "metadata": {
        "id": "haiSJR5CBntn"
      },
      "source": [
        "pivot=df.pivot_table(index=['StockCode','Description'], values='TotalTransaction', columns='MonthName', aggfunc='sum').sort_values(by='Nov11', ascending=False)"
      ],
      "execution_count": null,
      "outputs": []
    },
    {
      "cell_type": "code",
      "metadata": {
        "colab": {
          "base_uri": "https://localhost:8080/"
        },
        "id": "fmHIVkbSB0-h",
        "outputId": "696fe78b-eb8b-4fde-c7b3-aaf405ceda38"
      },
      "source": [
        "pivot.head(10)"
      ],
      "execution_count": null,
      "outputs": [
        {
          "output_type": "execute_result",
          "data": {
            "text/html": [
              "<div>\n",
              "<style scoped>\n",
              "    .dataframe tbody tr th:only-of-type {\n",
              "        vertical-align: middle;\n",
              "    }\n",
              "\n",
              "    .dataframe tbody tr th {\n",
              "        vertical-align: top;\n",
              "    }\n",
              "\n",
              "    .dataframe thead th {\n",
              "        text-align: right;\n",
              "    }\n",
              "</style>\n",
              "<table border=\"1\" class=\"dataframe\">\n",
              "  <thead>\n",
              "    <tr style=\"text-align: right;\">\n",
              "      <th></th>\n",
              "      <th>MonthName</th>\n",
              "      <th>Apr11</th>\n",
              "      <th>Aug11</th>\n",
              "      <th>Dec10</th>\n",
              "      <th>Dec11</th>\n",
              "      <th>Feb11</th>\n",
              "      <th>Jan11</th>\n",
              "      <th>Jul11</th>\n",
              "      <th>Jun11</th>\n",
              "      <th>Mar11</th>\n",
              "      <th>May11</th>\n",
              "      <th>Nov11</th>\n",
              "      <th>Oct11</th>\n",
              "      <th>Sep11</th>\n",
              "    </tr>\n",
              "    <tr>\n",
              "      <th>StockCode</th>\n",
              "      <th>Description</th>\n",
              "      <th></th>\n",
              "      <th></th>\n",
              "      <th></th>\n",
              "      <th></th>\n",
              "      <th></th>\n",
              "      <th></th>\n",
              "      <th></th>\n",
              "      <th></th>\n",
              "      <th></th>\n",
              "      <th></th>\n",
              "      <th></th>\n",
              "      <th></th>\n",
              "      <th></th>\n",
              "    </tr>\n",
              "  </thead>\n",
              "  <tbody>\n",
              "    <tr>\n",
              "      <th>23084</th>\n",
              "      <th>RABBIT NIGHT LIGHT</th>\n",
              "      <td>NaN</td>\n",
              "      <td>3533.57</td>\n",
              "      <td>NaN</td>\n",
              "      <td>9628.46</td>\n",
              "      <td>NaN</td>\n",
              "      <td>NaN</td>\n",
              "      <td>668.59</td>\n",
              "      <td>3326.87</td>\n",
              "      <td>NaN</td>\n",
              "      <td>2277.49</td>\n",
              "      <td>34478.40</td>\n",
              "      <td>12256.87</td>\n",
              "      <td>699.78</td>\n",
              "    </tr>\n",
              "    <tr>\n",
              "      <th>22086</th>\n",
              "      <th>PAPER CHAIN KIT 50'S CHRISTMAS</th>\n",
              "      <td>41.08</td>\n",
              "      <td>1329.04</td>\n",
              "      <td>9208.10</td>\n",
              "      <td>6867.76</td>\n",
              "      <td>24.95</td>\n",
              "      <td>143.32</td>\n",
              "      <td>1077.93</td>\n",
              "      <td>910.88</td>\n",
              "      <td>232.01</td>\n",
              "      <td>65.19</td>\n",
              "      <td>28955.54</td>\n",
              "      <td>10022.54</td>\n",
              "      <td>5997.25</td>\n",
              "    </tr>\n",
              "    <tr>\n",
              "      <th>22197</th>\n",
              "      <th>POPCORN HOLDER</th>\n",
              "      <td>NaN</td>\n",
              "      <td>4061.35</td>\n",
              "      <td>NaN</td>\n",
              "      <td>5423.80</td>\n",
              "      <td>NaN</td>\n",
              "      <td>NaN</td>\n",
              "      <td>1509.40</td>\n",
              "      <td>800.44</td>\n",
              "      <td>NaN</td>\n",
              "      <td>NaN</td>\n",
              "      <td>14188.80</td>\n",
              "      <td>4810.55</td>\n",
              "      <td>3494.33</td>\n",
              "    </tr>\n",
              "    <tr>\n",
              "      <th>85123A</th>\n",
              "      <th>WHITE HANGING HEART T-LIGHT HOLDER</th>\n",
              "      <td>10017.79</td>\n",
              "      <td>5620.57</td>\n",
              "      <td>10435.36</td>\n",
              "      <td>2047.90</td>\n",
              "      <td>5140.11</td>\n",
              "      <td>15205.51</td>\n",
              "      <td>8495.26</td>\n",
              "      <td>4680.81</td>\n",
              "      <td>5597.90</td>\n",
              "      <td>11216.42</td>\n",
              "      <td>14130.80</td>\n",
              "      <td>4750.15</td>\n",
              "      <td>6945.66</td>\n",
              "    </tr>\n",
              "    <tr>\n",
              "      <th>22423</th>\n",
              "      <th>REGENCY CAKESTAND 3 TIER</th>\n",
              "      <td>14812.95</td>\n",
              "      <td>10521.30</td>\n",
              "      <td>27694.76</td>\n",
              "      <td>5994.12</td>\n",
              "      <td>11009.49</td>\n",
              "      <td>12800.60</td>\n",
              "      <td>13936.11</td>\n",
              "      <td>9732.64</td>\n",
              "      <td>18359.25</td>\n",
              "      <td>12645.97</td>\n",
              "      <td>13774.08</td>\n",
              "      <td>13255.74</td>\n",
              "      <td>9619.53</td>\n",
              "    </tr>\n",
              "    <tr>\n",
              "      <th>22910</th>\n",
              "      <th>PAPER CHAIN KIT VINTAGE CHRISTMAS</th>\n",
              "      <td>102.00</td>\n",
              "      <td>1224.17</td>\n",
              "      <td>5010.52</td>\n",
              "      <td>2760.61</td>\n",
              "      <td>35.40</td>\n",
              "      <td>89.91</td>\n",
              "      <td>1201.93</td>\n",
              "      <td>24.33</td>\n",
              "      <td>102.00</td>\n",
              "      <td>36.75</td>\n",
              "      <td>12929.74</td>\n",
              "      <td>4833.97</td>\n",
              "      <td>4492.51</td>\n",
              "    </tr>\n",
              "    <tr>\n",
              "      <th>23355</th>\n",
              "      <th>HOT WATER BOTTLE KEEP CALM</th>\n",
              "      <td>NaN</td>\n",
              "      <td>593.52</td>\n",
              "      <td>NaN</td>\n",
              "      <td>3974.68</td>\n",
              "      <td>NaN</td>\n",
              "      <td>NaN</td>\n",
              "      <td>NaN</td>\n",
              "      <td>NaN</td>\n",
              "      <td>NaN</td>\n",
              "      <td>NaN</td>\n",
              "      <td>11760.07</td>\n",
              "      <td>6135.99</td>\n",
              "      <td>6254.54</td>\n",
              "    </tr>\n",
              "    <tr>\n",
              "      <th>85099B</th>\n",
              "      <th>JUMBO BAG RED RETROSPOT</th>\n",
              "      <td>4878.08</td>\n",
              "      <td>10622.56</td>\n",
              "      <td>4019.15</td>\n",
              "      <td>2226.90</td>\n",
              "      <td>5617.24</td>\n",
              "      <td>5047.65</td>\n",
              "      <td>6253.87</td>\n",
              "      <td>7247.98</td>\n",
              "      <td>10118.38</td>\n",
              "      <td>7122.73</td>\n",
              "      <td>11639.29</td>\n",
              "      <td>10485.81</td>\n",
              "      <td>8880.17</td>\n",
              "    </tr>\n",
              "    <tr>\n",
              "      <th>79321</th>\n",
              "      <th>CHILLI LIGHTS</th>\n",
              "      <td>357.50</td>\n",
              "      <td>2260.33</td>\n",
              "      <td>7506.44</td>\n",
              "      <td>2639.74</td>\n",
              "      <td>3616.25</td>\n",
              "      <td>5891.23</td>\n",
              "      <td>4289.24</td>\n",
              "      <td>2310.29</td>\n",
              "      <td>3087.30</td>\n",
              "      <td>2296.75</td>\n",
              "      <td>11485.77</td>\n",
              "      <td>4678.13</td>\n",
              "      <td>3677.39</td>\n",
              "    </tr>\n",
              "    <tr>\n",
              "      <th>23344</th>\n",
              "      <th>JUMBO BAG 50'S CHRISTMAS</th>\n",
              "      <td>NaN</td>\n",
              "      <td>1191.54</td>\n",
              "      <td>NaN</td>\n",
              "      <td>2244.95</td>\n",
              "      <td>NaN</td>\n",
              "      <td>NaN</td>\n",
              "      <td>941.85</td>\n",
              "      <td>91.16</td>\n",
              "      <td>NaN</td>\n",
              "      <td>NaN</td>\n",
              "      <td>11062.98</td>\n",
              "      <td>4895.27</td>\n",
              "      <td>3344.32</td>\n",
              "    </tr>\n",
              "  </tbody>\n",
              "</table>\n",
              "</div>"
            ],
            "text/plain": [
              "MonthName                                        Apr11  ...    Sep11\n",
              "StockCode Description                                   ...         \n",
              "23084     RABBIT NIGHT LIGHT                       NaN  ...   699.78\n",
              "22086     PAPER CHAIN KIT 50'S CHRISTMAS         41.08  ...  5997.25\n",
              "22197     POPCORN HOLDER                           NaN  ...  3494.33\n",
              "85123A    WHITE HANGING HEART T-LIGHT HOLDER  10017.79  ...  6945.66\n",
              "22423     REGENCY CAKESTAND 3 TIER            14812.95  ...  9619.53\n",
              "22910     PAPER CHAIN KIT VINTAGE CHRISTMAS     102.00  ...  4492.51\n",
              "23355     HOT WATER BOTTLE KEEP CALM               NaN  ...  6254.54\n",
              "85099B    JUMBO BAG RED RETROSPOT              4878.08  ...  8880.17\n",
              "79321     CHILLI LIGHTS                         357.50  ...  3677.39\n",
              "23344     JUMBO BAG 50'S CHRISTMAS                 NaN  ...  3344.32\n",
              "\n",
              "[10 rows x 13 columns]"
            ]
          },
          "metadata": {
            "tags": []
          },
          "execution_count": 62
        }
      ]
    },
    {
      "cell_type": "markdown",
      "metadata": {
        "id": "dyxAu5ql3gWn"
      },
      "source": [
        "## Item terlaris"
      ]
    },
    {
      "cell_type": "code",
      "metadata": {
        "id": "yexJh9lr2tge"
      },
      "source": [
        "qty=df.pivot_table(index=['StockCode','Description'], values='Quantity', aggfunc='sum').sort_values(by='Quantity', ascending=False)"
      ],
      "execution_count": null,
      "outputs": []
    },
    {
      "cell_type": "code",
      "metadata": {
        "id": "9SNWs16R3i-L"
      },
      "source": [
        "qty.reset_index(inplace=True)"
      ],
      "execution_count": null,
      "outputs": []
    },
    {
      "cell_type": "code",
      "metadata": {
        "colab": {
          "base_uri": "https://localhost:8080/"
        },
        "id": "3eikkwwK3k4X",
        "outputId": "b15e6a1a-1ab1-4ce9-e9bd-b545a92b352b"
      },
      "source": [
        "qty"
      ],
      "execution_count": null,
      "outputs": [
        {
          "output_type": "execute_result",
          "data": {
            "text/html": [
              "<div>\n",
              "<style scoped>\n",
              "    .dataframe tbody tr th:only-of-type {\n",
              "        vertical-align: middle;\n",
              "    }\n",
              "\n",
              "    .dataframe tbody tr th {\n",
              "        vertical-align: top;\n",
              "    }\n",
              "\n",
              "    .dataframe thead th {\n",
              "        text-align: right;\n",
              "    }\n",
              "</style>\n",
              "<table border=\"1\" class=\"dataframe\">\n",
              "  <thead>\n",
              "    <tr style=\"text-align: right;\">\n",
              "      <th></th>\n",
              "      <th>StockCode</th>\n",
              "      <th>Description</th>\n",
              "      <th>Quantity</th>\n",
              "    </tr>\n",
              "  </thead>\n",
              "  <tbody>\n",
              "    <tr>\n",
              "      <th>0</th>\n",
              "      <td>23843</td>\n",
              "      <td>PAPER CRAFT , LITTLE BIRDIE</td>\n",
              "      <td>80995</td>\n",
              "    </tr>\n",
              "    <tr>\n",
              "      <th>1</th>\n",
              "      <td>23166</td>\n",
              "      <td>MEDIUM CERAMIC TOP STORAGE JAR</td>\n",
              "      <td>78033</td>\n",
              "    </tr>\n",
              "    <tr>\n",
              "      <th>2</th>\n",
              "      <td>84077</td>\n",
              "      <td>WORLD WAR 2 GLIDERS ASSTD DESIGNS</td>\n",
              "      <td>54951</td>\n",
              "    </tr>\n",
              "    <tr>\n",
              "      <th>3</th>\n",
              "      <td>85099B</td>\n",
              "      <td>JUMBO BAG RED RETROSPOT</td>\n",
              "      <td>48371</td>\n",
              "    </tr>\n",
              "    <tr>\n",
              "      <th>4</th>\n",
              "      <td>85123A</td>\n",
              "      <td>WHITE HANGING HEART T-LIGHT HOLDER</td>\n",
              "      <td>37580</td>\n",
              "    </tr>\n",
              "    <tr>\n",
              "      <th>...</th>\n",
              "      <td>...</td>\n",
              "      <td>...</td>\n",
              "      <td>...</td>\n",
              "    </tr>\n",
              "    <tr>\n",
              "      <th>4151</th>\n",
              "      <td>35609A</td>\n",
              "      <td>PINK FEATHER CHRISTMAS DECORATION</td>\n",
              "      <td>1</td>\n",
              "    </tr>\n",
              "    <tr>\n",
              "      <th>4152</th>\n",
              "      <td>20703</td>\n",
              "      <td>BLUE PADDED SOFT MOBILE</td>\n",
              "      <td>1</td>\n",
              "    </tr>\n",
              "    <tr>\n",
              "      <th>4153</th>\n",
              "      <td>21120</td>\n",
              "      <td>*Boombox Ipod Classic</td>\n",
              "      <td>1</td>\n",
              "    </tr>\n",
              "    <tr>\n",
              "      <th>4154</th>\n",
              "      <td>84510e</td>\n",
              "      <td>SET OF 4 GREEN CAROUSEL COASTERS</td>\n",
              "      <td>1</td>\n",
              "    </tr>\n",
              "    <tr>\n",
              "      <th>4155</th>\n",
              "      <td>m</td>\n",
              "      <td>Manual</td>\n",
              "      <td>1</td>\n",
              "    </tr>\n",
              "  </tbody>\n",
              "</table>\n",
              "<p>4156 rows × 3 columns</p>\n",
              "</div>"
            ],
            "text/plain": [
              "     StockCode                         Description  Quantity\n",
              "0        23843         PAPER CRAFT , LITTLE BIRDIE     80995\n",
              "1        23166      MEDIUM CERAMIC TOP STORAGE JAR     78033\n",
              "2        84077   WORLD WAR 2 GLIDERS ASSTD DESIGNS     54951\n",
              "3       85099B             JUMBO BAG RED RETROSPOT     48371\n",
              "4       85123A  WHITE HANGING HEART T-LIGHT HOLDER     37580\n",
              "...        ...                                 ...       ...\n",
              "4151    35609A   PINK FEATHER CHRISTMAS DECORATION         1\n",
              "4152     20703             BLUE PADDED SOFT MOBILE         1\n",
              "4153     21120               *Boombox Ipod Classic         1\n",
              "4154    84510e    SET OF 4 GREEN CAROUSEL COASTERS         1\n",
              "4155         m                              Manual         1\n",
              "\n",
              "[4156 rows x 3 columns]"
            ]
          },
          "metadata": {
            "tags": []
          },
          "execution_count": 65
        }
      ]
    },
    {
      "cell_type": "code",
      "metadata": {
        "colab": {
          "base_uri": "https://localhost:8080/"
        },
        "id": "jwL5NiDS3oSf",
        "outputId": "a0f906ca-5fed-4979-8657-2911085e5a4d"
      },
      "source": [
        "sns.barplot(y='Description', x='Quantity', data=qty.head(10))\n",
        "plt.title('10 Item Terlaris', fontsize=14)\n",
        "plt.ylabel('Item')"
      ],
      "execution_count": null,
      "outputs": [
        {
          "output_type": "execute_result",
          "data": {
            "text/plain": [
              "Text(0, 0.5, 'Item')"
            ]
          },
          "metadata": {
            "tags": []
          },
          "execution_count": 66
        },
        {
          "output_type": "display_data",
          "data": {
            "image/png": "[encoded data removed]",
            "text/plain": [
              "<Figure size 432x288 with 1 Axes>"
            ]
          },
          "metadata": {
            "tags": []
          }
        }
      ]
    },
    {
      "cell_type": "markdown",
      "metadata": {
        "id": "57pvKZdADdLz"
      },
      "source": [
        "### Item Paling Tidak Laris"
      ]
    },
    {
      "cell_type": "code",
      "metadata": {
        "id": "VSa_CdxeDhLa"
      },
      "source": [
        "qty1=qty[qty['Quantity']>0]"
      ],
      "execution_count": null,
      "outputs": []
    },
    {
      "cell_type": "code",
      "metadata": {
        "colab": {
          "base_uri": "https://localhost:8080/"
        },
        "id": "IDSweTCcEZYj",
        "outputId": "f8026453-8fc5-4d04-ca91-9ed414059a59"
      },
      "source": [
        "sns.barplot(y='Description', x='Quantity', data=qty1.tail(10))\n",
        "plt.title('Top 10 Item Tidak Laris', fontsize=14)\n",
        "plt.ylabel('Item')"
      ],
      "execution_count": null,
      "outputs": [
        {
          "output_type": "execute_result",
          "data": {
            "text/plain": [
              "Text(0, 0.5, 'Item')"
            ]
          },
          "metadata": {
            "tags": []
          },
          "execution_count": 68
        },
        {
          "output_type": "display_data",
          "data": {
            "image/png": "[encoded data removed]",
            "text/plain": [
              "<Figure size 432x288 with 1 Axes>"
            ]
          },
          "metadata": {
            "tags": []
          }
        }
      ]
    },
    {
      "cell_type": "markdown",
      "metadata": {
        "id": "2UdROGvF45Ee"
      },
      "source": [
        "### Customer aktif dan tidak aktif"
      ]
    },
    {
      "cell_type": "code",
      "metadata": {
        "id": "kuptQzw14BbF"
      },
      "source": [
        "cust=df.groupby('CustomerID').max().sort_values(by='InvoiceDate', ascending=False)"
      ],
      "execution_count": null,
      "outputs": []
    },
    {
      "cell_type": "code",
      "metadata": {
        "id": "JvEa9FHs454E"
      },
      "source": [
        "cust.loc[cust['InvoiceDate'] < '2011-06-09', 'Churn']='Yes'\n",
        "cust.loc[cust['InvoiceDate'] >= '2011-06-09', 'Churn']='No'"
      ],
      "execution_count": null,
      "outputs": []
    },
    {
      "cell_type": "code",
      "metadata": {
        "colab": {
          "base_uri": "https://localhost:8080/"
        },
        "id": "GnxTjubL4_gh",
        "outputId": "5932b12f-2143-4f6c-bebf-c3446f63f70b"
      },
      "source": [
        "cust[cust['Churn']=='Yes']"
      ],
      "execution_count": null,
      "outputs": [
        {
          "output_type": "execute_result",
          "data": {
            "text/html": [
              "<div>\n",
              "<style scoped>\n",
              "    .dataframe tbody tr th:only-of-type {\n",
              "        vertical-align: middle;\n",
              "    }\n",
              "\n",
              "    .dataframe tbody tr th {\n",
              "        vertical-align: top;\n",
              "    }\n",
              "\n",
              "    .dataframe thead th {\n",
              "        text-align: right;\n",
              "    }\n",
              "</style>\n",
              "<table border=\"1\" class=\"dataframe\">\n",
              "  <thead>\n",
              "    <tr style=\"text-align: right;\">\n",
              "      <th></th>\n",
              "      <th>InvoiceNo</th>\n",
              "      <th>StockCode</th>\n",
              "      <th>Description</th>\n",
              "      <th>Quantity</th>\n",
              "      <th>InvoiceDate</th>\n",
              "      <th>UnitPrice</th>\n",
              "      <th>Country</th>\n",
              "      <th>TotalTransaction</th>\n",
              "      <th>Month</th>\n",
              "      <th>Year</th>\n",
              "      <th>MonthName</th>\n",
              "      <th>Churn</th>\n",
              "    </tr>\n",
              "    <tr>\n",
              "      <th>CustomerID</th>\n",
              "      <th></th>\n",
              "      <th></th>\n",
              "      <th></th>\n",
              "      <th></th>\n",
              "      <th></th>\n",
              "      <th></th>\n",
              "      <th></th>\n",
              "      <th></th>\n",
              "      <th></th>\n",
              "      <th></th>\n",
              "      <th></th>\n",
              "      <th></th>\n",
              "    </tr>\n",
              "  </thead>\n",
              "  <tbody>\n",
              "    <tr>\n",
              "      <th>13466.0</th>\n",
              "      <td>556105</td>\n",
              "      <td>84946</td>\n",
              "      <td>WRAP VINTAGE PETALS  DESIGN</td>\n",
              "      <td>50</td>\n",
              "      <td>2011-06-08 16:39:00</td>\n",
              "      <td>12.75</td>\n",
              "      <td>United Kingdom</td>\n",
              "      <td>35.40</td>\n",
              "      <td>6</td>\n",
              "      <td>2011</td>\n",
              "      <td>Jun11</td>\n",
              "      <td>Yes</td>\n",
              "    </tr>\n",
              "    <tr>\n",
              "      <th>16832.0</th>\n",
              "      <td>556098</td>\n",
              "      <td>47590A</td>\n",
              "      <td>ROSE COTTAGE KEEPSAKE BOX</td>\n",
              "      <td>12</td>\n",
              "      <td>2011-06-08 15:36:00</td>\n",
              "      <td>16.95</td>\n",
              "      <td>United Kingdom</td>\n",
              "      <td>62.50</td>\n",
              "      <td>6</td>\n",
              "      <td>2011</td>\n",
              "      <td>May11</td>\n",
              "      <td>Yes</td>\n",
              "    </tr>\n",
              "    <tr>\n",
              "      <th>15609.0</th>\n",
              "      <td>556048</td>\n",
              "      <td>84849A</td>\n",
              "      <td>WHITE BROCANTE SOAP DISH</td>\n",
              "      <td>24</td>\n",
              "      <td>2011-06-08 13:00:00</td>\n",
              "      <td>16.95</td>\n",
              "      <td>United Kingdom</td>\n",
              "      <td>30.00</td>\n",
              "      <td>6</td>\n",
              "      <td>2011</td>\n",
              "      <td>Jun11</td>\n",
              "      <td>Yes</td>\n",
              "    </tr>\n",
              "    <tr>\n",
              "      <th>14622.0</th>\n",
              "      <td>556040</td>\n",
              "      <td>85099C</td>\n",
              "      <td>WOODEN PICTURE FRAME WHITE FINISH</td>\n",
              "      <td>24</td>\n",
              "      <td>2011-06-08 12:42:00</td>\n",
              "      <td>7.95</td>\n",
              "      <td>United Kingdom</td>\n",
              "      <td>23.60</td>\n",
              "      <td>6</td>\n",
              "      <td>2011</td>\n",
              "      <td>Jun11</td>\n",
              "      <td>Yes</td>\n",
              "    </tr>\n",
              "    <tr>\n",
              "      <th>17409.0</th>\n",
              "      <td>555945</td>\n",
              "      <td>85014B</td>\n",
              "      <td>WHITE LOVEBIRD LANTERN</td>\n",
              "      <td>12</td>\n",
              "      <td>2011-06-08 10:36:00</td>\n",
              "      <td>14.95</td>\n",
              "      <td>United Kingdom</td>\n",
              "      <td>119.60</td>\n",
              "      <td>6</td>\n",
              "      <td>2011</td>\n",
              "      <td>Jun11</td>\n",
              "      <td>Yes</td>\n",
              "    </tr>\n",
              "    <tr>\n",
              "      <th>...</th>\n",
              "      <td>...</td>\n",
              "      <td>...</td>\n",
              "      <td>...</td>\n",
              "      <td>...</td>\n",
              "      <td>...</td>\n",
              "      <td>...</td>\n",
              "      <td>...</td>\n",
              "      <td>...</td>\n",
              "      <td>...</td>\n",
              "      <td>...</td>\n",
              "      <td>...</td>\n",
              "      <td>...</td>\n",
              "    </tr>\n",
              "    <tr>\n",
              "      <th>16583.0</th>\n",
              "      <td>536420</td>\n",
              "      <td>22969</td>\n",
              "      <td>WOODEN BOX OF DOMINOES</td>\n",
              "      <td>12</td>\n",
              "      <td>2010-12-01 12:03:00</td>\n",
              "      <td>4.95</td>\n",
              "      <td>United Kingdom</td>\n",
              "      <td>20.40</td>\n",
              "      <td>12</td>\n",
              "      <td>2010</td>\n",
              "      <td>Dec10</td>\n",
              "      <td>Yes</td>\n",
              "    </tr>\n",
              "    <tr>\n",
              "      <th>17908.0</th>\n",
              "      <td>536409</td>\n",
              "      <td>90210B</td>\n",
              "      <td>WHITE SKULL HOT WATER BOTTLE</td>\n",
              "      <td>28</td>\n",
              "      <td>2010-12-01 11:45:00</td>\n",
              "      <td>7.95</td>\n",
              "      <td>United Kingdom</td>\n",
              "      <td>19.05</td>\n",
              "      <td>12</td>\n",
              "      <td>2010</td>\n",
              "      <td>Dec10</td>\n",
              "      <td>Yes</td>\n",
              "    </tr>\n",
              "    <tr>\n",
              "      <th>12791.0</th>\n",
              "      <td>536403</td>\n",
              "      <td>22867</td>\n",
              "      <td>HAND WARMER BIRD DESIGN</td>\n",
              "      <td>96</td>\n",
              "      <td>2010-12-01 11:27:00</td>\n",
              "      <td>1.85</td>\n",
              "      <td>Netherlands</td>\n",
              "      <td>177.60</td>\n",
              "      <td>12</td>\n",
              "      <td>2010</td>\n",
              "      <td>Dec10</td>\n",
              "      <td>Yes</td>\n",
              "    </tr>\n",
              "    <tr>\n",
              "      <th>13747.0</th>\n",
              "      <td>536393</td>\n",
              "      <td>22180</td>\n",
              "      <td>RETROSPOT LAMP</td>\n",
              "      <td>8</td>\n",
              "      <td>2010-12-01 10:37:00</td>\n",
              "      <td>9.95</td>\n",
              "      <td>United Kingdom</td>\n",
              "      <td>79.60</td>\n",
              "      <td>12</td>\n",
              "      <td>2010</td>\n",
              "      <td>Dec10</td>\n",
              "      <td>Yes</td>\n",
              "    </tr>\n",
              "    <tr>\n",
              "      <th>18074.0</th>\n",
              "      <td>536384</td>\n",
              "      <td>84755</td>\n",
              "      <td>WOOD BLACK BOARD ANT WHITE FINISH</td>\n",
              "      <td>48</td>\n",
              "      <td>2010-12-01 09:53:00</td>\n",
              "      <td>12.75</td>\n",
              "      <td>United Kingdom</td>\n",
              "      <td>102.00</td>\n",
              "      <td>12</td>\n",
              "      <td>2010</td>\n",
              "      <td>Dec10</td>\n",
              "      <td>Yes</td>\n",
              "    </tr>\n",
              "  </tbody>\n",
              "</table>\n",
              "<p>847 rows × 12 columns</p>\n",
              "</div>"
            ],
            "text/plain": [
              "           InvoiceNo StockCode  ... MonthName  Churn\n",
              "CustomerID                      ...                 \n",
              "13466.0       556105     84946  ...     Jun11    Yes\n",
              "16832.0       556098    47590A  ...     May11    Yes\n",
              "15609.0       556048    84849A  ...     Jun11    Yes\n",
              "14622.0       556040    85099C  ...     Jun11    Yes\n",
              "17409.0       555945    85014B  ...     Jun11    Yes\n",
              "...              ...       ...  ...       ...    ...\n",
              "16583.0       536420     22969  ...     Dec10    Yes\n",
              "17908.0       536409    90210B  ...     Dec10    Yes\n",
              "12791.0       536403     22867  ...     Dec10    Yes\n",
              "13747.0       536393     22180  ...     Dec10    Yes\n",
              "18074.0       536384     84755  ...     Dec10    Yes\n",
              "\n",
              "[847 rows x 12 columns]"
            ]
          },
          "metadata": {
            "tags": []
          },
          "execution_count": 71
        }
      ]
    },
    {
      "cell_type": "code",
      "metadata": {
        "id": "sylGX7Rv5B7X"
      },
      "source": [
        "churn=cust.reset_index().groupby('Churn').count()"
      ],
      "execution_count": null,
      "outputs": []
    },
    {
      "cell_type": "code",
      "metadata": {
        "colab": {
          "base_uri": "https://localhost:8080/"
        },
        "id": "Remm_wWg5HiS",
        "outputId": "943ec41f-240b-402f-80a8-c21e8d1d483e"
      },
      "source": [
        "churn.head()"
      ],
      "execution_count": null,
      "outputs": [
        {
          "output_type": "execute_result",
          "data": {
            "text/html": [
              "<div>\n",
              "<style scoped>\n",
              "    .dataframe tbody tr th:only-of-type {\n",
              "        vertical-align: middle;\n",
              "    }\n",
              "\n",
              "    .dataframe tbody tr th {\n",
              "        vertical-align: top;\n",
              "    }\n",
              "\n",
              "    .dataframe thead th {\n",
              "        text-align: right;\n",
              "    }\n",
              "</style>\n",
              "<table border=\"1\" class=\"dataframe\">\n",
              "  <thead>\n",
              "    <tr style=\"text-align: right;\">\n",
              "      <th></th>\n",
              "      <th>CustomerID</th>\n",
              "      <th>InvoiceNo</th>\n",
              "      <th>StockCode</th>\n",
              "      <th>Description</th>\n",
              "      <th>Quantity</th>\n",
              "      <th>InvoiceDate</th>\n",
              "      <th>UnitPrice</th>\n",
              "      <th>Country</th>\n",
              "      <th>TotalTransaction</th>\n",
              "      <th>Month</th>\n",
              "      <th>Year</th>\n",
              "      <th>MonthName</th>\n",
              "    </tr>\n",
              "    <tr>\n",
              "      <th>Churn</th>\n",
              "      <th></th>\n",
              "      <th></th>\n",
              "      <th></th>\n",
              "      <th></th>\n",
              "      <th></th>\n",
              "      <th></th>\n",
              "      <th></th>\n",
              "      <th></th>\n",
              "      <th></th>\n",
              "      <th></th>\n",
              "      <th></th>\n",
              "      <th></th>\n",
              "    </tr>\n",
              "  </thead>\n",
              "  <tbody>\n",
              "    <tr>\n",
              "      <th>No</th>\n",
              "      <td>3489</td>\n",
              "      <td>3489</td>\n",
              "      <td>3489</td>\n",
              "      <td>3489</td>\n",
              "      <td>3489</td>\n",
              "      <td>3489</td>\n",
              "      <td>3489</td>\n",
              "      <td>3489</td>\n",
              "      <td>3489</td>\n",
              "      <td>3489</td>\n",
              "      <td>3489</td>\n",
              "      <td>3489</td>\n",
              "    </tr>\n",
              "    <tr>\n",
              "      <th>Yes</th>\n",
              "      <td>847</td>\n",
              "      <td>847</td>\n",
              "      <td>847</td>\n",
              "      <td>847</td>\n",
              "      <td>847</td>\n",
              "      <td>847</td>\n",
              "      <td>847</td>\n",
              "      <td>847</td>\n",
              "      <td>847</td>\n",
              "      <td>847</td>\n",
              "      <td>847</td>\n",
              "      <td>847</td>\n",
              "    </tr>\n",
              "  </tbody>\n",
              "</table>\n",
              "</div>"
            ],
            "text/plain": [
              "       CustomerID  InvoiceNo  StockCode  ...  Month  Year  MonthName\n",
              "Churn                                    ...                        \n",
              "No           3489       3489       3489  ...   3489  3489       3489\n",
              "Yes           847        847        847  ...    847   847        847\n",
              "\n",
              "[2 rows x 12 columns]"
            ]
          },
          "metadata": {
            "tags": []
          },
          "execution_count": 73
        }
      ]
    },
    {
      "cell_type": "code",
      "metadata": {
        "colab": {
          "base_uri": "https://localhost:8080/"
        },
        "id": "E0rVMfd45LBk",
        "outputId": "4cbf57b4-5f6e-46a9-e030-624a3f4042ca"
      },
      "source": [
        "plt.pie(churn['CustomerID'], labels=['Aktif', 'Tidak Aktif'], autopct='%1.0f%%')"
      ],
      "execution_count": null,
      "outputs": [
        {
          "output_type": "execute_result",
          "data": {
            "text/plain": [
              "([<matplotlib.patches.Wedge at 0x7fc163b8f090>,\n",
              "  <matplotlib.patches.Wedge at 0x7fc163b8f810>],\n",
              " [Text(-0.8992858862833162, 0.6334705160712933, 'Aktif'),\n",
              "  Text(0.8992858566284203, -0.6334705581699029, 'Tidak Aktif')],\n",
              " [Text(-0.49051957433635424, 0.34552937240252357, '80%'),\n",
              "  Text(0.4905195581609565, -0.34552939536540156, '20%')])"
            ]
          },
          "metadata": {
            "tags": []
          },
          "execution_count": 74
        },
        {
          "output_type": "display_data",
          "data": {
            "image/png": "[encoded data removed]",
            "text/plain": [
              "<Figure size 432x288 with 1 Axes>"
            ]
          },
          "metadata": {
            "tags": []
          }
        }
      ]
    },
    {
      "cell_type": "markdown",
      "metadata": {
        "id": "u-1zoi4hdGim"
      },
      "source": [
        "### Negara penjualan terbanyak"
      ]
    },
    {
      "cell_type": "code",
      "metadata": {
        "id": "RIhP8tPZeazW"
      },
      "source": [
        "df['TotalQuantity'] = df['Quantity']*df['UnitPrice']"
      ],
      "execution_count": null,
      "outputs": []
    },
    {
      "cell_type": "code",
      "metadata": {
        "colab": {
          "base_uri": "https://localhost:8080/"
        },
        "id": "zQ9idrq75WNL",
        "outputId": "31eec758-8406-472d-ea1e-ba625b9a8c05"
      },
      "source": [
        "data_temp = df.groupby(['Country'])['TotalQuantity'].sum().reset_index().sort_values('TotalQuantity',ascending=False).head(7)\n",
        "print(data_temp)\n",
        "print(data_temp.plot(x='Country', y='TotalQuantity',kind='bar'))"
      ],
      "execution_count": null,
      "outputs": [
        {
          "output_type": "stream",
          "text": [
            "           Country  TotalQuantity\n",
            "36  United Kingdom   8.726835e+06\n",
            "24     Netherlands   2.838893e+05\n",
            "10            EIRE   2.760909e+05\n",
            "14         Germany   2.053811e+05\n",
            "13          France   1.846790e+05\n",
            "0        Australia   1.381038e+05\n",
            "31           Spain   5.570656e+04\n",
            "AxesSubplot(0.125,0.125;0.775x0.755)\n"
          ],
          "name": "stdout"
        },
        {
          "output_type": "display_data",
          "data": {
            "image/png": "[encoded data removed]",
            "text/plain": [
              "<Figure size 432x288 with 1 Axes>"
            ]
          },
          "metadata": {
            "tags": []
          }
        }
      ]
    },
    {
      "cell_type": "code",
      "metadata": {
        "colab": {
          "base_uri": "https://localhost:8080/"
        },
        "id": "lQA2uMSjeW14",
        "outputId": "27979404-d7e6-4543-ea1d-ea241bd40682"
      },
      "source": [
        "df[df['TotalQuantity']==df['TotalQuantity'].max()]"
      ],
      "execution_count": null,
      "outputs": [
        {
          "output_type": "execute_result",
          "data": {
            "text/html": [
              "<div>\n",
              "<style scoped>\n",
              "    .dataframe tbody tr th:only-of-type {\n",
              "        vertical-align: middle;\n",
              "    }\n",
              "\n",
              "    .dataframe tbody tr th {\n",
              "        vertical-align: top;\n",
              "    }\n",
              "\n",
              "    .dataframe thead th {\n",
              "        text-align: right;\n",
              "    }\n",
              "</style>\n",
              "<table border=\"1\" class=\"dataframe\">\n",
              "  <thead>\n",
              "    <tr style=\"text-align: right;\">\n",
              "      <th></th>\n",
              "      <th>InvoiceNo</th>\n",
              "      <th>StockCode</th>\n",
              "      <th>Description</th>\n",
              "      <th>Quantity</th>\n",
              "      <th>InvoiceDate</th>\n",
              "      <th>UnitPrice</th>\n",
              "      <th>CustomerID</th>\n",
              "      <th>Country</th>\n",
              "      <th>TotalTransaction</th>\n",
              "      <th>Month</th>\n",
              "      <th>Year</th>\n",
              "      <th>MonthName</th>\n",
              "      <th>TotalQuantity</th>\n",
              "    </tr>\n",
              "  </thead>\n",
              "  <tbody>\n",
              "    <tr>\n",
              "      <th>540421</th>\n",
              "      <td>581483</td>\n",
              "      <td>23843</td>\n",
              "      <td>PAPER CRAFT , LITTLE BIRDIE</td>\n",
              "      <td>80995</td>\n",
              "      <td>2011-12-09 09:15:00</td>\n",
              "      <td>2.08</td>\n",
              "      <td>16446</td>\n",
              "      <td>United Kingdom</td>\n",
              "      <td>168469.6</td>\n",
              "      <td>12</td>\n",
              "      <td>2011</td>\n",
              "      <td>Dec11</td>\n",
              "      <td>168469.6</td>\n",
              "    </tr>\n",
              "  </tbody>\n",
              "</table>\n",
              "</div>"
            ],
            "text/plain": [
              "       InvoiceNo StockCode  ... MonthName  TotalQuantity\n",
              "540421    581483     23843  ...     Dec11       168469.6\n",
              "\n",
              "[1 rows x 13 columns]"
            ]
          },
          "metadata": {
            "tags": []
          },
          "execution_count": 77
        }
      ]
    },
    {
      "cell_type": "markdown",
      "metadata": {
        "id": "ypdFZT9A_jM_"
      },
      "source": [
        "Check data UK lebih spesifik"
      ]
    },
    {
      "cell_type": "code",
      "metadata": {
        "id": "nyw_2rXZjEF0"
      },
      "source": [
        "rfm_data = df[df['Country']=='United Kingdom']"
      ],
      "execution_count": null,
      "outputs": []
    },
    {
      "cell_type": "code",
      "metadata": {
        "colab": {
          "base_uri": "https://localhost:8080/"
        },
        "id": "sbd1CMM7AiBW",
        "outputId": "b4a08d4b-cc8b-465c-c024-dfc1613eb641"
      },
      "source": [
        "rfm_data.info()"
      ],
      "execution_count": null,
      "outputs": [
        {
          "output_type": "stream",
          "text": [
            "<class 'pandas.core.frame.DataFrame'>\n",
            "Int64Index: 478950 entries, 0 to 541893\n",
            "Data columns (total 13 columns):\n",
            " #   Column            Non-Null Count   Dtype         \n",
            "---  ------            --------------   -----         \n",
            " 0   InvoiceNo         478950 non-null  object        \n",
            " 1   StockCode         478950 non-null  object        \n",
            " 2   Description       478950 non-null  object        \n",
            " 3   Quantity          478950 non-null  int64         \n",
            " 4   InvoiceDate       478950 non-null  datetime64[ns]\n",
            " 5   UnitPrice         478950 non-null  float64       \n",
            " 6   CustomerID        478950 non-null  object        \n",
            " 7   Country           478950 non-null  object        \n",
            " 8   TotalTransaction  478950 non-null  float64       \n",
            " 9   Month             478950 non-null  int64         \n",
            " 10  Year              478950 non-null  int64         \n",
            " 11  MonthName         478950 non-null  object        \n",
            " 12  TotalQuantity     478950 non-null  float64       \n",
            "dtypes: datetime64[ns](1), float64(3), int64(3), object(6)\n",
            "memory usage: 51.2+ MB\n"
          ],
          "name": "stdout"
        }
      ]
    },
    {
      "cell_type": "code",
      "metadata": {
        "colab": {
          "base_uri": "https://localhost:8080/"
        },
        "id": "GKe5RP0YAk1x",
        "outputId": "3255e485-6baa-41e7-e6ea-e4883913249b"
      },
      "source": [
        "rfm_data.describe()"
      ],
      "execution_count": null,
      "outputs": [
        {
          "output_type": "execute_result",
          "data": {
            "text/html": [
              "<div>\n",
              "<style scoped>\n",
              "    .dataframe tbody tr th:only-of-type {\n",
              "        vertical-align: middle;\n",
              "    }\n",
              "\n",
              "    .dataframe tbody tr th {\n",
              "        vertical-align: top;\n",
              "    }\n",
              "\n",
              "    .dataframe thead th {\n",
              "        text-align: right;\n",
              "    }\n",
              "</style>\n",
              "<table border=\"1\" class=\"dataframe\">\n",
              "  <thead>\n",
              "    <tr style=\"text-align: right;\">\n",
              "      <th></th>\n",
              "      <th>Quantity</th>\n",
              "      <th>UnitPrice</th>\n",
              "      <th>TotalTransaction</th>\n",
              "      <th>Month</th>\n",
              "      <th>Year</th>\n",
              "      <th>TotalQuantity</th>\n",
              "    </tr>\n",
              "  </thead>\n",
              "  <tbody>\n",
              "    <tr>\n",
              "      <th>count</th>\n",
              "      <td>478950.000000</td>\n",
              "      <td>478950.000000</td>\n",
              "      <td>478950.000000</td>\n",
              "      <td>478950.000000</td>\n",
              "      <td>478950.000000</td>\n",
              "      <td>478950.000000</td>\n",
              "    </tr>\n",
              "    <tr>\n",
              "      <th>mean</th>\n",
              "      <td>9.686172</td>\n",
              "      <td>3.306960</td>\n",
              "      <td>18.220764</td>\n",
              "      <td>7.574726</td>\n",
              "      <td>2010.919303</td>\n",
              "      <td>18.220764</td>\n",
              "    </tr>\n",
              "    <tr>\n",
              "      <th>std</th>\n",
              "      <td>162.891190</td>\n",
              "      <td>4.463201</td>\n",
              "      <td>280.982663</td>\n",
              "      <td>3.519228</td>\n",
              "      <td>0.272370</td>\n",
              "      <td>280.982663</td>\n",
              "    </tr>\n",
              "    <tr>\n",
              "      <th>min</th>\n",
              "      <td>1.000000</td>\n",
              "      <td>0.001000</td>\n",
              "      <td>0.001000</td>\n",
              "      <td>1.000000</td>\n",
              "      <td>2010.000000</td>\n",
              "      <td>0.001000</td>\n",
              "    </tr>\n",
              "    <tr>\n",
              "      <th>25%</th>\n",
              "      <td>1.000000</td>\n",
              "      <td>1.250000</td>\n",
              "      <td>3.400000</td>\n",
              "      <td>5.000000</td>\n",
              "      <td>2011.000000</td>\n",
              "      <td>3.400000</td>\n",
              "    </tr>\n",
              "    <tr>\n",
              "      <th>50%</th>\n",
              "      <td>3.000000</td>\n",
              "      <td>2.100000</td>\n",
              "      <td>8.500000</td>\n",
              "      <td>8.000000</td>\n",
              "      <td>2011.000000</td>\n",
              "      <td>8.500000</td>\n",
              "    </tr>\n",
              "    <tr>\n",
              "      <th>75%</th>\n",
              "      <td>10.000000</td>\n",
              "      <td>4.130000</td>\n",
              "      <td>17.000000</td>\n",
              "      <td>11.000000</td>\n",
              "      <td>2011.000000</td>\n",
              "      <td>17.000000</td>\n",
              "    </tr>\n",
              "    <tr>\n",
              "      <th>max</th>\n",
              "      <td>80995.000000</td>\n",
              "      <td>649.500000</td>\n",
              "      <td>168469.600000</td>\n",
              "      <td>12.000000</td>\n",
              "      <td>2011.000000</td>\n",
              "      <td>168469.600000</td>\n",
              "    </tr>\n",
              "  </tbody>\n",
              "</table>\n",
              "</div>"
            ],
            "text/plain": [
              "            Quantity      UnitPrice  ...           Year  TotalQuantity\n",
              "count  478950.000000  478950.000000  ...  478950.000000  478950.000000\n",
              "mean        9.686172       3.306960  ...    2010.919303      18.220764\n",
              "std       162.891190       4.463201  ...       0.272370     280.982663\n",
              "min         1.000000       0.001000  ...    2010.000000       0.001000\n",
              "25%         1.000000       1.250000  ...    2011.000000       3.400000\n",
              "50%         3.000000       2.100000  ...    2011.000000       8.500000\n",
              "75%        10.000000       4.130000  ...    2011.000000      17.000000\n",
              "max     80995.000000     649.500000  ...    2011.000000  168469.600000\n",
              "\n",
              "[8 rows x 6 columns]"
            ]
          },
          "metadata": {
            "tags": []
          },
          "execution_count": 80
        }
      ]
    },
    {
      "cell_type": "code",
      "metadata": {
        "colab": {
          "base_uri": "https://localhost:8080/"
        },
        "id": "3jEdiDNSe5xN",
        "outputId": "a958ef66-d5e6-4f34-f4ae-3c340f293255"
      },
      "source": [
        "#filtering necessary columns \n",
        "rfm_data=rfm_data[['CustomerID','InvoiceDate','InvoiceNo','Quantity','UnitPrice']]\n",
        "rfm_data['TotalPrice'] = rfm_data['Quantity'] * rfm_data['UnitPrice']\n",
        "rfm_data['InvoiceDate'].min(),rfm_data['InvoiceDate'].max()"
      ],
      "execution_count": null,
      "outputs": [
        {
          "output_type": "execute_result",
          "data": {
            "text/plain": [
              "(Timestamp('2010-12-01 08:26:00'), Timestamp('2011-12-09 12:49:00'))"
            ]
          },
          "metadata": {
            "tags": []
          },
          "execution_count": 81
        }
      ]
    },
    {
      "cell_type": "code",
      "metadata": {
        "colab": {
          "base_uri": "https://localhost:8080/"
        },
        "id": "UXnYMxQWCW46",
        "outputId": "3ba66b4d-24f2-41c3-8c75-e9c0efeda475"
      },
      "source": [
        "PRESENT = dt.datetime(2011,12,10)\n",
        "rfm_data['InvoiceDate'] = pd.to_datetime(rfm_data['InvoiceDate'])\n",
        "\n",
        "rfm_data.head()"
      ],
      "execution_count": null,
      "outputs": [
        {
          "output_type": "execute_result",
          "data": {
            "text/html": [
              "<div>\n",
              "<style scoped>\n",
              "    .dataframe tbody tr th:only-of-type {\n",
              "        vertical-align: middle;\n",
              "    }\n",
              "\n",
              "    .dataframe tbody tr th {\n",
              "        vertical-align: top;\n",
              "    }\n",
              "\n",
              "    .dataframe thead th {\n",
              "        text-align: right;\n",
              "    }\n",
              "</style>\n",
              "<table border=\"1\" class=\"dataframe\">\n",
              "  <thead>\n",
              "    <tr style=\"text-align: right;\">\n",
              "      <th></th>\n",
              "      <th>CustomerID</th>\n",
              "      <th>InvoiceDate</th>\n",
              "      <th>InvoiceNo</th>\n",
              "      <th>Quantity</th>\n",
              "      <th>UnitPrice</th>\n",
              "      <th>TotalPrice</th>\n",
              "    </tr>\n",
              "  </thead>\n",
              "  <tbody>\n",
              "    <tr>\n",
              "      <th>0</th>\n",
              "      <td>17850</td>\n",
              "      <td>2010-12-01 08:26:00</td>\n",
              "      <td>536365</td>\n",
              "      <td>6</td>\n",
              "      <td>2.55</td>\n",
              "      <td>15.30</td>\n",
              "    </tr>\n",
              "    <tr>\n",
              "      <th>1</th>\n",
              "      <td>17850</td>\n",
              "      <td>2010-12-01 08:26:00</td>\n",
              "      <td>536365</td>\n",
              "      <td>6</td>\n",
              "      <td>3.39</td>\n",
              "      <td>20.34</td>\n",
              "    </tr>\n",
              "    <tr>\n",
              "      <th>2</th>\n",
              "      <td>17850</td>\n",
              "      <td>2010-12-01 08:26:00</td>\n",
              "      <td>536365</td>\n",
              "      <td>8</td>\n",
              "      <td>2.75</td>\n",
              "      <td>22.00</td>\n",
              "    </tr>\n",
              "    <tr>\n",
              "      <th>3</th>\n",
              "      <td>17850</td>\n",
              "      <td>2010-12-01 08:26:00</td>\n",
              "      <td>536365</td>\n",
              "      <td>6</td>\n",
              "      <td>3.39</td>\n",
              "      <td>20.34</td>\n",
              "    </tr>\n",
              "    <tr>\n",
              "      <th>4</th>\n",
              "      <td>17850</td>\n",
              "      <td>2010-12-01 08:26:00</td>\n",
              "      <td>536365</td>\n",
              "      <td>6</td>\n",
              "      <td>3.39</td>\n",
              "      <td>20.34</td>\n",
              "    </tr>\n",
              "  </tbody>\n",
              "</table>\n",
              "</div>"
            ],
            "text/plain": [
              "  CustomerID         InvoiceDate InvoiceNo  Quantity  UnitPrice  TotalPrice\n",
              "0      17850 2010-12-01 08:26:00    536365         6       2.55       15.30\n",
              "1      17850 2010-12-01 08:26:00    536365         6       3.39       20.34\n",
              "2      17850 2010-12-01 08:26:00    536365         8       2.75       22.00\n",
              "3      17850 2010-12-01 08:26:00    536365         6       3.39       20.34\n",
              "4      17850 2010-12-01 08:26:00    536365         6       3.39       20.34"
            ]
          },
          "metadata": {
            "tags": []
          },
          "execution_count": 82
        }
      ]
    },
    {
      "cell_type": "code",
      "metadata": {
        "id": "4rC7M3wECZU9"
      },
      "source": [
        ""
      ],
      "execution_count": null,
      "outputs": []
    },
    {
      "cell_type": "markdown",
      "metadata": {
        "id": "pd-MplkSChhc"
      },
      "source": [
        "# Recency, Frequency and Monetary"
      ]
    },
    {
      "cell_type": "markdown",
      "metadata": {
        "id": "TCuFAnn8VdY-"
      },
      "source": [
        "\n",
        "\n",
        "1.   Recency dihitung jumlah hari antara tanggal sekarang dan tanggal pembelian terakhir setiap pelanggan\n",
        "2.   Frekuensi dihitung dengan jumlah pesanan untuk setiap pelanggan\n",
        "3.   Monetary dihitung jumlah harga pembelian untuk setiap pelanggan\n",
        "\n"
      ]
    },
    {
      "cell_type": "code",
      "metadata": {
        "id": "eYJ3mdCKCpku"
      },
      "source": [
        "rfm= rfm_data.groupby('CustomerID').agg({'InvoiceDate': lambda date: (PRESENT - date.max()).days,\n",
        "                                        'InvoiceNo': lambda num: len(num),\n",
        "                                        'TotalPrice': lambda price: price.sum()})"
      ],
      "execution_count": null,
      "outputs": []
    },
    {
      "cell_type": "code",
      "metadata": {
        "colab": {
          "base_uri": "https://localhost:8080/"
        },
        "id": "MFivo24-bCem",
        "outputId": "0fd203a0-0f9b-48e4-ff5d-cdcc3c4178e4"
      },
      "source": [
        "rfm.columns"
      ],
      "execution_count": null,
      "outputs": [
        {
          "output_type": "execute_result",
          "data": {
            "text/plain": [
              "Index(['InvoiceDate', 'InvoiceNo', 'TotalPrice'], dtype='object')"
            ]
          },
          "metadata": {
            "tags": []
          },
          "execution_count": 84
        }
      ]
    },
    {
      "cell_type": "code",
      "metadata": {
        "id": "UjDOGdrPWnit"
      },
      "source": [
        "rfm.columns=['Recency','Frequency','Monetary_Value']"
      ],
      "execution_count": null,
      "outputs": []
    },
    {
      "cell_type": "code",
      "metadata": {
        "colab": {
          "base_uri": "https://localhost:8080/",
          "height": 225
        },
        "id": "Yq1T1QVGWtyT",
        "outputId": "f95e99ed-a656-435a-8b9e-efe8a699d553"
      },
      "source": [
        "rfm.head()"
      ],
      "execution_count": null,
      "outputs": [
        {
          "output_type": "execute_result",
          "data": {
            "text/html": [
              "<div>\n",
              "<style scoped>\n",
              "    .dataframe tbody tr th:only-of-type {\n",
              "        vertical-align: middle;\n",
              "    }\n",
              "\n",
              "    .dataframe tbody tr th {\n",
              "        vertical-align: top;\n",
              "    }\n",
              "\n",
              "    .dataframe thead th {\n",
              "        text-align: right;\n",
              "    }\n",
              "</style>\n",
              "<table border=\"1\" class=\"dataframe\">\n",
              "  <thead>\n",
              "    <tr style=\"text-align: right;\">\n",
              "      <th></th>\n",
              "      <th>Recency</th>\n",
              "      <th>Frequency</th>\n",
              "      <th>Monetary_Value</th>\n",
              "    </tr>\n",
              "    <tr>\n",
              "      <th>CustomerID</th>\n",
              "      <th></th>\n",
              "      <th></th>\n",
              "      <th></th>\n",
              "    </tr>\n",
              "  </thead>\n",
              "  <tbody>\n",
              "    <tr>\n",
              "      <th>12346.0</th>\n",
              "      <td>325</td>\n",
              "      <td>1</td>\n",
              "      <td>77183.60</td>\n",
              "    </tr>\n",
              "    <tr>\n",
              "      <th>12747.0</th>\n",
              "      <td>2</td>\n",
              "      <td>103</td>\n",
              "      <td>4196.01</td>\n",
              "    </tr>\n",
              "    <tr>\n",
              "      <th>12748.0</th>\n",
              "      <td>0</td>\n",
              "      <td>4397</td>\n",
              "      <td>31650.78</td>\n",
              "    </tr>\n",
              "    <tr>\n",
              "      <th>12749.0</th>\n",
              "      <td>3</td>\n",
              "      <td>199</td>\n",
              "      <td>4090.88</td>\n",
              "    </tr>\n",
              "    <tr>\n",
              "      <th>12820.0</th>\n",
              "      <td>3</td>\n",
              "      <td>59</td>\n",
              "      <td>942.34</td>\n",
              "    </tr>\n",
              "  </tbody>\n",
              "</table>\n",
              "</div>"
            ],
            "text/plain": [
              "            Recency  Frequency  Monetary_Value\n",
              "CustomerID                                    \n",
              "12346.0         325          1        77183.60\n",
              "12747.0           2        103         4196.01\n",
              "12748.0           0       4397        31650.78\n",
              "12749.0           3        199         4090.88\n",
              "12820.0           3         59          942.34"
            ]
          },
          "metadata": {
            "tags": []
          },
          "execution_count": 86
        }
      ]
    },
    {
      "cell_type": "code",
      "metadata": {
        "colab": {
          "base_uri": "https://localhost:8080/",
          "height": 94
        },
        "id": "qhZ6p5iFZHMG",
        "outputId": "3cba9732-ea1e-4574-ac22-4fa43f96d994"
      },
      "source": [
        "df[df['CustomerID'] == 12346.0]"
      ],
      "execution_count": null,
      "outputs": [
        {
          "output_type": "execute_result",
          "data": {
            "text/html": [
              "<div>\n",
              "<style scoped>\n",
              "    .dataframe tbody tr th:only-of-type {\n",
              "        vertical-align: middle;\n",
              "    }\n",
              "\n",
              "    .dataframe tbody tr th {\n",
              "        vertical-align: top;\n",
              "    }\n",
              "\n",
              "    .dataframe thead th {\n",
              "        text-align: right;\n",
              "    }\n",
              "</style>\n",
              "<table border=\"1\" class=\"dataframe\">\n",
              "  <thead>\n",
              "    <tr style=\"text-align: right;\">\n",
              "      <th></th>\n",
              "      <th>InvoiceNo</th>\n",
              "      <th>StockCode</th>\n",
              "      <th>Description</th>\n",
              "      <th>Quantity</th>\n",
              "      <th>InvoiceDate</th>\n",
              "      <th>UnitPrice</th>\n",
              "      <th>CustomerID</th>\n",
              "      <th>Country</th>\n",
              "      <th>TotalTransaction</th>\n",
              "      <th>Month</th>\n",
              "      <th>Year</th>\n",
              "      <th>MonthName</th>\n",
              "      <th>TotalQuantity</th>\n",
              "    </tr>\n",
              "  </thead>\n",
              "  <tbody>\n",
              "    <tr>\n",
              "      <th>61619</th>\n",
              "      <td>541431</td>\n",
              "      <td>23166</td>\n",
              "      <td>MEDIUM CERAMIC TOP STORAGE JAR</td>\n",
              "      <td>74215</td>\n",
              "      <td>2011-01-18 10:01:00</td>\n",
              "      <td>1.04</td>\n",
              "      <td>12346</td>\n",
              "      <td>United Kingdom</td>\n",
              "      <td>77183.6</td>\n",
              "      <td>1</td>\n",
              "      <td>2011</td>\n",
              "      <td>Jan11</td>\n",
              "      <td>77183.6</td>\n",
              "    </tr>\n",
              "  </tbody>\n",
              "</table>\n",
              "</div>"
            ],
            "text/plain": [
              "      InvoiceNo StockCode  ... MonthName  TotalQuantity\n",
              "61619    541431     23166  ...     Jan11        77183.6\n",
              "\n",
              "[1 rows x 13 columns]"
            ]
          },
          "metadata": {
            "tags": []
          },
          "execution_count": 87
        }
      ]
    },
    {
      "cell_type": "code",
      "metadata": {
        "id": "c6Fg0jXvb8zr"
      },
      "source": [
        "quantiles = rfm.quantile(q=[0.25,0.50,0.75])\n",
        "quantiles = quantiles.to_dict()"
      ],
      "execution_count": null,
      "outputs": []
    },
    {
      "cell_type": "code",
      "metadata": {
        "id": "kffvaQXjdPdj"
      },
      "source": [
        "segmented_rfm = rfm.copy()"
      ],
      "execution_count": null,
      "outputs": []
    },
    {
      "cell_type": "code",
      "metadata": {
        "id": "U1MR51AedXlY"
      },
      "source": [
        "def RScore(x,p,d):\n",
        "    if x <= d[p][0.25]:\n",
        "        return 1\n",
        "    elif x <= d[p][0.50]:\n",
        "        return 2\n",
        "    elif x <= d[p][0.75]: \n",
        "        return 3\n",
        "    else:\n",
        "        return 4\n",
        "    \n",
        "def FMScore(x,p,d):\n",
        "    if x <= d[p][0.25]:\n",
        "        return 4\n",
        "    elif x <= d[p][0.50]:\n",
        "        return 3\n",
        "    elif x <= d[p][0.75]: \n",
        "        return 2\n",
        "    else:\n",
        "        return 1"
      ],
      "execution_count": null,
      "outputs": []
    },
    {
      "cell_type": "code",
      "metadata": {
        "colab": {
          "base_uri": "https://localhost:8080/",
          "height": 225
        },
        "id": "-IIYAVoodagV",
        "outputId": "44f806bb-eb1a-4ab8-ea14-e4e8b28eb4c8"
      },
      "source": [
        "segmented_rfm['R_quartile'] = segmented_rfm['Recency'].apply(RScore, args=('Recency',quantiles))\n",
        "segmented_rfm['F_quartile'] = segmented_rfm['Frequency'].apply(FMScore, args=('Frequency',quantiles))\n",
        "segmented_rfm['M_quartile'] = segmented_rfm['Monetary_Value'].apply(FMScore, args=('Monetary_Value',quantiles))\n",
        "segmented_rfm.head()"
      ],
      "execution_count": null,
      "outputs": [
        {
          "output_type": "execute_result",
          "data": {
            "text/html": [
              "<div>\n",
              "<style scoped>\n",
              "    .dataframe tbody tr th:only-of-type {\n",
              "        vertical-align: middle;\n",
              "    }\n",
              "\n",
              "    .dataframe tbody tr th {\n",
              "        vertical-align: top;\n",
              "    }\n",
              "\n",
              "    .dataframe thead th {\n",
              "        text-align: right;\n",
              "    }\n",
              "</style>\n",
              "<table border=\"1\" class=\"dataframe\">\n",
              "  <thead>\n",
              "    <tr style=\"text-align: right;\">\n",
              "      <th></th>\n",
              "      <th>Recency</th>\n",
              "      <th>Frequency</th>\n",
              "      <th>Monetary_Value</th>\n",
              "      <th>R_quartile</th>\n",
              "      <th>F_quartile</th>\n",
              "      <th>M_quartile</th>\n",
              "    </tr>\n",
              "    <tr>\n",
              "      <th>CustomerID</th>\n",
              "      <th></th>\n",
              "      <th></th>\n",
              "      <th></th>\n",
              "      <th></th>\n",
              "      <th></th>\n",
              "      <th></th>\n",
              "    </tr>\n",
              "  </thead>\n",
              "  <tbody>\n",
              "    <tr>\n",
              "      <th>12346.0</th>\n",
              "      <td>325</td>\n",
              "      <td>1</td>\n",
              "      <td>77183.60</td>\n",
              "      <td>4</td>\n",
              "      <td>4</td>\n",
              "      <td>1</td>\n",
              "    </tr>\n",
              "    <tr>\n",
              "      <th>12747.0</th>\n",
              "      <td>2</td>\n",
              "      <td>103</td>\n",
              "      <td>4196.01</td>\n",
              "      <td>1</td>\n",
              "      <td>1</td>\n",
              "      <td>1</td>\n",
              "    </tr>\n",
              "    <tr>\n",
              "      <th>12748.0</th>\n",
              "      <td>0</td>\n",
              "      <td>4397</td>\n",
              "      <td>31650.78</td>\n",
              "      <td>1</td>\n",
              "      <td>1</td>\n",
              "      <td>1</td>\n",
              "    </tr>\n",
              "    <tr>\n",
              "      <th>12749.0</th>\n",
              "      <td>3</td>\n",
              "      <td>199</td>\n",
              "      <td>4090.88</td>\n",
              "      <td>1</td>\n",
              "      <td>1</td>\n",
              "      <td>1</td>\n",
              "    </tr>\n",
              "    <tr>\n",
              "      <th>12820.0</th>\n",
              "      <td>3</td>\n",
              "      <td>59</td>\n",
              "      <td>942.34</td>\n",
              "      <td>1</td>\n",
              "      <td>2</td>\n",
              "      <td>2</td>\n",
              "    </tr>\n",
              "  </tbody>\n",
              "</table>\n",
              "</div>"
            ],
            "text/plain": [
              "            Recency  Frequency  ...  F_quartile  M_quartile\n",
              "CustomerID                      ...                        \n",
              "12346.0         325          1  ...           4           1\n",
              "12747.0           2        103  ...           1           1\n",
              "12748.0           0       4397  ...           1           1\n",
              "12749.0           3        199  ...           1           1\n",
              "12820.0           3         59  ...           2           2\n",
              "\n",
              "[5 rows x 6 columns]"
            ]
          },
          "metadata": {
            "tags": []
          },
          "execution_count": 91
        }
      ]
    },
    {
      "cell_type": "markdown",
      "metadata": {
        "id": "I_j2veqDd70b"
      },
      "source": [
        "Recency score terbaik = 1: Pembelian sangat baru.  Frequency score terbaik = 1: Quanitas pembelian terbanyak. Monetary score terbaik = 1: Total Pengeluaran terbanyak."
      ]
    },
    {
      "cell_type": "code",
      "metadata": {
        "colab": {
          "base_uri": "https://localhost:8080/",
          "height": 225
        },
        "id": "esmcLkknd3PP",
        "outputId": "86948c2e-c0fa-4385-fc2a-12229f75260c"
      },
      "source": [
        "segmented_rfm['RFM_Segment'] = segmented_rfm.R_quartile.map(str)+segmented_rfm.F_quartile.map(str)+segmented_rfm.M_quartile.map(str)\n",
        "segmented_rfm.head()"
      ],
      "execution_count": null,
      "outputs": [
        {
          "output_type": "execute_result",
          "data": {
            "text/html": [
              "<div>\n",
              "<style scoped>\n",
              "    .dataframe tbody tr th:only-of-type {\n",
              "        vertical-align: middle;\n",
              "    }\n",
              "\n",
              "    .dataframe tbody tr th {\n",
              "        vertical-align: top;\n",
              "    }\n",
              "\n",
              "    .dataframe thead th {\n",
              "        text-align: right;\n",
              "    }\n",
              "</style>\n",
              "<table border=\"1\" class=\"dataframe\">\n",
              "  <thead>\n",
              "    <tr style=\"text-align: right;\">\n",
              "      <th></th>\n",
              "      <th>Recency</th>\n",
              "      <th>Frequency</th>\n",
              "      <th>Monetary_Value</th>\n",
              "      <th>R_quartile</th>\n",
              "      <th>F_quartile</th>\n",
              "      <th>M_quartile</th>\n",
              "      <th>RFM_Segment</th>\n",
              "    </tr>\n",
              "    <tr>\n",
              "      <th>CustomerID</th>\n",
              "      <th></th>\n",
              "      <th></th>\n",
              "      <th></th>\n",
              "      <th></th>\n",
              "      <th></th>\n",
              "      <th></th>\n",
              "      <th></th>\n",
              "    </tr>\n",
              "  </thead>\n",
              "  <tbody>\n",
              "    <tr>\n",
              "      <th>12346.0</th>\n",
              "      <td>325</td>\n",
              "      <td>1</td>\n",
              "      <td>77183.60</td>\n",
              "      <td>4</td>\n",
              "      <td>4</td>\n",
              "      <td>1</td>\n",
              "      <td>441</td>\n",
              "    </tr>\n",
              "    <tr>\n",
              "      <th>12747.0</th>\n",
              "      <td>2</td>\n",
              "      <td>103</td>\n",
              "      <td>4196.01</td>\n",
              "      <td>1</td>\n",
              "      <td>1</td>\n",
              "      <td>1</td>\n",
              "      <td>111</td>\n",
              "    </tr>\n",
              "    <tr>\n",
              "      <th>12748.0</th>\n",
              "      <td>0</td>\n",
              "      <td>4397</td>\n",
              "      <td>31650.78</td>\n",
              "      <td>1</td>\n",
              "      <td>1</td>\n",
              "      <td>1</td>\n",
              "      <td>111</td>\n",
              "    </tr>\n",
              "    <tr>\n",
              "      <th>12749.0</th>\n",
              "      <td>3</td>\n",
              "      <td>199</td>\n",
              "      <td>4090.88</td>\n",
              "      <td>1</td>\n",
              "      <td>1</td>\n",
              "      <td>1</td>\n",
              "      <td>111</td>\n",
              "    </tr>\n",
              "    <tr>\n",
              "      <th>12820.0</th>\n",
              "      <td>3</td>\n",
              "      <td>59</td>\n",
              "      <td>942.34</td>\n",
              "      <td>1</td>\n",
              "      <td>2</td>\n",
              "      <td>2</td>\n",
              "      <td>122</td>\n",
              "    </tr>\n",
              "  </tbody>\n",
              "</table>\n",
              "</div>"
            ],
            "text/plain": [
              "            Recency  Frequency  ...  M_quartile  RFM_Segment\n",
              "CustomerID                      ...                         \n",
              "12346.0         325          1  ...           1          441\n",
              "12747.0           2        103  ...           1          111\n",
              "12748.0           0       4397  ...           1          111\n",
              "12749.0           3        199  ...           1          111\n",
              "12820.0           3         59  ...           2          122\n",
              "\n",
              "[5 rows x 7 columns]"
            ]
          },
          "metadata": {
            "tags": []
          },
          "execution_count": 92
        }
      ]
    },
    {
      "cell_type": "code",
      "metadata": {
        "id": "MFSdK6hDeWst",
        "scrolled": true
      },
      "source": [
        "segmented_rfm['RFM_Score'] = segmented_rfm[['R_quartile','F_quartile','M_quartile']].sum(axis=1)\n",
        "segmented_rfm.head()\n",
        "segmented_rfm.to_excel('Segmented_RFM.xls')"
      ],
      "execution_count": null,
      "outputs": []
    },
    {
      "cell_type": "code",
      "metadata": {
        "colab": {
          "base_uri": "https://localhost:8080/"
        },
        "id": "yzyTadvSelQU",
        "outputId": "e7108498-c543-4e82-82a7-fa7b3debf8f1"
      },
      "source": [
        "print(\"Pelanggan Terbaik: \",len(segmented_rfm[segmented_rfm['RFM_Segment']=='111']))\n",
        "print(\"Transaksi Besar: \",len(segmented_rfm[segmented_rfm['M_quartile']==1]))\n",
        "print('Pelanggan Hampir Hilang: ', len(segmented_rfm[segmented_rfm['RFM_Segment']=='134']))\n",
        "print('Pelanggan yang Hilang: ',len(segmented_rfm[segmented_rfm['RFM_Segment']=='444']))"
      ],
      "execution_count": null,
      "outputs": [
        {
          "output_type": "stream",
          "text": [
            "Pelanggan Terbaik:  408\n",
            "Transaksi Besar:  980\n",
            "Pelanggan Hampir Hilang:  22\n",
            "Pelanggan yang Hilang:  341\n"
          ],
          "name": "stdout"
        }
      ]
    },
    {
      "cell_type": "markdown",
      "metadata": {
        "id": "QcSTCebDfYZ0"
      },
      "source": [
        "Strategi Pemasaran\n",
        "\n",
        "\n",
        "*   Pelanggan Terbaik : tidak ada insentif harga, produk baru, dan program loyalitas\n",
        "*   Transaksi Besar : Pemasaran produk yang paling mahal\n",
        "*   Pelanggan Hampir Hilang : Insentif harga yang agresif\n",
        "*   Pelanggan Hilang : Dibiarkan saja :)\n",
        "\n"
      ]
    },
    {
      "cell_type": "code",
      "metadata": {
        "colab": {
          "base_uri": "https://localhost:8080/"
        },
        "id": "Tj94mFm5fRfJ",
        "outputId": "f4715762-ea28-4c82-889b-ca8f93dd7c84"
      },
      "source": [
        "segmented_rfm['RFM_Score'].unique()"
      ],
      "execution_count": null,
      "outputs": [
        {
          "output_type": "execute_result",
          "data": {
            "text/plain": [
              "array([ 9,  3,  5, 12,  7,  8,  6, 10, 11,  4])"
            ]
          },
          "metadata": {
            "tags": []
          },
          "execution_count": 95
        }
      ]
    },
    {
      "cell_type": "code",
      "metadata": {
        "colab": {
          "base_uri": "https://localhost:8080/",
          "height": 406
        },
        "id": "T8CPDl4ghBed",
        "outputId": "5eb1e1c6-b271-423b-84e7-e5c14325eaea"
      },
      "source": [
        "segmented_rfm.groupby('RFM_Score').agg({\n",
        "    'Recency': 'mean',\n",
        "    'Frequency': 'mean',\n",
        "    'Monetary_Value': ['mean', 'count'] }).round(1)"
      ],
      "execution_count": null,
      "outputs": [
        {
          "output_type": "execute_result",
          "data": {
            "text/html": [
              "<div>\n",
              "<style scoped>\n",
              "    .dataframe tbody tr th:only-of-type {\n",
              "        vertical-align: middle;\n",
              "    }\n",
              "\n",
              "    .dataframe tbody tr th {\n",
              "        vertical-align: top;\n",
              "    }\n",
              "\n",
              "    .dataframe thead tr th {\n",
              "        text-align: left;\n",
              "    }\n",
              "\n",
              "    .dataframe thead tr:last-of-type th {\n",
              "        text-align: right;\n",
              "    }\n",
              "</style>\n",
              "<table border=\"1\" class=\"dataframe\">\n",
              "  <thead>\n",
              "    <tr>\n",
              "      <th></th>\n",
              "      <th>Recency</th>\n",
              "      <th>Frequency</th>\n",
              "      <th colspan=\"2\" halign=\"left\">Monetary_Value</th>\n",
              "    </tr>\n",
              "    <tr>\n",
              "      <th></th>\n",
              "      <th>mean</th>\n",
              "      <th>mean</th>\n",
              "      <th>mean</th>\n",
              "      <th>count</th>\n",
              "    </tr>\n",
              "    <tr>\n",
              "      <th>RFM_Score</th>\n",
              "      <th></th>\n",
              "      <th></th>\n",
              "      <th></th>\n",
              "      <th></th>\n",
              "    </tr>\n",
              "  </thead>\n",
              "  <tbody>\n",
              "    <tr>\n",
              "      <th>3</th>\n",
              "      <td>6.5</td>\n",
              "      <td>678.2</td>\n",
              "      <td>11793.7</td>\n",
              "      <td>408</td>\n",
              "    </tr>\n",
              "    <tr>\n",
              "      <th>4</th>\n",
              "      <td>20.1</td>\n",
              "      <td>181.9</td>\n",
              "      <td>3432.9</td>\n",
              "      <td>348</td>\n",
              "    </tr>\n",
              "    <tr>\n",
              "      <th>5</th>\n",
              "      <td>32.5</td>\n",
              "      <td>111.0</td>\n",
              "      <td>1915.2</td>\n",
              "      <td>387</td>\n",
              "    </tr>\n",
              "    <tr>\n",
              "      <th>6</th>\n",
              "      <td>46.9</td>\n",
              "      <td>77.7</td>\n",
              "      <td>1785.5</td>\n",
              "      <td>375</td>\n",
              "    </tr>\n",
              "    <tr>\n",
              "      <th>7</th>\n",
              "      <td>59.9</td>\n",
              "      <td>54.6</td>\n",
              "      <td>904.7</td>\n",
              "      <td>414</td>\n",
              "    </tr>\n",
              "    <tr>\n",
              "      <th>8</th>\n",
              "      <td>79.2</td>\n",
              "      <td>38.7</td>\n",
              "      <td>721.6</td>\n",
              "      <td>385</td>\n",
              "    </tr>\n",
              "    <tr>\n",
              "      <th>9</th>\n",
              "      <td>97.9</td>\n",
              "      <td>28.2</td>\n",
              "      <td>830.8</td>\n",
              "      <td>427</td>\n",
              "    </tr>\n",
              "    <tr>\n",
              "      <th>10</th>\n",
              "      <td>151.5</td>\n",
              "      <td>20.5</td>\n",
              "      <td>354.8</td>\n",
              "      <td>470</td>\n",
              "    </tr>\n",
              "    <tr>\n",
              "      <th>11</th>\n",
              "      <td>175.3</td>\n",
              "      <td>13.6</td>\n",
              "      <td>231.6</td>\n",
              "      <td>363</td>\n",
              "    </tr>\n",
              "    <tr>\n",
              "      <th>12</th>\n",
              "      <td>258.7</td>\n",
              "      <td>8.0</td>\n",
              "      <td>151.4</td>\n",
              "      <td>341</td>\n",
              "    </tr>\n",
              "  </tbody>\n",
              "</table>\n",
              "</div>"
            ],
            "text/plain": [
              "          Recency Frequency Monetary_Value      \n",
              "             mean      mean           mean count\n",
              "RFM_Score                                       \n",
              "3             6.5     678.2        11793.7   408\n",
              "4            20.1     181.9         3432.9   348\n",
              "5            32.5     111.0         1915.2   387\n",
              "6            46.9      77.7         1785.5   375\n",
              "7            59.9      54.6          904.7   414\n",
              "8            79.2      38.7          721.6   385\n",
              "9            97.9      28.2          830.8   427\n",
              "10          151.5      20.5          354.8   470\n",
              "11          175.3      13.6          231.6   363\n",
              "12          258.7       8.0          151.4   341"
            ]
          },
          "metadata": {
            "tags": []
          },
          "execution_count": 96
        }
      ]
    },
    {
      "cell_type": "markdown",
      "metadata": {
        "id": "d8_OKW5Qjql3"
      },
      "source": [
        "Clustering K-Means akan bekerja optimal dalam kondisi\n",
        "\n",
        "\n",
        "1.   Distribusi data tidak condong (skew)\n",
        "2.   Data distandarisasi (skala 0-1)\n",
        "\n"
      ]
    },
    {
      "cell_type": "code",
      "metadata": {
        "id": "-D74cR2fkBkY"
      },
      "source": [
        ""
      ],
      "execution_count": null,
      "outputs": []
    },
    {
      "cell_type": "code",
      "metadata": {
        "id": "u0SpfW26hGgf"
      },
      "source": [
        "def check_skew(df_skew, column):\n",
        "    skew = stats.skew(df_skew[column])\n",
        "    skewtest = stats.skewtest(df_skew[column])\n",
        "    plt.title('Distribution of ' + column)\n",
        "    sns.distplot(df_skew[column])\n",
        "    print(\"{}'s: Skew: {}, : {}\".format(column, skew, skewtest))\n",
        "    return"
      ],
      "execution_count": null,
      "outputs": []
    },
    {
      "cell_type": "code",
      "metadata": {
        "colab": {
          "base_uri": "https://localhost:8080/",
          "height": 708
        },
        "id": "Iy6YVa_MjyKg",
        "outputId": "5669a0d7-d4e0-4dd1-a545-0d1733263800"
      },
      "source": [
        "plt.figure(figsize=(9, 9))\n",
        "\n",
        "plt.subplot(3, 1, 1)\n",
        "check_skew(rfm,'Recency')\n",
        "\n",
        "plt.subplot(3, 1, 2)\n",
        "check_skew(rfm,'Frequency')\n",
        "\n",
        "plt.subplot(3, 1, 3)\n",
        "check_skew(rfm,'Monetary_Value')\n",
        "\n",
        "plt.tight_layout()\n",
        "plt.savefig('before_transform.png', format='png', dpi=1000)"
      ],
      "execution_count": null,
      "outputs": [
        {
          "output_type": "stream",
          "text": [
            "Recency's: Skew: 1.2432451112675078, : SkewtestResult(statistic=25.259407086248782, pvalue=8.927386879676582e-141)\n",
            "Frequency's: Skew: 61.607232556839975, : SkewtestResult(statistic=105.11203112492444, pvalue=0.0)\n",
            "Monetary_Value's: Skew: 54.87734323437105, : SkewtestResult(statistic=102.68713908593398, pvalue=0.0)\n"
          ],
          "name": "stdout"
        },
        {
          "output_type": "display_data",
          "data": {
            "image/png": "[encoded data removed]",
            "text/plain": [
              "<Figure size 648x648 with 3 Axes>"
            ]
          },
          "metadata": {
            "tags": []
          }
        }
      ]
    },
    {
      "cell_type": "markdown",
      "metadata": {
        "id": "sZ-SD_gSl94W"
      },
      "source": [
        "Dilakukan transformasi LOG pada data agar menghilangkan kecondongan distribusi data"
      ]
    },
    {
      "cell_type": "code",
      "metadata": {
        "id": "GqScJVRRj2c-"
      },
      "source": [
        "rfm_log = rfm.copy()"
      ],
      "execution_count": null,
      "outputs": []
    },
    {
      "cell_type": "code",
      "metadata": {
        "colab": {
          "base_uri": "https://localhost:8080/",
          "height": 708
        },
        "id": "r20ubfXPmGYY",
        "outputId": "f01add6b-067f-4c2d-f363-619a359a0427"
      },
      "source": [
        "rfm_log = np.log(rfm_log+1)\n",
        "\n",
        "plt.figure(figsize=(9, 9))\n",
        "\n",
        "plt.subplot(3, 1, 1)\n",
        "check_skew(rfm_log,'Recency')\n",
        "\n",
        "plt.subplot(3, 1, 2)\n",
        "check_skew(rfm_log,'Frequency')\n",
        "\n",
        "plt.subplot(3, 1, 3)\n",
        "check_skew(rfm_log,'Monetary_Value')\n",
        "\n",
        "plt.tight_layout()"
      ],
      "execution_count": null,
      "outputs": [
        {
          "output_type": "stream",
          "text": [
            "Recency's: Skew: -0.46415200754715585, : SkewtestResult(statistic=-11.32463372368064, pvalue=9.909220080189249e-30)\n",
            "Frequency's: Skew: 0.041032138386072226, : SkewtestResult(statistic=1.0500885165864537, pvalue=0.2936774178782543)\n",
            "Monetary_Value's: Skew: 0.4183270572117415, : SkewtestResult(statistic=10.291839024502343, pvalue=7.669731792929653e-25)\n"
          ],
          "name": "stdout"
        },
        {
          "output_type": "display_data",
          "data": {
            "image/png": "[encoded data removed]",
            "text/plain": [
              "<Figure size 648x648 with 3 Axes>"
            ]
          },
          "metadata": {
            "tags": []
          }
        }
      ]
    },
    {
      "cell_type": "code",
      "metadata": {
        "colab": {
          "base_uri": "https://localhost:8080/",
          "height": 286
        },
        "id": "ZYUxijBymRQM",
        "scrolled": true,
        "outputId": "1763ce2e-d244-4966-b401-a9bd199052fc"
      },
      "source": [
        "rfm.describe()"
      ],
      "execution_count": null,
      "outputs": [
        {
          "output_type": "execute_result",
          "data": {
            "text/html": [
              "<div>\n",
              "<style scoped>\n",
              "    .dataframe tbody tr th:only-of-type {\n",
              "        vertical-align: middle;\n",
              "    }\n",
              "\n",
              "    .dataframe tbody tr th {\n",
              "        vertical-align: top;\n",
              "    }\n",
              "\n",
              "    .dataframe thead th {\n",
              "        text-align: right;\n",
              "    }\n",
              "</style>\n",
              "<table border=\"1\" class=\"dataframe\">\n",
              "  <thead>\n",
              "    <tr style=\"text-align: right;\">\n",
              "      <th></th>\n",
              "      <th>Recency</th>\n",
              "      <th>Frequency</th>\n",
              "      <th>Monetary_Value</th>\n",
              "    </tr>\n",
              "  </thead>\n",
              "  <tbody>\n",
              "    <tr>\n",
              "      <th>count</th>\n",
              "      <td>3918.000000</td>\n",
              "      <td>3918.000000</td>\n",
              "      <td>3.918000e+03</td>\n",
              "    </tr>\n",
              "    <tr>\n",
              "      <th>mean</th>\n",
              "      <td>91.870087</td>\n",
              "      <td>122.243492</td>\n",
              "      <td>2.227370e+03</td>\n",
              "    </tr>\n",
              "    <tr>\n",
              "      <th>std</th>\n",
              "      <td>99.748296</td>\n",
              "      <td>2086.960074</td>\n",
              "      <td>2.479209e+04</td>\n",
              "    </tr>\n",
              "    <tr>\n",
              "      <th>min</th>\n",
              "      <td>0.000000</td>\n",
              "      <td>1.000000</td>\n",
              "      <td>3.750000e+00</td>\n",
              "    </tr>\n",
              "    <tr>\n",
              "      <th>25%</th>\n",
              "      <td>17.000000</td>\n",
              "      <td>17.000000</td>\n",
              "      <td>2.980275e+02</td>\n",
              "    </tr>\n",
              "    <tr>\n",
              "      <th>50%</th>\n",
              "      <td>50.000000</td>\n",
              "      <td>40.500000</td>\n",
              "      <td>6.449750e+02</td>\n",
              "    </tr>\n",
              "    <tr>\n",
              "      <th>75%</th>\n",
              "      <td>143.000000</td>\n",
              "      <td>98.000000</td>\n",
              "      <td>1.567637e+03</td>\n",
              "    </tr>\n",
              "    <tr>\n",
              "      <th>max</th>\n",
              "      <td>373.000000</td>\n",
              "      <td>130033.000000</td>\n",
              "      <td>1.482340e+06</td>\n",
              "    </tr>\n",
              "  </tbody>\n",
              "</table>\n",
              "</div>"
            ],
            "text/plain": [
              "           Recency      Frequency  Monetary_Value\n",
              "count  3918.000000    3918.000000    3.918000e+03\n",
              "mean     91.870087     122.243492    2.227370e+03\n",
              "std      99.748296    2086.960074    2.479209e+04\n",
              "min       0.000000       1.000000    3.750000e+00\n",
              "25%      17.000000      17.000000    2.980275e+02\n",
              "50%      50.000000      40.500000    6.449750e+02\n",
              "75%     143.000000      98.000000    1.567637e+03\n",
              "max     373.000000  130033.000000    1.482340e+06"
            ]
          },
          "metadata": {
            "tags": []
          },
          "execution_count": 101
        }
      ]
    },
    {
      "cell_type": "code",
      "metadata": {
        "colab": {
          "base_uri": "https://localhost:8080/"
        },
        "id": "u8eQPe15pUQ5",
        "outputId": "b1d72fa7-5a27-47dd-c8c6-623b12f25833"
      },
      "source": [
        "windsoriser = Winsorizer(capping_method='gaussian', \n",
        "                         tail='both',\n",
        "                         fold=2,\n",
        "                         variables=[ 'Recency', 'Frequency', 'Monetary_Value'])\n",
        "\n",
        "windsoriser.fit(rfm_log)"
      ],
      "execution_count": null,
      "outputs": [
        {
          "output_type": "execute_result",
          "data": {
            "text/plain": [
              "Winsorizer(capping_method='gaussian', fold=2, missing_values='raise',\n",
              "           tail='both', variables=['Recency', 'Frequency', 'Monetary_Value'])"
            ]
          },
          "metadata": {
            "tags": []
          },
          "execution_count": 102
        }
      ]
    },
    {
      "cell_type": "code",
      "metadata": {
        "id": "xHQKJYBTpZRY"
      },
      "source": [
        "rfm_log = windsoriser.transform(rfm_log)"
      ],
      "execution_count": null,
      "outputs": []
    },
    {
      "cell_type": "code",
      "metadata": {
        "colab": {
          "base_uri": "https://localhost:8080/",
          "height": 435
        },
        "id": "3JiBvpg-q7GA",
        "outputId": "eeb5a578-cc05-43b1-a3de-164b6c6fed75"
      },
      "source": [
        "rfm_log"
      ],
      "execution_count": null,
      "outputs": [
        {
          "output_type": "execute_result",
          "data": {
            "text/html": [
              "<div>\n",
              "<style scoped>\n",
              "    .dataframe tbody tr th:only-of-type {\n",
              "        vertical-align: middle;\n",
              "    }\n",
              "\n",
              "    .dataframe tbody tr th {\n",
              "        vertical-align: top;\n",
              "    }\n",
              "\n",
              "    .dataframe thead th {\n",
              "        text-align: right;\n",
              "    }\n",
              "</style>\n",
              "<table border=\"1\" class=\"dataframe\">\n",
              "  <thead>\n",
              "    <tr style=\"text-align: right;\">\n",
              "      <th></th>\n",
              "      <th>Recency</th>\n",
              "      <th>Frequency</th>\n",
              "      <th>Monetary_Value</th>\n",
              "    </tr>\n",
              "    <tr>\n",
              "      <th>CustomerID</th>\n",
              "      <th></th>\n",
              "      <th></th>\n",
              "      <th></th>\n",
              "    </tr>\n",
              "  </thead>\n",
              "  <tbody>\n",
              "    <tr>\n",
              "      <th>12346.0</th>\n",
              "      <td>5.786897</td>\n",
              "      <td>1.197419</td>\n",
              "      <td>9.040319</td>\n",
              "    </tr>\n",
              "    <tr>\n",
              "      <th>12747.0</th>\n",
              "      <td>1.098612</td>\n",
              "      <td>4.644391</td>\n",
              "      <td>8.342128</td>\n",
              "    </tr>\n",
              "    <tr>\n",
              "      <th>12748.0</th>\n",
              "      <td>1.029061</td>\n",
              "      <td>6.233999</td>\n",
              "      <td>9.040319</td>\n",
              "    </tr>\n",
              "    <tr>\n",
              "      <th>12749.0</th>\n",
              "      <td>1.386294</td>\n",
              "      <td>5.298317</td>\n",
              "      <td>8.316760</td>\n",
              "    </tr>\n",
              "    <tr>\n",
              "      <th>12820.0</th>\n",
              "      <td>1.386294</td>\n",
              "      <td>4.094345</td>\n",
              "      <td>6.849427</td>\n",
              "    </tr>\n",
              "    <tr>\n",
              "      <th>...</th>\n",
              "      <td>...</td>\n",
              "      <td>...</td>\n",
              "      <td>...</td>\n",
              "    </tr>\n",
              "    <tr>\n",
              "      <th>18281.0</th>\n",
              "      <td>5.198497</td>\n",
              "      <td>2.079442</td>\n",
              "      <td>4.404522</td>\n",
              "    </tr>\n",
              "    <tr>\n",
              "      <th>18282.0</th>\n",
              "      <td>2.079442</td>\n",
              "      <td>2.564949</td>\n",
              "      <td>5.187665</td>\n",
              "    </tr>\n",
              "    <tr>\n",
              "      <th>18283.0</th>\n",
              "      <td>1.386294</td>\n",
              "      <td>6.233999</td>\n",
              "      <td>7.620989</td>\n",
              "    </tr>\n",
              "    <tr>\n",
              "      <th>18287.0</th>\n",
              "      <td>3.761200</td>\n",
              "      <td>4.262680</td>\n",
              "      <td>7.516586</td>\n",
              "    </tr>\n",
              "    <tr>\n",
              "      <th>Guest</th>\n",
              "      <td>1.029061</td>\n",
              "      <td>6.233999</td>\n",
              "      <td>9.040319</td>\n",
              "    </tr>\n",
              "  </tbody>\n",
              "</table>\n",
              "<p>3918 rows × 3 columns</p>\n",
              "</div>"
            ],
            "text/plain": [
              "             Recency  Frequency  Monetary_Value\n",
              "CustomerID                                     \n",
              "12346.0     5.786897   1.197419        9.040319\n",
              "12747.0     1.098612   4.644391        8.342128\n",
              "12748.0     1.029061   6.233999        9.040319\n",
              "12749.0     1.386294   5.298317        8.316760\n",
              "12820.0     1.386294   4.094345        6.849427\n",
              "...              ...        ...             ...\n",
              "18281.0     5.198497   2.079442        4.404522\n",
              "18282.0     2.079442   2.564949        5.187665\n",
              "18283.0     1.386294   6.233999        7.620989\n",
              "18287.0     3.761200   4.262680        7.516586\n",
              "Guest       1.029061   6.233999        9.040319\n",
              "\n",
              "[3918 rows x 3 columns]"
            ]
          },
          "metadata": {
            "tags": []
          },
          "execution_count": 104
        }
      ]
    },
    {
      "cell_type": "code",
      "metadata": {
        "id": "WVeR7wANq80H"
      },
      "source": [
        "scaler = MinMaxScaler()\n",
        "\n",
        "scaler.fit(rfm_log)\n",
        "\n",
        "RFM_Table_scaled = scaler.transform(rfm_log)"
      ],
      "execution_count": null,
      "outputs": []
    },
    {
      "cell_type": "code",
      "metadata": {
        "id": "z_zutw-SrKVC"
      },
      "source": [
        "RFM_Table_scaled = pd.DataFrame(RFM_Table_scaled, columns=rfm_log.columns)"
      ],
      "execution_count": null,
      "outputs": []
    },
    {
      "cell_type": "code",
      "metadata": {
        "id": "-PuRkuV0rR_n",
        "scrolled": true,
        "colab": {
          "base_uri": "https://localhost:8080/",
          "height": 405
        },
        "outputId": "e7749e4d-a005-4734-88c9-d21aa8831144"
      },
      "source": [
        "RFM_Table_scaled"
      ],
      "execution_count": null,
      "outputs": [
        {
          "output_type": "execute_result",
          "data": {
            "text/html": [
              "<div>\n",
              "<style scoped>\n",
              "    .dataframe tbody tr th:only-of-type {\n",
              "        vertical-align: middle;\n",
              "    }\n",
              "\n",
              "    .dataframe tbody tr th {\n",
              "        vertical-align: top;\n",
              "    }\n",
              "\n",
              "    .dataframe thead th {\n",
              "        text-align: right;\n",
              "    }\n",
              "</style>\n",
              "<table border=\"1\" class=\"dataframe\">\n",
              "  <thead>\n",
              "    <tr style=\"text-align: right;\">\n",
              "      <th></th>\n",
              "      <th>Recency</th>\n",
              "      <th>Frequency</th>\n",
              "      <th>Monetary_Value</th>\n",
              "    </tr>\n",
              "  </thead>\n",
              "  <tbody>\n",
              "    <tr>\n",
              "      <th>0</th>\n",
              "      <td>0.971940</td>\n",
              "      <td>0.000000</td>\n",
              "      <td>1.000000</td>\n",
              "    </tr>\n",
              "    <tr>\n",
              "      <th>1</th>\n",
              "      <td>0.014208</td>\n",
              "      <td>0.684387</td>\n",
              "      <td>0.860347</td>\n",
              "    </tr>\n",
              "    <tr>\n",
              "      <th>2</th>\n",
              "      <td>0.000000</td>\n",
              "      <td>1.000000</td>\n",
              "      <td>1.000000</td>\n",
              "    </tr>\n",
              "    <tr>\n",
              "      <th>3</th>\n",
              "      <td>0.072976</td>\n",
              "      <td>0.814223</td>\n",
              "      <td>0.855273</td>\n",
              "    </tr>\n",
              "    <tr>\n",
              "      <th>4</th>\n",
              "      <td>0.072976</td>\n",
              "      <td>0.575177</td>\n",
              "      <td>0.561774</td>\n",
              "    </tr>\n",
              "    <tr>\n",
              "      <th>...</th>\n",
              "      <td>...</td>\n",
              "      <td>...</td>\n",
              "      <td>...</td>\n",
              "    </tr>\n",
              "    <tr>\n",
              "      <th>3913</th>\n",
              "      <td>0.851741</td>\n",
              "      <td>0.175123</td>\n",
              "      <td>0.072741</td>\n",
              "    </tr>\n",
              "    <tr>\n",
              "      <th>3914</th>\n",
              "      <td>0.214574</td>\n",
              "      <td>0.271520</td>\n",
              "      <td>0.229386</td>\n",
              "    </tr>\n",
              "    <tr>\n",
              "      <th>3915</th>\n",
              "      <td>0.072976</td>\n",
              "      <td>1.000000</td>\n",
              "      <td>0.716103</td>\n",
              "    </tr>\n",
              "    <tr>\n",
              "      <th>3916</th>\n",
              "      <td>0.558127</td>\n",
              "      <td>0.608600</td>\n",
              "      <td>0.695220</td>\n",
              "    </tr>\n",
              "    <tr>\n",
              "      <th>3917</th>\n",
              "      <td>0.000000</td>\n",
              "      <td>1.000000</td>\n",
              "      <td>1.000000</td>\n",
              "    </tr>\n",
              "  </tbody>\n",
              "</table>\n",
              "<p>3918 rows × 3 columns</p>\n",
              "</div>"
            ],
            "text/plain": [
              "       Recency  Frequency  Monetary_Value\n",
              "0     0.971940   0.000000        1.000000\n",
              "1     0.014208   0.684387        0.860347\n",
              "2     0.000000   1.000000        1.000000\n",
              "3     0.072976   0.814223        0.855273\n",
              "4     0.072976   0.575177        0.561774\n",
              "...        ...        ...             ...\n",
              "3913  0.851741   0.175123        0.072741\n",
              "3914  0.214574   0.271520        0.229386\n",
              "3915  0.072976   1.000000        0.716103\n",
              "3916  0.558127   0.608600        0.695220\n",
              "3917  0.000000   1.000000        1.000000\n",
              "\n",
              "[3918 rows x 3 columns]"
            ]
          },
          "metadata": {
            "tags": []
          },
          "execution_count": 107
        }
      ]
    },
    {
      "cell_type": "code",
      "metadata": {
        "id": "i48cy4L9SFJA"
      },
      "source": [
        "RFM_Table_scaled.to_excel('RFM.xls')"
      ],
      "execution_count": null,
      "outputs": []
    },
    {
      "cell_type": "markdown",
      "metadata": {
        "id": "j1zg4P91rVEW"
      },
      "source": [
        "# K-Means Clustering"
      ]
    },
    {
      "cell_type": "code",
      "metadata": {
        "id": "tKp0aQyFrXdU"
      },
      "source": [
        "from scipy.spatial.distance import cdist\n",
        "distortions = [] \n",
        "inertias = [] \n",
        "mapping1 = {} \n",
        "mapping2 = {} \n",
        "K = range(1,10) \n",
        "  \n",
        "for k in K: \n",
        "    #Building and fitting the model \n",
        "    kmeanModel = KMeans(n_clusters=k).fit(RFM_Table_scaled) \n",
        "    kmeanModel.fit(RFM_Table_scaled)     \n",
        "      \n",
        "    distortions.append(sum(np.min(cdist(RFM_Table_scaled, kmeanModel.cluster_centers_, \n",
        "                      'euclidean'),axis=1)) / RFM_Table_scaled.shape[0]) \n",
        "    inertias.append(kmeanModel.inertia_) \n",
        "  \n",
        "    mapping1[k] = sum(np.min(cdist(RFM_Table_scaled, kmeanModel.cluster_centers_, \n",
        "                 'euclidean'),axis=1)) / RFM_Table_scaled.shape[0] \n",
        "    mapping2[k] = kmeanModel.inertia_"
      ],
      "execution_count": null,
      "outputs": []
    },
    {
      "cell_type": "code",
      "metadata": {
        "colab": {
          "base_uri": "https://localhost:8080/",
          "height": 295
        },
        "id": "WFovKbxVrZ4L",
        "outputId": "fbc809d3-83ef-4b40-de7a-b6b7ce38b2ee"
      },
      "source": [
        "plt.plot(K, distortions, 'bx-') \n",
        "plt.xlabel('Values of K') \n",
        "plt.ylabel('Distortion') \n",
        "plt.title('The Elbow Method using Distortion') \n",
        "plt.show()"
      ],
      "execution_count": null,
      "outputs": [
        {
          "output_type": "display_data",
          "data": {
            "image/png": "[encoded data removed]",
            "text/plain": [
              "<Figure size 432x288 with 1 Axes>"
            ]
          },
          "metadata": {
            "tags": []
          }
        }
      ]
    },
    {
      "cell_type": "code",
      "metadata": {
        "colab": {
          "base_uri": "https://localhost:8080/",
          "height": 295
        },
        "id": "_N86DOZIrip6",
        "outputId": "98872b1d-e39f-4885-b17c-9e4aefd598fc"
      },
      "source": [
        "plt.plot(K, inertias, 'bx-') \n",
        "plt.xlabel('Values of K') \n",
        "plt.ylabel('Inertia') \n",
        "plt.title('The Elbow Method using Inertia') \n",
        "plt.show()"
      ],
      "execution_count": null,
      "outputs": [
        {
          "output_type": "display_data",
          "data": {
            "image/png": "[encoded data removed]",
            "text/plain": [
              "<Figure size 432x288 with 1 Axes>"
            ]
          },
          "metadata": {
            "tags": []
          }
        }
      ]
    },
    {
      "cell_type": "code",
      "metadata": {
        "id": "ab2Pe_Gprlm6"
      },
      "source": [
        "def kmeans(normalised_df_rfm, clusters_number, original_df_rfm):\n",
        "    \n",
        "    kmeans = KMeans(n_clusters = clusters_number, random_state = 1)\n",
        "    kmeans.fit(normalised_df_rfm)\n",
        "\n",
        "    # Extract cluster labels\n",
        "    cluster_labels = kmeans.labels_\n",
        "        \n",
        "    # Create a cluster label column in original dataset\n",
        "    df_new = original_df_rfm.assign(Cluster = cluster_labels)\n",
        "    \n",
        "    # Initialise TSNE\n",
        "    model = TSNE(random_state=1)\n",
        "    transformed = model.fit_transform(df_new)\n",
        "    \n",
        "    # Plot t-SNE\n",
        "    plt.title('Flattened Graph of {} Clusters'.format(clusters_number))\n",
        "    sns.scatterplot(x=transformed[:,0], y=transformed[:,1], hue=cluster_labels, style=cluster_labels, palette=\"Set1\")\n",
        "    \n",
        "    return df_new"
      ],
      "execution_count": null,
      "outputs": []
    },
    {
      "cell_type": "code",
      "metadata": {
        "id": "OMjGwhIUSFJB"
      },
      "source": [
        "from sklearn.cluster import KMeans"
      ],
      "execution_count": null,
      "outputs": []
    },
    {
      "cell_type": "code",
      "metadata": {
        "colab": {
          "base_uri": "https://localhost:8080/",
          "height": 406
        },
        "id": "y3nJc2jvSFJC",
        "outputId": "22285b64-7625-4661-f410-835bc4a6d582"
      },
      "source": [
        "inertia = []\n",
        "for i in range(1,13):\n",
        "    model = KMeans(n_clusters=i, random_state=42)\n",
        "    model.fit(segmented_rfm[['Frequency','Monetary_Value']])\n",
        "    inertia.append(model.inertia_)\n",
        "inertia = pd.DataFrame({'Inertia' : inertia}, index=[i for i in range(1,13)])\n",
        "inertia"
      ],
      "execution_count": null,
      "outputs": [
        {
          "output_type": "execute_result",
          "data": {
            "text/html": [
              "<div>\n",
              "<style scoped>\n",
              "    .dataframe tbody tr th:only-of-type {\n",
              "        vertical-align: middle;\n",
              "    }\n",
              "\n",
              "    .dataframe tbody tr th {\n",
              "        vertical-align: top;\n",
              "    }\n",
              "\n",
              "    .dataframe thead th {\n",
              "        text-align: right;\n",
              "    }\n",
              "</style>\n",
              "<table border=\"1\" class=\"dataframe\">\n",
              "  <thead>\n",
              "    <tr style=\"text-align: right;\">\n",
              "      <th></th>\n",
              "      <th>Inertia</th>\n",
              "    </tr>\n",
              "  </thead>\n",
              "  <tbody>\n",
              "    <tr>\n",
              "      <th>1</th>\n",
              "      <td>2.424636e+12</td>\n",
              "    </tr>\n",
              "    <tr>\n",
              "      <th>2</th>\n",
              "      <td>2.164631e+11</td>\n",
              "    </tr>\n",
              "    <tr>\n",
              "      <th>3</th>\n",
              "      <td>8.948087e+10</td>\n",
              "    </tr>\n",
              "    <tr>\n",
              "      <th>4</th>\n",
              "      <td>2.999411e+10</td>\n",
              "    </tr>\n",
              "    <tr>\n",
              "      <th>5</th>\n",
              "      <td>1.876509e+10</td>\n",
              "    </tr>\n",
              "    <tr>\n",
              "      <th>6</th>\n",
              "      <td>1.291065e+10</td>\n",
              "    </tr>\n",
              "    <tr>\n",
              "      <th>7</th>\n",
              "      <td>8.831247e+09</td>\n",
              "    </tr>\n",
              "    <tr>\n",
              "      <th>8</th>\n",
              "      <td>5.693083e+09</td>\n",
              "    </tr>\n",
              "    <tr>\n",
              "      <th>9</th>\n",
              "      <td>4.412186e+09</td>\n",
              "    </tr>\n",
              "    <tr>\n",
              "      <th>10</th>\n",
              "      <td>3.210741e+09</td>\n",
              "    </tr>\n",
              "    <tr>\n",
              "      <th>11</th>\n",
              "      <td>2.667304e+09</td>\n",
              "    </tr>\n",
              "    <tr>\n",
              "      <th>12</th>\n",
              "      <td>2.239029e+09</td>\n",
              "    </tr>\n",
              "  </tbody>\n",
              "</table>\n",
              "</div>"
            ],
            "text/plain": [
              "         Inertia\n",
              "1   2.424636e+12\n",
              "2   2.164631e+11\n",
              "3   8.948087e+10\n",
              "4   2.999411e+10\n",
              "5   1.876509e+10\n",
              "6   1.291065e+10\n",
              "7   8.831247e+09\n",
              "8   5.693083e+09\n",
              "9   4.412186e+09\n",
              "10  3.210741e+09\n",
              "11  2.667304e+09\n",
              "12  2.239029e+09"
            ]
          },
          "metadata": {
            "tags": []
          },
          "execution_count": 114
        }
      ]
    },
    {
      "cell_type": "code",
      "metadata": {
        "colab": {
          "base_uri": "https://localhost:8080/",
          "height": 530
        },
        "id": "pP_EcL_dSFJC",
        "outputId": "8524add3-af09-4c74-d304-bb01ca342a12"
      },
      "source": [
        "inertia.plot(kind='line', figsize=(15,8))\n",
        "plt.title('ELbow Method')\n",
        "plt.xlabel('K Number')"
      ],
      "execution_count": null,
      "outputs": [
        {
          "output_type": "execute_result",
          "data": {
            "text/plain": [
              "Text(0.5, 0, 'K Number')"
            ]
          },
          "metadata": {
            "tags": []
          },
          "execution_count": 115
        },
        {
          "output_type": "display_data",
          "data": {
            "image/png": "[encoded data removed]",
            "text/plain": [
              "<Figure size 1080x576 with 1 Axes>"
            ]
          },
          "metadata": {
            "tags": []
          }
        }
      ]
    },
    {
      "cell_type": "markdown",
      "metadata": {
        "id": "33Foe_LNSFJC"
      },
      "source": [
        "## Modeling K-Means (Frequency-Monetary)\n",
        "\n",
        "a. Modeling KMeans n=4"
      ]
    },
    {
      "cell_type": "code",
      "metadata": {
        "colab": {
          "base_uri": "https://localhost:8080/"
        },
        "id": "MiVIvh1dSFJC",
        "outputId": "e3a799dc-f486-48d2-a4bb-eb0ef71587a6"
      },
      "source": [
        "modelKM = KMeans(n_clusters=4, max_iter=10000, random_state=42)\n",
        "modelKM.fit(RFM_Table_scaled[['Frequency','Monetary_Value']])"
      ],
      "execution_count": null,
      "outputs": [
        {
          "output_type": "execute_result",
          "data": {
            "text/plain": [
              "KMeans(algorithm='auto', copy_x=True, init='k-means++', max_iter=10000,\n",
              "       n_clusters=4, n_init=10, n_jobs=None, precompute_distances='auto',\n",
              "       random_state=42, tol=0.0001, verbose=0)"
            ]
          },
          "metadata": {
            "tags": []
          },
          "execution_count": 116
        }
      ]
    },
    {
      "cell_type": "code",
      "metadata": {
        "id": "bB--UsSOSFJD"
      },
      "source": [
        "RFM_Table_scaled['Cluster'] = modelKM.predict(RFM_Table_scaled[['Frequency','Monetary_Value']])"
      ],
      "execution_count": null,
      "outputs": []
    },
    {
      "cell_type": "code",
      "metadata": {
        "scrolled": false,
        "colab": {
          "base_uri": "https://localhost:8080/",
          "height": 769
        },
        "id": "AbHJBOOXSFJD",
        "outputId": "f1b20cb0-a03b-47bc-9e3f-91834ad8bec3"
      },
      "source": [
        "sns.relplot(x='Frequency',y='Monetary_Value',data=RFM_Table_scaled, hue='Cluster', aspect=1, height=10)\n",
        "plt.title('Clusters Based Frequency and Monetary of Customers', fontsize= 20)\n",
        "plt.ylabel('Monetary', fontsize=15)\n",
        "plt.xlabel('Frequency', fontsize=15)\n",
        "plt.show()"
      ],
      "execution_count": null,
      "outputs": [
        {
          "output_type": "display_data",
          "data": {
            "image/png": "[encoded data removed]",
            "text/plain": [
              "<Figure size 763.5x720 with 1 Axes>"
            ]
          },
          "metadata": {
            "tags": []
          }
        }
      ]
    }
  ]
}